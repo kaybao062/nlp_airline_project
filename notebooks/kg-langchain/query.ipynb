{
 "cells": [
  {
   "cell_type": "code",
   "execution_count": 4,
   "metadata": {},
   "outputs": [],
   "source": [
    "from langchain.chains import GraphCypherQAChain\n",
    "from langchain_community.graphs import Neo4jGraph\n",
    "from langchain_openai import ChatOpenAI\n",
    "\n",
    "graph = Neo4jGraph(\n",
    "    # enhanced_schema=True,\n",
    ")\n",
    "# print(graph.schema)"
   ]
  },
  {
   "cell_type": "code",
   "execution_count": 5,
   "metadata": {},
   "outputs": [],
   "source": [
    "# print(graph.schema)"
   ]
  },
  {
   "cell_type": "code",
   "execution_count": 6,
   "metadata": {},
   "outputs": [],
   "source": [
    "chain = GraphCypherQAChain.from_llm(\n",
    "    #llm=ChatOpenAI(\n",
    "    #    max_tokens=5000,\n",
    "    #    model=\"gpt-3.5-turbo-0125\",\n",
    "    #    # model=\"gpt-4-0125-preview\",\n",
    "    #    temperature=0,\n",
    "    #),\n",
    "    cypher_llm=ChatOpenAI(temperature=0, model=\"gpt-3.5-turbo\"),\n",
    "    qa_llm=ChatOpenAI(temperature=0, model=\"gpt-3.5-turbo-16k\"),\n",
    "    #cypher_llm=ChatOpenAI(temperature=0, model=\"gpt-4-0125-preview\"),\n",
    "    #qa_llm=ChatOpenAI(temperature=0, model=\"gpt-4-0125-preview\"),\n",
    "    graph=graph,\n",
    "    verbose=True,  \n",
    "    top_k=5,\n",
    "    include_types=[\"Food\", \"Airline\", \"Seat\", \"Airport\", \"Aircraft\", \"Amenities\", \"Refund\", \"Refunds\", \"Baggage\", \"Baggage information\", \"Delayed baggage\", \"Policy\", \"Delays\"],\n",
    "    # return_intermediate_steps=True\n",
    ")"
   ]
  },
  {
   "cell_type": "code",
   "execution_count": 20,
   "metadata": {},
   "outputs": [
    {
     "name": "stdout",
     "output_type": "stream",
     "text": [
      "\n",
      "\n",
      "\u001b[1m> Entering new GraphCypherQAChain chain...\u001b[0m\n",
      "Generated Cypher:\n",
      "\u001b[32;1m\u001b[1;3mMATCH (a:Airline {id: 'Singapore Airlines'})-[:HAS_SEAT]->(s:Seat)\n",
      "RETURN s;\u001b[0m\n",
      "Full Context:\n",
      "\u001b[32;1m\u001b[1;3m[]\u001b[0m\n",
      "\n",
      "\u001b[1m> Finished chain.\u001b[0m\n"
     ]
    },
    {
     "data": {
      "text/plain": [
       "{'query': 'What seats are available in Singapore Airlines?',\n",
       " 'result': \"I don't know the answer.\"}"
      ]
     },
     "execution_count": 20,
     "metadata": {},
     "output_type": "execute_result"
    }
   ],
   "source": [
    "# chain.invoke({\n",
    "    # seats:\n",
    "#    \"query\": \"What seats does Singapore Airlines provide?\"  # says exit row says\n",
    "    # \"query\": \"Does Singapore Airlines provide seats in the exit row?\",  # says idk\n",
    "    # \"query\": \"Does Singapore Airlines provide Exit Row seat?\",  # says yes\n",
    "    # \"query\": \"Does Singapore Airlines provide exit row seat?\",  # says no\n",
    "    # \"query\": \"What Amenities were provided on Singapore Airlines?\",  # says idk\n",
    "    # \"query\": \"Does Singapore Airlines provided Amenities?\",  # says yes\n",
    "    # \"query\": \"What Amenities are provided by Singapore Airlines?\",  # says \"provides amenities\" - does not elaborate\n",
    "    # \"query\": \"What types of Amenities are provided by Singapore Airlines?\", # says idk\n",
    "    # \"query\": \"What Amenities are provided?\", # says idk\n",
    "    # \"query\": \"What are the Amenities?\", # says Amenities, Services, Food, Welcome Drinks, Paper Menu\n",
    "    # \"query\": \"What are the Amenities on Singapore Airlines?\", # says idk\n",
    "    # \"query\": \"Tell me about refunds.\", # => 'Refunds include various types such as Refund, Cash Refund, Refunds, and Ticket/Emd Refunds.'\n",
    "    # \"query\": \"Tell me about refunds on Singapore Airlines.\", # => no results\n",
    "    # \"query\": \"Help with baggage\", # => no results\n",
    "    # \"query\": \"Tell me about baggage\", # => tells me options\n",
    "    # \"query\": \"Tell me about rules for all baggage\", # no results\n",
    "    # \"query\": \"What are the Rules For All Baggage?\", \n",
    "    # \"query\": \"What are the specific rules that apply to all types of baggage?\"\n",
    "    # \"query\": \"How big can my carry-on item be?\", # no results\n",
    "    # \"query\": \"Baggage information\",\n",
    "    # \"query\": \"Tell me avout Refunds by Spirit Airlines\"\n",
    "    # \"query\": \"What is the policy for delays?\",\n",
    "# })\n",
    "\n",
    "chain.invoke({\n",
    "    # \"query\": \"What seats does Singapore Airlines provide?\"\n",
    "    # \"query\": \"Tell me about refunds.\",\n",
    "    \"query\": \"What seats are available in Singapore Airlines?\"\n",
    "})"
   ]
  },
  {
   "cell_type": "code",
   "execution_count": null,
   "metadata": {},
   "outputs": [],
   "source": []
  }
 ],
 "metadata": {
  "kernelspec": {
   "display_name": "nlp_airline_project-fCxuAmfF",
   "language": "python",
   "name": "python3"
  },
  "language_info": {
   "codemirror_mode": {
    "name": "ipython",
    "version": 3
   },
   "file_extension": ".py",
   "mimetype": "text/x-python",
   "name": "python",
   "nbconvert_exporter": "python",
   "pygments_lexer": "ipython3",
   "version": "3.11.2"
  }
 },
 "nbformat": 4,
 "nbformat_minor": 2
}
