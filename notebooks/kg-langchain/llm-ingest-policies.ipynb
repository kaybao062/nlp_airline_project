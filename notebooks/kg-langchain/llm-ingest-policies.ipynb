{
 "cells": [
  {
   "cell_type": "markdown",
   "metadata": {},
   "source": [
    "Follow along: https://python.langchain.com/docs/use_cases/graph/constructing/"
   ]
  },
  {
   "cell_type": "code",
   "execution_count": 1,
   "metadata": {},
   "outputs": [],
   "source": [
    "import os\n",
    "import time\n",
    "\n",
    "import numpy as np\n",
    "import pandas as pd\n",
    "from dotenv import load_dotenv\n",
    "from langchain_community.document_loaders import DataFrameLoader\n",
    "from langchain_community.graphs import Neo4jGraph\n",
    "from langchain_core.documents import Document\n",
    "from langchain_core.pydantic_v1 import BaseModel, Field\n",
    "from langchain_experimental.graph_transformers import LLMGraphTransformer\n",
    "from langchain_fireworks import ChatFireworks\n",
    "from langchain_google_vertexai import ChatVertexAI\n",
    "from langchain_openai import ChatOpenAI\n",
    "from tenacity import (\n",
    "    retry,\n",
    "    stop_after_attempt,\n",
    "    wait_random_exponential,\n",
    ")  # for exponential backoff\n",
    "\n",
    "# initialize env vars - load credentials\n",
    "load_dotenv()\n",
    "\n",
    "# initialize graph db:\n",
    "graph = Neo4jGraph()\n",
    "\n",
    "llm = ChatOpenAI(\n",
    "    model=\"gpt-3.5-turbo-0125\",\n",
    "    temperature=0,\n",
    "    max_tokens=2000,\n",
    "    )\n",
    "\n",
    "# initialize graph transformer:\n",
    "llm_transformer = LLMGraphTransformer(\n",
    "    llm=llm,\n",
    "    # alternative options: (these are just examples)\n",
    "    # allowed_nodes=[\"Person\", \"Country\", \"Organization\"],\n",
    "    # allowed_relationships=[\"NATIONALITY\", \"LOCATED_IN\", \"WORKED_AT\", \"SPOUSE\"],\n",
    ")"
   ]
  },
  {
   "cell_type": "markdown",
   "metadata": {},
   "source": [
    "Read reviews, prepare reviews:"
   ]
  },
  {
   "cell_type": "code",
   "execution_count": 2,
   "metadata": {},
   "outputs": [],
   "source": [
    "def load_policies(\n",
    "    file: str = \"../data/clean/policy_chunks.csv\",\n",
    "    start_index: int = 0,\n",
    "    limit: int = 100,\n",
    "):\n",
    "    # load dataframe:\n",
    "    df = pd.read_csv(file)[start_index:start_index + limit]\n",
    "    print(f\"Loaded policies: {df.shape}\")\n",
    "    df[\"Content\"] = df.apply(lambda row: f\"{row['Header 1']}\\n{row['Header 2']}\\n{row['Concat']}\".replace(\"\\n\\n\", \"\\n\").replace(\"\\n\\n\", \"\\n\"), axis=1)\n",
    "    return df"
   ]
  },
  {
   "cell_type": "markdown",
   "metadata": {},
   "source": [
    "Total policies: 440"
   ]
  },
  {
   "cell_type": "markdown",
   "metadata": {},
   "source": [
    "Transform reviews to nodes and relationships:"
   ]
  },
  {
   "cell_type": "code",
   "execution_count": 3,
   "metadata": {},
   "outputs": [],
   "source": [
    "@retry(wait=wait_random_exponential(min=1, max=60), stop=stop_after_attempt(6))\n",
    "def convert_to_graph_documents(df: pd.DataFrame, page_content_column: str = \"Content\", llm_transformer: LLMGraphTransformer = None):\n",
    "    # graph_documents = llm_transformer.convert_to_graph_documents(documents)\n",
    "    loader = DataFrameLoader(df, page_content_column=page_content_column)\n",
    "    documents = loader.load()\n",
    "    # return  llm_transformer.convert_to_graph_documents(documents)\n",
    "    graph_documents = []\n",
    "    for doc in documents:\n",
    "        try:\n",
    "            # fireworks doesnt always return valid json\n",
    "            graph_documents += llm_transformer.convert_to_graph_documents([doc])\n",
    "        except:\n",
    "            graph_documents += [None]\n",
    "    return graph_documents"
   ]
  },
  {
   "cell_type": "markdown",
   "metadata": {},
   "source": [
    "See example graphs:"
   ]
  },
  {
   "cell_type": "code",
   "execution_count": 4,
   "metadata": {},
   "outputs": [],
   "source": [
    "# print(f\"Nodes: {graph_documents[0].nodes}\")\n",
    "# print(f\"Relationships: {graph_documents[0].relationships}\")"
   ]
  },
  {
   "cell_type": "markdown",
   "metadata": {},
   "source": [
    "Store dataframe with graph temporarily:"
   ]
  },
  {
   "cell_type": "code",
   "execution_count": 5,
   "metadata": {},
   "outputs": [],
   "source": [
    "def store_graph_locally(\n",
    "    df: pd.DataFrame,\n",
    "    docs: list,\n",
    "    path: str,\n",
    "):\n",
    "    df[\"graph\"] = [gd.json() if gd is not None else None for gd in docs]\n",
    "    df.to_csv(path, index=False)"
   ]
  },
  {
   "cell_type": "markdown",
   "metadata": {},
   "source": [
    "Storing to graph database:"
   ]
  },
  {
   "cell_type": "code",
   "execution_count": 6,
   "metadata": {},
   "outputs": [],
   "source": [
    "# graph.add_graph_documents(graph_documents)"
   ]
  },
  {
   "cell_type": "markdown",
   "metadata": {},
   "source": [
    "Iteratively load these in chunks because, well, there's... a lot."
   ]
  },
  {
   "cell_type": "code",
   "execution_count": 7,
   "metadata": {},
   "outputs": [
    {
     "name": "stdout",
     "output_type": "stream",
     "text": [
      "Loaded policies: (250, 4)\n",
      "chunk 0: 190 -> 200. (10, 5)\n",
      "chunk 0: converted\n",
      "chunk 0: saved to csv\n"
     ]
    },
    {
     "name": "stderr",
     "output_type": "stream",
     "text": [
      "/var/folders/x2/3tdlb6px40qfq870vwx5y6080000gn/T/ipykernel_36981/255753804.py:6: SettingWithCopyWarning: \n",
      "A value is trying to be set on a copy of a slice from a DataFrame.\n",
      "Try using .loc[row_indexer,col_indexer] = value instead\n",
      "\n",
      "See the caveats in the documentation: https://pandas.pydata.org/pandas-docs/stable/user_guide/indexing.html#returning-a-view-versus-a-copy\n",
      "  df[\"graph\"] = [gd.json() if gd is not None else None for gd in docs]\n"
     ]
    },
    {
     "name": "stdout",
     "output_type": "stream",
     "text": [
      "chunk 0: saved to neo4j\n",
      "move index to: 200\n",
      "chunk 1: 200 -> 210. (10, 5)\n",
      "chunk 1: converted\n",
      "chunk 1: saved to csv\n"
     ]
    },
    {
     "name": "stderr",
     "output_type": "stream",
     "text": [
      "/var/folders/x2/3tdlb6px40qfq870vwx5y6080000gn/T/ipykernel_36981/255753804.py:6: SettingWithCopyWarning: \n",
      "A value is trying to be set on a copy of a slice from a DataFrame.\n",
      "Try using .loc[row_indexer,col_indexer] = value instead\n",
      "\n",
      "See the caveats in the documentation: https://pandas.pydata.org/pandas-docs/stable/user_guide/indexing.html#returning-a-view-versus-a-copy\n",
      "  df[\"graph\"] = [gd.json() if gd is not None else None for gd in docs]\n"
     ]
    },
    {
     "name": "stdout",
     "output_type": "stream",
     "text": [
      "chunk 1: saved to neo4j\n",
      "move index to: 210\n",
      "chunk 2: 210 -> 220. (10, 5)\n",
      "chunk 2: converted\n",
      "chunk 2: saved to csv\n"
     ]
    },
    {
     "name": "stderr",
     "output_type": "stream",
     "text": [
      "/var/folders/x2/3tdlb6px40qfq870vwx5y6080000gn/T/ipykernel_36981/255753804.py:6: SettingWithCopyWarning: \n",
      "A value is trying to be set on a copy of a slice from a DataFrame.\n",
      "Try using .loc[row_indexer,col_indexer] = value instead\n",
      "\n",
      "See the caveats in the documentation: https://pandas.pydata.org/pandas-docs/stable/user_guide/indexing.html#returning-a-view-versus-a-copy\n",
      "  df[\"graph\"] = [gd.json() if gd is not None else None for gd in docs]\n"
     ]
    },
    {
     "name": "stdout",
     "output_type": "stream",
     "text": [
      "chunk 2: saved to neo4j\n",
      "move index to: 220\n",
      "chunk 3: 220 -> 230. (10, 5)\n",
      "chunk 3: converted\n",
      "chunk 3: saved to csv\n"
     ]
    },
    {
     "name": "stderr",
     "output_type": "stream",
     "text": [
      "/var/folders/x2/3tdlb6px40qfq870vwx5y6080000gn/T/ipykernel_36981/255753804.py:6: SettingWithCopyWarning: \n",
      "A value is trying to be set on a copy of a slice from a DataFrame.\n",
      "Try using .loc[row_indexer,col_indexer] = value instead\n",
      "\n",
      "See the caveats in the documentation: https://pandas.pydata.org/pandas-docs/stable/user_guide/indexing.html#returning-a-view-versus-a-copy\n",
      "  df[\"graph\"] = [gd.json() if gd is not None else None for gd in docs]\n"
     ]
    },
    {
     "name": "stdout",
     "output_type": "stream",
     "text": [
      "chunk 3: saved to neo4j\n",
      "move index to: 230\n",
      "chunk 4: 230 -> 240. (10, 5)\n",
      "chunk 4: converted\n",
      "chunk 4: saved to csv\n"
     ]
    },
    {
     "name": "stderr",
     "output_type": "stream",
     "text": [
      "/var/folders/x2/3tdlb6px40qfq870vwx5y6080000gn/T/ipykernel_36981/255753804.py:6: SettingWithCopyWarning: \n",
      "A value is trying to be set on a copy of a slice from a DataFrame.\n",
      "Try using .loc[row_indexer,col_indexer] = value instead\n",
      "\n",
      "See the caveats in the documentation: https://pandas.pydata.org/pandas-docs/stable/user_guide/indexing.html#returning-a-view-versus-a-copy\n",
      "  df[\"graph\"] = [gd.json() if gd is not None else None for gd in docs]\n"
     ]
    },
    {
     "name": "stdout",
     "output_type": "stream",
     "text": [
      "chunk 4: saved to neo4j\n",
      "move index to: 240\n",
      "chunk 5: 240 -> 250. (10, 5)\n",
      "chunk 5: converted\n",
      "chunk 5: saved to csv\n"
     ]
    },
    {
     "name": "stderr",
     "output_type": "stream",
     "text": [
      "/var/folders/x2/3tdlb6px40qfq870vwx5y6080000gn/T/ipykernel_36981/255753804.py:6: SettingWithCopyWarning: \n",
      "A value is trying to be set on a copy of a slice from a DataFrame.\n",
      "Try using .loc[row_indexer,col_indexer] = value instead\n",
      "\n",
      "See the caveats in the documentation: https://pandas.pydata.org/pandas-docs/stable/user_guide/indexing.html#returning-a-view-versus-a-copy\n",
      "  df[\"graph\"] = [gd.json() if gd is not None else None for gd in docs]\n"
     ]
    },
    {
     "name": "stdout",
     "output_type": "stream",
     "text": [
      "chunk 5: saved to neo4j\n",
      "move index to: 250\n",
      "chunk 6: 250 -> 260. (10, 5)\n",
      "chunk 6: converted\n",
      "chunk 6: saved to csv\n"
     ]
    },
    {
     "name": "stderr",
     "output_type": "stream",
     "text": [
      "/var/folders/x2/3tdlb6px40qfq870vwx5y6080000gn/T/ipykernel_36981/255753804.py:6: SettingWithCopyWarning: \n",
      "A value is trying to be set on a copy of a slice from a DataFrame.\n",
      "Try using .loc[row_indexer,col_indexer] = value instead\n",
      "\n",
      "See the caveats in the documentation: https://pandas.pydata.org/pandas-docs/stable/user_guide/indexing.html#returning-a-view-versus-a-copy\n",
      "  df[\"graph\"] = [gd.json() if gd is not None else None for gd in docs]\n"
     ]
    },
    {
     "name": "stdout",
     "output_type": "stream",
     "text": [
      "chunk 6: saved to neo4j\n",
      "move index to: 260\n",
      "chunk 7: 260 -> 270. (10, 5)\n",
      "chunk 7: converted\n",
      "chunk 7: saved to csv\n"
     ]
    },
    {
     "name": "stderr",
     "output_type": "stream",
     "text": [
      "/var/folders/x2/3tdlb6px40qfq870vwx5y6080000gn/T/ipykernel_36981/255753804.py:6: SettingWithCopyWarning: \n",
      "A value is trying to be set on a copy of a slice from a DataFrame.\n",
      "Try using .loc[row_indexer,col_indexer] = value instead\n",
      "\n",
      "See the caveats in the documentation: https://pandas.pydata.org/pandas-docs/stable/user_guide/indexing.html#returning-a-view-versus-a-copy\n",
      "  df[\"graph\"] = [gd.json() if gd is not None else None for gd in docs]\n"
     ]
    },
    {
     "name": "stdout",
     "output_type": "stream",
     "text": [
      "chunk 7: saved to neo4j\n",
      "move index to: 270\n",
      "chunk 8: 270 -> 280. (10, 5)\n",
      "chunk 8: converted\n",
      "chunk 8: saved to csv\n"
     ]
    },
    {
     "name": "stderr",
     "output_type": "stream",
     "text": [
      "/var/folders/x2/3tdlb6px40qfq870vwx5y6080000gn/T/ipykernel_36981/255753804.py:6: SettingWithCopyWarning: \n",
      "A value is trying to be set on a copy of a slice from a DataFrame.\n",
      "Try using .loc[row_indexer,col_indexer] = value instead\n",
      "\n",
      "See the caveats in the documentation: https://pandas.pydata.org/pandas-docs/stable/user_guide/indexing.html#returning-a-view-versus-a-copy\n",
      "  df[\"graph\"] = [gd.json() if gd is not None else None for gd in docs]\n"
     ]
    },
    {
     "name": "stdout",
     "output_type": "stream",
     "text": [
      "chunk 8: saved to neo4j\n",
      "move index to: 280\n",
      "chunk 9: 280 -> 290. (10, 5)\n",
      "chunk 9: converted\n",
      "chunk 9: saved to csv\n"
     ]
    },
    {
     "name": "stderr",
     "output_type": "stream",
     "text": [
      "/var/folders/x2/3tdlb6px40qfq870vwx5y6080000gn/T/ipykernel_36981/255753804.py:6: SettingWithCopyWarning: \n",
      "A value is trying to be set on a copy of a slice from a DataFrame.\n",
      "Try using .loc[row_indexer,col_indexer] = value instead\n",
      "\n",
      "See the caveats in the documentation: https://pandas.pydata.org/pandas-docs/stable/user_guide/indexing.html#returning-a-view-versus-a-copy\n",
      "  df[\"graph\"] = [gd.json() if gd is not None else None for gd in docs]\n"
     ]
    },
    {
     "name": "stdout",
     "output_type": "stream",
     "text": [
      "chunk 9: saved to neo4j\n",
      "move index to: 290\n",
      "chunk 10: 290 -> 300. (10, 5)\n",
      "chunk 10: converted\n",
      "chunk 10: saved to csv\n"
     ]
    },
    {
     "name": "stderr",
     "output_type": "stream",
     "text": [
      "/var/folders/x2/3tdlb6px40qfq870vwx5y6080000gn/T/ipykernel_36981/255753804.py:6: SettingWithCopyWarning: \n",
      "A value is trying to be set on a copy of a slice from a DataFrame.\n",
      "Try using .loc[row_indexer,col_indexer] = value instead\n",
      "\n",
      "See the caveats in the documentation: https://pandas.pydata.org/pandas-docs/stable/user_guide/indexing.html#returning-a-view-versus-a-copy\n",
      "  df[\"graph\"] = [gd.json() if gd is not None else None for gd in docs]\n"
     ]
    },
    {
     "name": "stdout",
     "output_type": "stream",
     "text": [
      "chunk 10: saved to neo4j\n",
      "move index to: 300\n",
      "chunk 11: 300 -> 310. (10, 5)\n",
      "chunk 11: converted\n",
      "chunk 11: saved to csv\n"
     ]
    },
    {
     "name": "stderr",
     "output_type": "stream",
     "text": [
      "/var/folders/x2/3tdlb6px40qfq870vwx5y6080000gn/T/ipykernel_36981/255753804.py:6: SettingWithCopyWarning: \n",
      "A value is trying to be set on a copy of a slice from a DataFrame.\n",
      "Try using .loc[row_indexer,col_indexer] = value instead\n",
      "\n",
      "See the caveats in the documentation: https://pandas.pydata.org/pandas-docs/stable/user_guide/indexing.html#returning-a-view-versus-a-copy\n",
      "  df[\"graph\"] = [gd.json() if gd is not None else None for gd in docs]\n"
     ]
    },
    {
     "name": "stdout",
     "output_type": "stream",
     "text": [
      "chunk 11: saved to neo4j\n",
      "move index to: 310\n",
      "chunk 12: 310 -> 320. (10, 5)\n",
      "chunk 12: converted\n",
      "chunk 12: saved to csv\n"
     ]
    },
    {
     "name": "stderr",
     "output_type": "stream",
     "text": [
      "/var/folders/x2/3tdlb6px40qfq870vwx5y6080000gn/T/ipykernel_36981/255753804.py:6: SettingWithCopyWarning: \n",
      "A value is trying to be set on a copy of a slice from a DataFrame.\n",
      "Try using .loc[row_indexer,col_indexer] = value instead\n",
      "\n",
      "See the caveats in the documentation: https://pandas.pydata.org/pandas-docs/stable/user_guide/indexing.html#returning-a-view-versus-a-copy\n",
      "  df[\"graph\"] = [gd.json() if gd is not None else None for gd in docs]\n"
     ]
    },
    {
     "name": "stdout",
     "output_type": "stream",
     "text": [
      "chunk 12: saved to neo4j\n",
      "move index to: 320\n",
      "chunk 13: 320 -> 330. (10, 5)\n",
      "chunk 13: converted\n",
      "chunk 13: saved to csv\n"
     ]
    },
    {
     "name": "stderr",
     "output_type": "stream",
     "text": [
      "/var/folders/x2/3tdlb6px40qfq870vwx5y6080000gn/T/ipykernel_36981/255753804.py:6: SettingWithCopyWarning: \n",
      "A value is trying to be set on a copy of a slice from a DataFrame.\n",
      "Try using .loc[row_indexer,col_indexer] = value instead\n",
      "\n",
      "See the caveats in the documentation: https://pandas.pydata.org/pandas-docs/stable/user_guide/indexing.html#returning-a-view-versus-a-copy\n",
      "  df[\"graph\"] = [gd.json() if gd is not None else None for gd in docs]\n"
     ]
    },
    {
     "name": "stdout",
     "output_type": "stream",
     "text": [
      "chunk 13: saved to neo4j\n",
      "move index to: 330\n",
      "chunk 14: 330 -> 340. (10, 5)\n",
      "chunk 14: converted\n",
      "chunk 14: saved to csv\n"
     ]
    },
    {
     "name": "stderr",
     "output_type": "stream",
     "text": [
      "/var/folders/x2/3tdlb6px40qfq870vwx5y6080000gn/T/ipykernel_36981/255753804.py:6: SettingWithCopyWarning: \n",
      "A value is trying to be set on a copy of a slice from a DataFrame.\n",
      "Try using .loc[row_indexer,col_indexer] = value instead\n",
      "\n",
      "See the caveats in the documentation: https://pandas.pydata.org/pandas-docs/stable/user_guide/indexing.html#returning-a-view-versus-a-copy\n",
      "  df[\"graph\"] = [gd.json() if gd is not None else None for gd in docs]\n"
     ]
    },
    {
     "name": "stdout",
     "output_type": "stream",
     "text": [
      "chunk 14: saved to neo4j\n",
      "move index to: 340\n",
      "chunk 15: 340 -> 350. (10, 5)\n",
      "chunk 15: converted\n",
      "chunk 15: saved to csv\n"
     ]
    },
    {
     "name": "stderr",
     "output_type": "stream",
     "text": [
      "/var/folders/x2/3tdlb6px40qfq870vwx5y6080000gn/T/ipykernel_36981/255753804.py:6: SettingWithCopyWarning: \n",
      "A value is trying to be set on a copy of a slice from a DataFrame.\n",
      "Try using .loc[row_indexer,col_indexer] = value instead\n",
      "\n",
      "See the caveats in the documentation: https://pandas.pydata.org/pandas-docs/stable/user_guide/indexing.html#returning-a-view-versus-a-copy\n",
      "  df[\"graph\"] = [gd.json() if gd is not None else None for gd in docs]\n"
     ]
    },
    {
     "name": "stdout",
     "output_type": "stream",
     "text": [
      "chunk 15: saved to neo4j\n",
      "move index to: 350\n",
      "chunk 16: 350 -> 360. (10, 5)\n",
      "chunk 16: converted\n",
      "chunk 16: saved to csv\n"
     ]
    },
    {
     "name": "stderr",
     "output_type": "stream",
     "text": [
      "/var/folders/x2/3tdlb6px40qfq870vwx5y6080000gn/T/ipykernel_36981/255753804.py:6: SettingWithCopyWarning: \n",
      "A value is trying to be set on a copy of a slice from a DataFrame.\n",
      "Try using .loc[row_indexer,col_indexer] = value instead\n",
      "\n",
      "See the caveats in the documentation: https://pandas.pydata.org/pandas-docs/stable/user_guide/indexing.html#returning-a-view-versus-a-copy\n",
      "  df[\"graph\"] = [gd.json() if gd is not None else None for gd in docs]\n"
     ]
    },
    {
     "name": "stdout",
     "output_type": "stream",
     "text": [
      "chunk 16: saved to neo4j\n",
      "move index to: 360\n",
      "chunk 17: 360 -> 370. (10, 5)\n",
      "chunk 17: converted\n",
      "chunk 17: saved to csv\n"
     ]
    },
    {
     "name": "stderr",
     "output_type": "stream",
     "text": [
      "/var/folders/x2/3tdlb6px40qfq870vwx5y6080000gn/T/ipykernel_36981/255753804.py:6: SettingWithCopyWarning: \n",
      "A value is trying to be set on a copy of a slice from a DataFrame.\n",
      "Try using .loc[row_indexer,col_indexer] = value instead\n",
      "\n",
      "See the caveats in the documentation: https://pandas.pydata.org/pandas-docs/stable/user_guide/indexing.html#returning-a-view-versus-a-copy\n",
      "  df[\"graph\"] = [gd.json() if gd is not None else None for gd in docs]\n"
     ]
    },
    {
     "name": "stdout",
     "output_type": "stream",
     "text": [
      "chunk 17: saved to neo4j\n",
      "move index to: 370\n",
      "chunk 18: 370 -> 380. (10, 5)\n",
      "chunk 18: converted\n",
      "chunk 18: saved to csv\n"
     ]
    },
    {
     "name": "stderr",
     "output_type": "stream",
     "text": [
      "/var/folders/x2/3tdlb6px40qfq870vwx5y6080000gn/T/ipykernel_36981/255753804.py:6: SettingWithCopyWarning: \n",
      "A value is trying to be set on a copy of a slice from a DataFrame.\n",
      "Try using .loc[row_indexer,col_indexer] = value instead\n",
      "\n",
      "See the caveats in the documentation: https://pandas.pydata.org/pandas-docs/stable/user_guide/indexing.html#returning-a-view-versus-a-copy\n",
      "  df[\"graph\"] = [gd.json() if gd is not None else None for gd in docs]\n"
     ]
    },
    {
     "name": "stdout",
     "output_type": "stream",
     "text": [
      "chunk 18: saved to neo4j\n",
      "move index to: 380\n",
      "chunk 19: 380 -> 390. (10, 5)\n",
      "chunk 19: converted\n",
      "chunk 19: saved to csv\n"
     ]
    },
    {
     "name": "stderr",
     "output_type": "stream",
     "text": [
      "/var/folders/x2/3tdlb6px40qfq870vwx5y6080000gn/T/ipykernel_36981/255753804.py:6: SettingWithCopyWarning: \n",
      "A value is trying to be set on a copy of a slice from a DataFrame.\n",
      "Try using .loc[row_indexer,col_indexer] = value instead\n",
      "\n",
      "See the caveats in the documentation: https://pandas.pydata.org/pandas-docs/stable/user_guide/indexing.html#returning-a-view-versus-a-copy\n",
      "  df[\"graph\"] = [gd.json() if gd is not None else None for gd in docs]\n"
     ]
    },
    {
     "name": "stdout",
     "output_type": "stream",
     "text": [
      "chunk 19: saved to neo4j\n",
      "move index to: 390\n",
      "chunk 20: 390 -> 400. (10, 5)\n",
      "chunk 20: converted\n",
      "chunk 20: saved to csv\n"
     ]
    },
    {
     "name": "stderr",
     "output_type": "stream",
     "text": [
      "/var/folders/x2/3tdlb6px40qfq870vwx5y6080000gn/T/ipykernel_36981/255753804.py:6: SettingWithCopyWarning: \n",
      "A value is trying to be set on a copy of a slice from a DataFrame.\n",
      "Try using .loc[row_indexer,col_indexer] = value instead\n",
      "\n",
      "See the caveats in the documentation: https://pandas.pydata.org/pandas-docs/stable/user_guide/indexing.html#returning-a-view-versus-a-copy\n",
      "  df[\"graph\"] = [gd.json() if gd is not None else None for gd in docs]\n"
     ]
    },
    {
     "name": "stdout",
     "output_type": "stream",
     "text": [
      "chunk 20: saved to neo4j\n",
      "move index to: 400\n",
      "chunk 21: 400 -> 410. (10, 5)\n",
      "chunk 21: converted\n",
      "chunk 21: saved to csv\n"
     ]
    },
    {
     "name": "stderr",
     "output_type": "stream",
     "text": [
      "/var/folders/x2/3tdlb6px40qfq870vwx5y6080000gn/T/ipykernel_36981/255753804.py:6: SettingWithCopyWarning: \n",
      "A value is trying to be set on a copy of a slice from a DataFrame.\n",
      "Try using .loc[row_indexer,col_indexer] = value instead\n",
      "\n",
      "See the caveats in the documentation: https://pandas.pydata.org/pandas-docs/stable/user_guide/indexing.html#returning-a-view-versus-a-copy\n",
      "  df[\"graph\"] = [gd.json() if gd is not None else None for gd in docs]\n"
     ]
    },
    {
     "name": "stdout",
     "output_type": "stream",
     "text": [
      "chunk 21: saved to neo4j\n",
      "move index to: 410\n",
      "chunk 22: 410 -> 420. (10, 5)\n",
      "chunk 22: converted\n",
      "chunk 22: saved to csv\n"
     ]
    },
    {
     "name": "stderr",
     "output_type": "stream",
     "text": [
      "/var/folders/x2/3tdlb6px40qfq870vwx5y6080000gn/T/ipykernel_36981/255753804.py:6: SettingWithCopyWarning: \n",
      "A value is trying to be set on a copy of a slice from a DataFrame.\n",
      "Try using .loc[row_indexer,col_indexer] = value instead\n",
      "\n",
      "See the caveats in the documentation: https://pandas.pydata.org/pandas-docs/stable/user_guide/indexing.html#returning-a-view-versus-a-copy\n",
      "  df[\"graph\"] = [gd.json() if gd is not None else None for gd in docs]\n"
     ]
    },
    {
     "name": "stdout",
     "output_type": "stream",
     "text": [
      "chunk 22: saved to neo4j\n",
      "move index to: 420\n",
      "chunk 23: 420 -> 430. (10, 5)\n",
      "chunk 23: converted\n",
      "chunk 23: saved to csv\n"
     ]
    },
    {
     "name": "stderr",
     "output_type": "stream",
     "text": [
      "/var/folders/x2/3tdlb6px40qfq870vwx5y6080000gn/T/ipykernel_36981/255753804.py:6: SettingWithCopyWarning: \n",
      "A value is trying to be set on a copy of a slice from a DataFrame.\n",
      "Try using .loc[row_indexer,col_indexer] = value instead\n",
      "\n",
      "See the caveats in the documentation: https://pandas.pydata.org/pandas-docs/stable/user_guide/indexing.html#returning-a-view-versus-a-copy\n",
      "  df[\"graph\"] = [gd.json() if gd is not None else None for gd in docs]\n"
     ]
    },
    {
     "name": "stdout",
     "output_type": "stream",
     "text": [
      "chunk 23: saved to neo4j\n",
      "move index to: 430\n",
      "chunk 24: 430 -> 440. (10, 5)\n",
      "chunk 24: converted\n",
      "chunk 24: saved to csv\n"
     ]
    },
    {
     "name": "stderr",
     "output_type": "stream",
     "text": [
      "/var/folders/x2/3tdlb6px40qfq870vwx5y6080000gn/T/ipykernel_36981/255753804.py:6: SettingWithCopyWarning: \n",
      "A value is trying to be set on a copy of a slice from a DataFrame.\n",
      "Try using .loc[row_indexer,col_indexer] = value instead\n",
      "\n",
      "See the caveats in the documentation: https://pandas.pydata.org/pandas-docs/stable/user_guide/indexing.html#returning-a-view-versus-a-copy\n",
      "  df[\"graph\"] = [gd.json() if gd is not None else None for gd in docs]\n"
     ]
    },
    {
     "name": "stdout",
     "output_type": "stream",
     "text": [
      "chunk 24: saved to neo4j\n",
      "move index to: 440\n"
     ]
    }
   ],
   "source": [
    "import time\n",
    "\n",
    "# earlier:\n",
    "# combination of fireworks and others\n",
    "\n",
    "# together.ai: mixtral \n",
    "#start_index = 300\n",
    "#limit = 500\n",
    "#chunk_size = 10\n",
    "\n",
    "start_index = 190\n",
    "limit = 10000\n",
    "chunk_size = 10\n",
    "\n",
    "\n",
    "def chunker(seq, size):\n",
    "    return (seq[pos:pos + size] for pos in range(0, len(seq), size))\n",
    "\n",
    "\n",
    "graph_docs = []\n",
    "\n",
    "policies_df = load_policies(start_index=start_index, limit=limit)\n",
    "for idx, chunk_df in enumerate(chunker(policies_df, chunk_size)):\n",
    "    idx_start = start_index + (idx * chunk_size)\n",
    "    idx_end = start_index + ((idx + 1) * chunk_size)\n",
    "    print(f\"chunk {idx}: {idx_start} -> {idx_end}. {chunk_df.shape}\")\n",
    "\n",
    "    chunk_graph_docs = convert_to_graph_documents(chunk_df, llm_transformer=llm_transformer)\n",
    "    graph_docs += chunk_graph_docs\n",
    "    print(f\"chunk {idx}: converted\")\n",
    "\n",
    "    store_graph_locally(chunk_df, chunk_graph_docs, f\"../data/transformed/policies/policies-graph-{idx_start}-{idx_end}.csv\")\n",
    "    print(f\"chunk {idx}: saved to csv\")\n",
    "\n",
    "    chunk_graph_docs = list(filter(None, chunk_graph_docs))\n",
    "    graph.add_graph_documents(chunk_graph_docs)\n",
    "    print(f\"chunk {idx}: saved to neo4j\")\n",
    "    print(f\"move index to: {idx_end}\")\n",
    "\n",
    "    time.sleep(1)"
   ]
  }
 ],
 "metadata": {
  "kernelspec": {
   "display_name": "nlp_airline_project-fCxuAmfF",
   "language": "python",
   "name": "python3"
  },
  "language_info": {
   "codemirror_mode": {
    "name": "ipython",
    "version": 3
   },
   "file_extension": ".py",
   "mimetype": "text/x-python",
   "name": "python",
   "nbconvert_exporter": "python",
   "pygments_lexer": "ipython3",
   "version": "3.11.2"
  }
 },
 "nbformat": 4,
 "nbformat_minor": 2
}
