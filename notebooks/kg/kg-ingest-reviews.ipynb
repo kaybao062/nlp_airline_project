{
 "cells": [
  {
   "cell_type": "markdown",
   "metadata": {},
   "source": [
    "Follow along: https://python.langchain.com/docs/use_cases/graph/constructing/"
   ]
  },
  {
   "cell_type": "code",
   "execution_count": 1,
   "metadata": {},
   "outputs": [],
   "source": [
    "import os\n",
    "import time\n",
    "\n",
    "import numpy as np\n",
    "import pandas as pd\n",
    "from dotenv import load_dotenv\n",
    "from langchain_community.document_loaders import DataFrameLoader\n",
    "from langchain_community.graphs import Neo4jGraph\n",
    "from langchain_core.documents import Document\n",
    "from langchain_core.pydantic_v1 import BaseModel, Field\n",
    "from langchain_experimental.graph_transformers import LLMGraphTransformer\n",
    "from langchain_fireworks import ChatFireworks\n",
    "from langchain_google_vertexai import ChatVertexAI\n",
    "from langchain_openai import ChatOpenAI\n",
    "from tenacity import (\n",
    "    retry,\n",
    "    stop_after_attempt,\n",
    "    wait_random_exponential,\n",
    ")  # for exponential backoff\n",
    "\n",
    "\n",
    "\n",
    "# initialize env vars - load credentials\n",
    "load_dotenv()\n",
    "\n",
    "# initialize graph db:\n",
    "graph = Neo4jGraph()\n",
    "\n",
    "# initialize llm:\n",
    "# llm = ChatFireworks(\n",
    "#    model=\"accounts/fireworks/models/firefunction-v1\",\n",
    "#    max_tokens=5_000,\n",
    "    # model=\"accounts/fireworks/models/llama-v3-70b-instruct\",\n",
    "    # prompt_truncate_len=3_000,\n",
    "    # response_format={\"type\": \"json_object\"},\n",
    "    # context_length_exceeded_behavior=\"error\",\n",
    "# )\n",
    "\n",
    "# llm = ChatOpenAI(\n",
    "#    base_url=\"https://api.together.xyz/v1\",\n",
    "#    api_key=os.environ[\"TOGETHER_API_KEY\"],\n",
    "#    model=\"mistralai/Mixtral-8x7B-Instruct-v0.1\",\n",
    "#)\n",
    "\n",
    "# llm = ChatVertexAI(model_name=\"gemini-pro\")\n",
    "\n",
    "#llm = ChatOpenAI(\n",
    "#    temperature=0,\n",
    "#    # model_name=\"gpt-4-0125-preview\",\n",
    "#    model_name=\"gpt-3.5-turbo-instruct\",\n",
    "# )\n",
    "\n",
    "llm = ChatOpenAI(\n",
    "    model=\"gpt-3.5-turbo-0125\",\n",
    "    temperature=0,\n",
    "    max_tokens=2000,\n",
    "    )\n",
    "\n",
    "# initialize graph transformer:\n",
    "llm_transformer = LLMGraphTransformer(\n",
    "    llm=llm,\n",
    "    # alternative options: (these are just examples)\n",
    "    # allowed_nodes=[\"Person\", \"Country\", \"Organization\"],\n",
    "    # allowed_relationships=[\"NATIONALITY\", \"LOCATED_IN\", \"WORKED_AT\", \"SPOUSE\"],\n",
    ")"
   ]
  },
  {
   "cell_type": "markdown",
   "metadata": {},
   "source": [
    "Read reviews, prepare reviews:"
   ]
  },
  {
   "cell_type": "code",
   "execution_count": 2,
   "metadata": {},
   "outputs": [],
   "source": [
    "def load_reviews(\n",
    "    file: str = \"../data/clean/cleaned_reviews.csv\",\n",
    "    start_index: int = 0,\n",
    "    limit: int = 100,\n",
    "):\n",
    "    # load dataframe:\n",
    "    reviews_df = pd.read_csv(file)[start_index:start_index + limit]\n",
    "    print(f\"Loaded reviews: {reviews_df.shape}\")\n",
    "    reviews_df[\"Content\"] = reviews_df.apply(lambda row: f\"{row['Review Title']}\\n{row['Review Content']}\", axis=1)\n",
    "    return reviews_df"
   ]
  },
  {
   "cell_type": "markdown",
   "metadata": {},
   "source": [
    "Total reviews: 28,950. Average time per 10 queries: 1m6s. Expected time for 28,9k: 60 hours."
   ]
  },
  {
   "cell_type": "markdown",
   "metadata": {},
   "source": [
    "Transform reviews to nodes and relationships:"
   ]
  },
  {
   "cell_type": "code",
   "execution_count": 3,
   "metadata": {},
   "outputs": [],
   "source": [
    "@retry(wait=wait_random_exponential(min=1, max=60), stop=stop_after_attempt(6))\n",
    "def convert_to_graph_documents(df: pd.DataFrame, page_content_column: str = \"Content\"):\n",
    "    # graph_documents = llm_transformer.convert_to_graph_documents(documents)\n",
    "    loader = DataFrameLoader(df, page_content_column=page_content_column)\n",
    "    documents = loader.load()\n",
    "    # return  llm_transformer.convert_to_graph_documents(documents)\n",
    "    graph_documents = []\n",
    "    for doc in documents:\n",
    "        try:\n",
    "            # fireworks doesnt always return valid json\n",
    "            graph_documents += llm_transformer.convert_to_graph_documents([doc])\n",
    "        except:\n",
    "            graph_documents += [None]\n",
    "    return graph_documents"
   ]
  },
  {
   "cell_type": "markdown",
   "metadata": {},
   "source": [
    "See example graphs:"
   ]
  },
  {
   "cell_type": "code",
   "execution_count": 4,
   "metadata": {},
   "outputs": [],
   "source": [
    "# print(f\"Nodes: {graph_documents[0].nodes}\")\n",
    "# print(f\"Relationships: {graph_documents[0].relationships}\")"
   ]
  },
  {
   "cell_type": "markdown",
   "metadata": {},
   "source": [
    "Store dataframe with graph temporarily:"
   ]
  },
  {
   "cell_type": "code",
   "execution_count": 5,
   "metadata": {},
   "outputs": [],
   "source": [
    "def store_graph_locally(\n",
    "    df: pd.DataFrame,\n",
    "    docs: list,\n",
    "    path: str,\n",
    "):\n",
    "    df[\"graph\"] = [gd.json() if gd is not None else None for gd in docs]\n",
    "    df.to_csv(path, index=False)"
   ]
  },
  {
   "cell_type": "markdown",
   "metadata": {},
   "source": [
    "Storing to graph database:"
   ]
  },
  {
   "cell_type": "code",
   "execution_count": 6,
   "metadata": {},
   "outputs": [],
   "source": [
    "# graph.add_graph_documents(graph_documents)"
   ]
  },
  {
   "cell_type": "markdown",
   "metadata": {},
   "source": [
    "Iteratively load these in chunks because, well, there's... a lot."
   ]
  },
  {
   "cell_type": "code",
   "execution_count": 7,
   "metadata": {},
   "outputs": [
    {
     "name": "stdout",
     "output_type": "stream",
     "text": [
      "Loaded reviews: (10000, 15)\n",
      "chunk 0: 1180 -> 1190. (10, 16)\n",
      "chunk 0: converted\n",
      "chunk 0: saved to csv\n"
     ]
    },
    {
     "name": "stderr",
     "output_type": "stream",
     "text": [
      "/var/folders/x2/3tdlb6px40qfq870vwx5y6080000gn/T/ipykernel_39139/255753804.py:6: SettingWithCopyWarning: \n",
      "A value is trying to be set on a copy of a slice from a DataFrame.\n",
      "Try using .loc[row_indexer,col_indexer] = value instead\n",
      "\n",
      "See the caveats in the documentation: https://pandas.pydata.org/pandas-docs/stable/user_guide/indexing.html#returning-a-view-versus-a-copy\n",
      "  df[\"graph\"] = [gd.json() if gd is not None else None for gd in docs]\n"
     ]
    },
    {
     "name": "stdout",
     "output_type": "stream",
     "text": [
      "chunk 0: saved to neo4j\n",
      "move index to: 1190\n",
      "chunk 1: 1190 -> 1200. (10, 16)\n",
      "chunk 1: converted\n",
      "chunk 1: saved to csv\n"
     ]
    },
    {
     "name": "stderr",
     "output_type": "stream",
     "text": [
      "/var/folders/x2/3tdlb6px40qfq870vwx5y6080000gn/T/ipykernel_39139/255753804.py:6: SettingWithCopyWarning: \n",
      "A value is trying to be set on a copy of a slice from a DataFrame.\n",
      "Try using .loc[row_indexer,col_indexer] = value instead\n",
      "\n",
      "See the caveats in the documentation: https://pandas.pydata.org/pandas-docs/stable/user_guide/indexing.html#returning-a-view-versus-a-copy\n",
      "  df[\"graph\"] = [gd.json() if gd is not None else None for gd in docs]\n"
     ]
    },
    {
     "name": "stdout",
     "output_type": "stream",
     "text": [
      "chunk 1: saved to neo4j\n",
      "move index to: 1200\n",
      "chunk 2: 1200 -> 1210. (10, 16)\n",
      "chunk 2: converted\n",
      "chunk 2: saved to csv\n"
     ]
    },
    {
     "name": "stderr",
     "output_type": "stream",
     "text": [
      "/var/folders/x2/3tdlb6px40qfq870vwx5y6080000gn/T/ipykernel_39139/255753804.py:6: SettingWithCopyWarning: \n",
      "A value is trying to be set on a copy of a slice from a DataFrame.\n",
      "Try using .loc[row_indexer,col_indexer] = value instead\n",
      "\n",
      "See the caveats in the documentation: https://pandas.pydata.org/pandas-docs/stable/user_guide/indexing.html#returning-a-view-versus-a-copy\n",
      "  df[\"graph\"] = [gd.json() if gd is not None else None for gd in docs]\n"
     ]
    },
    {
     "name": "stdout",
     "output_type": "stream",
     "text": [
      "chunk 2: saved to neo4j\n",
      "move index to: 1210\n",
      "chunk 3: 1210 -> 1220. (10, 16)\n",
      "chunk 3: converted\n",
      "chunk 3: saved to csv\n"
     ]
    },
    {
     "name": "stderr",
     "output_type": "stream",
     "text": [
      "/var/folders/x2/3tdlb6px40qfq870vwx5y6080000gn/T/ipykernel_39139/255753804.py:6: SettingWithCopyWarning: \n",
      "A value is trying to be set on a copy of a slice from a DataFrame.\n",
      "Try using .loc[row_indexer,col_indexer] = value instead\n",
      "\n",
      "See the caveats in the documentation: https://pandas.pydata.org/pandas-docs/stable/user_guide/indexing.html#returning-a-view-versus-a-copy\n",
      "  df[\"graph\"] = [gd.json() if gd is not None else None for gd in docs]\n"
     ]
    },
    {
     "name": "stdout",
     "output_type": "stream",
     "text": [
      "chunk 3: saved to neo4j\n",
      "move index to: 1220\n",
      "chunk 4: 1220 -> 1230. (10, 16)\n",
      "chunk 4: converted\n",
      "chunk 4: saved to csv\n"
     ]
    },
    {
     "name": "stderr",
     "output_type": "stream",
     "text": [
      "/var/folders/x2/3tdlb6px40qfq870vwx5y6080000gn/T/ipykernel_39139/255753804.py:6: SettingWithCopyWarning: \n",
      "A value is trying to be set on a copy of a slice from a DataFrame.\n",
      "Try using .loc[row_indexer,col_indexer] = value instead\n",
      "\n",
      "See the caveats in the documentation: https://pandas.pydata.org/pandas-docs/stable/user_guide/indexing.html#returning-a-view-versus-a-copy\n",
      "  df[\"graph\"] = [gd.json() if gd is not None else None for gd in docs]\n"
     ]
    },
    {
     "name": "stdout",
     "output_type": "stream",
     "text": [
      "chunk 4: saved to neo4j\n",
      "move index to: 1230\n",
      "chunk 5: 1230 -> 1240. (10, 16)\n",
      "chunk 5: converted\n",
      "chunk 5: saved to csv\n"
     ]
    },
    {
     "name": "stderr",
     "output_type": "stream",
     "text": [
      "/var/folders/x2/3tdlb6px40qfq870vwx5y6080000gn/T/ipykernel_39139/255753804.py:6: SettingWithCopyWarning: \n",
      "A value is trying to be set on a copy of a slice from a DataFrame.\n",
      "Try using .loc[row_indexer,col_indexer] = value instead\n",
      "\n",
      "See the caveats in the documentation: https://pandas.pydata.org/pandas-docs/stable/user_guide/indexing.html#returning-a-view-versus-a-copy\n",
      "  df[\"graph\"] = [gd.json() if gd is not None else None for gd in docs]\n"
     ]
    },
    {
     "name": "stdout",
     "output_type": "stream",
     "text": [
      "chunk 5: saved to neo4j\n",
      "move index to: 1240\n",
      "chunk 6: 1240 -> 1250. (10, 16)\n",
      "chunk 6: converted\n",
      "chunk 6: saved to csv\n"
     ]
    },
    {
     "name": "stderr",
     "output_type": "stream",
     "text": [
      "/var/folders/x2/3tdlb6px40qfq870vwx5y6080000gn/T/ipykernel_39139/255753804.py:6: SettingWithCopyWarning: \n",
      "A value is trying to be set on a copy of a slice from a DataFrame.\n",
      "Try using .loc[row_indexer,col_indexer] = value instead\n",
      "\n",
      "See the caveats in the documentation: https://pandas.pydata.org/pandas-docs/stable/user_guide/indexing.html#returning-a-view-versus-a-copy\n",
      "  df[\"graph\"] = [gd.json() if gd is not None else None for gd in docs]\n"
     ]
    },
    {
     "name": "stdout",
     "output_type": "stream",
     "text": [
      "chunk 6: saved to neo4j\n",
      "move index to: 1250\n",
      "chunk 7: 1250 -> 1260. (10, 16)\n",
      "chunk 7: converted\n",
      "chunk 7: saved to csv\n"
     ]
    },
    {
     "name": "stderr",
     "output_type": "stream",
     "text": [
      "/var/folders/x2/3tdlb6px40qfq870vwx5y6080000gn/T/ipykernel_39139/255753804.py:6: SettingWithCopyWarning: \n",
      "A value is trying to be set on a copy of a slice from a DataFrame.\n",
      "Try using .loc[row_indexer,col_indexer] = value instead\n",
      "\n",
      "See the caveats in the documentation: https://pandas.pydata.org/pandas-docs/stable/user_guide/indexing.html#returning-a-view-versus-a-copy\n",
      "  df[\"graph\"] = [gd.json() if gd is not None else None for gd in docs]\n"
     ]
    },
    {
     "name": "stdout",
     "output_type": "stream",
     "text": [
      "chunk 7: saved to neo4j\n",
      "move index to: 1260\n",
      "chunk 8: 1260 -> 1270. (10, 16)\n",
      "chunk 8: converted\n",
      "chunk 8: saved to csv\n"
     ]
    },
    {
     "name": "stderr",
     "output_type": "stream",
     "text": [
      "/var/folders/x2/3tdlb6px40qfq870vwx5y6080000gn/T/ipykernel_39139/255753804.py:6: SettingWithCopyWarning: \n",
      "A value is trying to be set on a copy of a slice from a DataFrame.\n",
      "Try using .loc[row_indexer,col_indexer] = value instead\n",
      "\n",
      "See the caveats in the documentation: https://pandas.pydata.org/pandas-docs/stable/user_guide/indexing.html#returning-a-view-versus-a-copy\n",
      "  df[\"graph\"] = [gd.json() if gd is not None else None for gd in docs]\n"
     ]
    },
    {
     "name": "stdout",
     "output_type": "stream",
     "text": [
      "chunk 8: saved to neo4j\n",
      "move index to: 1270\n",
      "chunk 9: 1270 -> 1280. (10, 16)\n",
      "chunk 9: converted\n",
      "chunk 9: saved to csv\n"
     ]
    },
    {
     "name": "stderr",
     "output_type": "stream",
     "text": [
      "/var/folders/x2/3tdlb6px40qfq870vwx5y6080000gn/T/ipykernel_39139/255753804.py:6: SettingWithCopyWarning: \n",
      "A value is trying to be set on a copy of a slice from a DataFrame.\n",
      "Try using .loc[row_indexer,col_indexer] = value instead\n",
      "\n",
      "See the caveats in the documentation: https://pandas.pydata.org/pandas-docs/stable/user_guide/indexing.html#returning-a-view-versus-a-copy\n",
      "  df[\"graph\"] = [gd.json() if gd is not None else None for gd in docs]\n"
     ]
    },
    {
     "name": "stdout",
     "output_type": "stream",
     "text": [
      "chunk 9: saved to neo4j\n",
      "move index to: 1280\n",
      "chunk 10: 1280 -> 1290. (10, 16)\n",
      "chunk 10: converted\n",
      "chunk 10: saved to csv\n"
     ]
    },
    {
     "name": "stderr",
     "output_type": "stream",
     "text": [
      "/var/folders/x2/3tdlb6px40qfq870vwx5y6080000gn/T/ipykernel_39139/255753804.py:6: SettingWithCopyWarning: \n",
      "A value is trying to be set on a copy of a slice from a DataFrame.\n",
      "Try using .loc[row_indexer,col_indexer] = value instead\n",
      "\n",
      "See the caveats in the documentation: https://pandas.pydata.org/pandas-docs/stable/user_guide/indexing.html#returning-a-view-versus-a-copy\n",
      "  df[\"graph\"] = [gd.json() if gd is not None else None for gd in docs]\n"
     ]
    },
    {
     "name": "stdout",
     "output_type": "stream",
     "text": [
      "chunk 10: saved to neo4j\n",
      "move index to: 1290\n",
      "chunk 11: 1290 -> 1300. (10, 16)\n",
      "chunk 11: converted\n",
      "chunk 11: saved to csv\n"
     ]
    },
    {
     "name": "stderr",
     "output_type": "stream",
     "text": [
      "/var/folders/x2/3tdlb6px40qfq870vwx5y6080000gn/T/ipykernel_39139/255753804.py:6: SettingWithCopyWarning: \n",
      "A value is trying to be set on a copy of a slice from a DataFrame.\n",
      "Try using .loc[row_indexer,col_indexer] = value instead\n",
      "\n",
      "See the caveats in the documentation: https://pandas.pydata.org/pandas-docs/stable/user_guide/indexing.html#returning-a-view-versus-a-copy\n",
      "  df[\"graph\"] = [gd.json() if gd is not None else None for gd in docs]\n"
     ]
    },
    {
     "name": "stdout",
     "output_type": "stream",
     "text": [
      "chunk 11: saved to neo4j\n",
      "move index to: 1300\n",
      "chunk 12: 1300 -> 1310. (10, 16)\n",
      "chunk 12: converted\n",
      "chunk 12: saved to csv\n"
     ]
    },
    {
     "name": "stderr",
     "output_type": "stream",
     "text": [
      "/var/folders/x2/3tdlb6px40qfq870vwx5y6080000gn/T/ipykernel_39139/255753804.py:6: SettingWithCopyWarning: \n",
      "A value is trying to be set on a copy of a slice from a DataFrame.\n",
      "Try using .loc[row_indexer,col_indexer] = value instead\n",
      "\n",
      "See the caveats in the documentation: https://pandas.pydata.org/pandas-docs/stable/user_guide/indexing.html#returning-a-view-versus-a-copy\n",
      "  df[\"graph\"] = [gd.json() if gd is not None else None for gd in docs]\n"
     ]
    },
    {
     "name": "stdout",
     "output_type": "stream",
     "text": [
      "chunk 12: saved to neo4j\n",
      "move index to: 1310\n",
      "chunk 13: 1310 -> 1320. (10, 16)\n",
      "chunk 13: converted\n",
      "chunk 13: saved to csv\n"
     ]
    },
    {
     "name": "stderr",
     "output_type": "stream",
     "text": [
      "/var/folders/x2/3tdlb6px40qfq870vwx5y6080000gn/T/ipykernel_39139/255753804.py:6: SettingWithCopyWarning: \n",
      "A value is trying to be set on a copy of a slice from a DataFrame.\n",
      "Try using .loc[row_indexer,col_indexer] = value instead\n",
      "\n",
      "See the caveats in the documentation: https://pandas.pydata.org/pandas-docs/stable/user_guide/indexing.html#returning-a-view-versus-a-copy\n",
      "  df[\"graph\"] = [gd.json() if gd is not None else None for gd in docs]\n"
     ]
    },
    {
     "name": "stdout",
     "output_type": "stream",
     "text": [
      "chunk 13: saved to neo4j\n",
      "move index to: 1320\n",
      "chunk 14: 1320 -> 1330. (10, 16)\n",
      "chunk 14: converted\n",
      "chunk 14: saved to csv\n"
     ]
    },
    {
     "name": "stderr",
     "output_type": "stream",
     "text": [
      "/var/folders/x2/3tdlb6px40qfq870vwx5y6080000gn/T/ipykernel_39139/255753804.py:6: SettingWithCopyWarning: \n",
      "A value is trying to be set on a copy of a slice from a DataFrame.\n",
      "Try using .loc[row_indexer,col_indexer] = value instead\n",
      "\n",
      "See the caveats in the documentation: https://pandas.pydata.org/pandas-docs/stable/user_guide/indexing.html#returning-a-view-versus-a-copy\n",
      "  df[\"graph\"] = [gd.json() if gd is not None else None for gd in docs]\n"
     ]
    },
    {
     "name": "stdout",
     "output_type": "stream",
     "text": [
      "chunk 14: saved to neo4j\n",
      "move index to: 1330\n",
      "chunk 15: 1330 -> 1340. (10, 16)\n",
      "chunk 15: converted\n",
      "chunk 15: saved to csv\n"
     ]
    },
    {
     "name": "stderr",
     "output_type": "stream",
     "text": [
      "/var/folders/x2/3tdlb6px40qfq870vwx5y6080000gn/T/ipykernel_39139/255753804.py:6: SettingWithCopyWarning: \n",
      "A value is trying to be set on a copy of a slice from a DataFrame.\n",
      "Try using .loc[row_indexer,col_indexer] = value instead\n",
      "\n",
      "See the caveats in the documentation: https://pandas.pydata.org/pandas-docs/stable/user_guide/indexing.html#returning-a-view-versus-a-copy\n",
      "  df[\"graph\"] = [gd.json() if gd is not None else None for gd in docs]\n"
     ]
    },
    {
     "name": "stdout",
     "output_type": "stream",
     "text": [
      "chunk 15: saved to neo4j\n",
      "move index to: 1340\n",
      "chunk 16: 1340 -> 1350. (10, 16)\n",
      "chunk 16: converted\n",
      "chunk 16: saved to csv\n"
     ]
    },
    {
     "name": "stderr",
     "output_type": "stream",
     "text": [
      "/var/folders/x2/3tdlb6px40qfq870vwx5y6080000gn/T/ipykernel_39139/255753804.py:6: SettingWithCopyWarning: \n",
      "A value is trying to be set on a copy of a slice from a DataFrame.\n",
      "Try using .loc[row_indexer,col_indexer] = value instead\n",
      "\n",
      "See the caveats in the documentation: https://pandas.pydata.org/pandas-docs/stable/user_guide/indexing.html#returning-a-view-versus-a-copy\n",
      "  df[\"graph\"] = [gd.json() if gd is not None else None for gd in docs]\n"
     ]
    },
    {
     "name": "stdout",
     "output_type": "stream",
     "text": [
      "chunk 16: saved to neo4j\n",
      "move index to: 1350\n",
      "chunk 17: 1350 -> 1360. (10, 16)\n",
      "chunk 17: converted\n",
      "chunk 17: saved to csv\n"
     ]
    },
    {
     "name": "stderr",
     "output_type": "stream",
     "text": [
      "/var/folders/x2/3tdlb6px40qfq870vwx5y6080000gn/T/ipykernel_39139/255753804.py:6: SettingWithCopyWarning: \n",
      "A value is trying to be set on a copy of a slice from a DataFrame.\n",
      "Try using .loc[row_indexer,col_indexer] = value instead\n",
      "\n",
      "See the caveats in the documentation: https://pandas.pydata.org/pandas-docs/stable/user_guide/indexing.html#returning-a-view-versus-a-copy\n",
      "  df[\"graph\"] = [gd.json() if gd is not None else None for gd in docs]\n"
     ]
    },
    {
     "name": "stdout",
     "output_type": "stream",
     "text": [
      "chunk 17: saved to neo4j\n",
      "move index to: 1360\n",
      "chunk 18: 1360 -> 1370. (10, 16)\n",
      "chunk 18: converted\n",
      "chunk 18: saved to csv\n"
     ]
    },
    {
     "name": "stderr",
     "output_type": "stream",
     "text": [
      "/var/folders/x2/3tdlb6px40qfq870vwx5y6080000gn/T/ipykernel_39139/255753804.py:6: SettingWithCopyWarning: \n",
      "A value is trying to be set on a copy of a slice from a DataFrame.\n",
      "Try using .loc[row_indexer,col_indexer] = value instead\n",
      "\n",
      "See the caveats in the documentation: https://pandas.pydata.org/pandas-docs/stable/user_guide/indexing.html#returning-a-view-versus-a-copy\n",
      "  df[\"graph\"] = [gd.json() if gd is not None else None for gd in docs]\n"
     ]
    },
    {
     "name": "stdout",
     "output_type": "stream",
     "text": [
      "chunk 18: saved to neo4j\n",
      "move index to: 1370\n",
      "chunk 19: 1370 -> 1380. (10, 16)\n",
      "chunk 19: converted\n",
      "chunk 19: saved to csv\n"
     ]
    },
    {
     "name": "stderr",
     "output_type": "stream",
     "text": [
      "/var/folders/x2/3tdlb6px40qfq870vwx5y6080000gn/T/ipykernel_39139/255753804.py:6: SettingWithCopyWarning: \n",
      "A value is trying to be set on a copy of a slice from a DataFrame.\n",
      "Try using .loc[row_indexer,col_indexer] = value instead\n",
      "\n",
      "See the caveats in the documentation: https://pandas.pydata.org/pandas-docs/stable/user_guide/indexing.html#returning-a-view-versus-a-copy\n",
      "  df[\"graph\"] = [gd.json() if gd is not None else None for gd in docs]\n"
     ]
    },
    {
     "name": "stdout",
     "output_type": "stream",
     "text": [
      "chunk 19: saved to neo4j\n",
      "move index to: 1380\n",
      "chunk 20: 1380 -> 1390. (10, 16)\n",
      "chunk 20: converted\n",
      "chunk 20: saved to csv\n"
     ]
    },
    {
     "name": "stderr",
     "output_type": "stream",
     "text": [
      "/var/folders/x2/3tdlb6px40qfq870vwx5y6080000gn/T/ipykernel_39139/255753804.py:6: SettingWithCopyWarning: \n",
      "A value is trying to be set on a copy of a slice from a DataFrame.\n",
      "Try using .loc[row_indexer,col_indexer] = value instead\n",
      "\n",
      "See the caveats in the documentation: https://pandas.pydata.org/pandas-docs/stable/user_guide/indexing.html#returning-a-view-versus-a-copy\n",
      "  df[\"graph\"] = [gd.json() if gd is not None else None for gd in docs]\n"
     ]
    },
    {
     "name": "stdout",
     "output_type": "stream",
     "text": [
      "chunk 20: saved to neo4j\n",
      "move index to: 1390\n",
      "chunk 21: 1390 -> 1400. (10, 16)\n",
      "chunk 21: converted\n",
      "chunk 21: saved to csv\n"
     ]
    },
    {
     "name": "stderr",
     "output_type": "stream",
     "text": [
      "/var/folders/x2/3tdlb6px40qfq870vwx5y6080000gn/T/ipykernel_39139/255753804.py:6: SettingWithCopyWarning: \n",
      "A value is trying to be set on a copy of a slice from a DataFrame.\n",
      "Try using .loc[row_indexer,col_indexer] = value instead\n",
      "\n",
      "See the caveats in the documentation: https://pandas.pydata.org/pandas-docs/stable/user_guide/indexing.html#returning-a-view-versus-a-copy\n",
      "  df[\"graph\"] = [gd.json() if gd is not None else None for gd in docs]\n"
     ]
    },
    {
     "name": "stdout",
     "output_type": "stream",
     "text": [
      "chunk 21: saved to neo4j\n",
      "move index to: 1400\n",
      "chunk 22: 1400 -> 1410. (10, 16)\n",
      "chunk 22: converted\n",
      "chunk 22: saved to csv\n"
     ]
    },
    {
     "name": "stderr",
     "output_type": "stream",
     "text": [
      "/var/folders/x2/3tdlb6px40qfq870vwx5y6080000gn/T/ipykernel_39139/255753804.py:6: SettingWithCopyWarning: \n",
      "A value is trying to be set on a copy of a slice from a DataFrame.\n",
      "Try using .loc[row_indexer,col_indexer] = value instead\n",
      "\n",
      "See the caveats in the documentation: https://pandas.pydata.org/pandas-docs/stable/user_guide/indexing.html#returning-a-view-versus-a-copy\n",
      "  df[\"graph\"] = [gd.json() if gd is not None else None for gd in docs]\n"
     ]
    },
    {
     "name": "stdout",
     "output_type": "stream",
     "text": [
      "chunk 22: saved to neo4j\n",
      "move index to: 1410\n",
      "chunk 23: 1410 -> 1420. (10, 16)\n",
      "chunk 23: converted\n",
      "chunk 23: saved to csv\n"
     ]
    },
    {
     "name": "stderr",
     "output_type": "stream",
     "text": [
      "/var/folders/x2/3tdlb6px40qfq870vwx5y6080000gn/T/ipykernel_39139/255753804.py:6: SettingWithCopyWarning: \n",
      "A value is trying to be set on a copy of a slice from a DataFrame.\n",
      "Try using .loc[row_indexer,col_indexer] = value instead\n",
      "\n",
      "See the caveats in the documentation: https://pandas.pydata.org/pandas-docs/stable/user_guide/indexing.html#returning-a-view-versus-a-copy\n",
      "  df[\"graph\"] = [gd.json() if gd is not None else None for gd in docs]\n"
     ]
    },
    {
     "name": "stdout",
     "output_type": "stream",
     "text": [
      "chunk 23: saved to neo4j\n",
      "move index to: 1420\n",
      "chunk 24: 1420 -> 1430. (10, 16)\n",
      "chunk 24: converted\n",
      "chunk 24: saved to csv\n"
     ]
    },
    {
     "name": "stderr",
     "output_type": "stream",
     "text": [
      "/var/folders/x2/3tdlb6px40qfq870vwx5y6080000gn/T/ipykernel_39139/255753804.py:6: SettingWithCopyWarning: \n",
      "A value is trying to be set on a copy of a slice from a DataFrame.\n",
      "Try using .loc[row_indexer,col_indexer] = value instead\n",
      "\n",
      "See the caveats in the documentation: https://pandas.pydata.org/pandas-docs/stable/user_guide/indexing.html#returning-a-view-versus-a-copy\n",
      "  df[\"graph\"] = [gd.json() if gd is not None else None for gd in docs]\n"
     ]
    },
    {
     "name": "stdout",
     "output_type": "stream",
     "text": [
      "chunk 24: saved to neo4j\n",
      "move index to: 1430\n",
      "chunk 25: 1430 -> 1440. (10, 16)\n",
      "chunk 25: converted\n",
      "chunk 25: saved to csv\n"
     ]
    },
    {
     "name": "stderr",
     "output_type": "stream",
     "text": [
      "/var/folders/x2/3tdlb6px40qfq870vwx5y6080000gn/T/ipykernel_39139/255753804.py:6: SettingWithCopyWarning: \n",
      "A value is trying to be set on a copy of a slice from a DataFrame.\n",
      "Try using .loc[row_indexer,col_indexer] = value instead\n",
      "\n",
      "See the caveats in the documentation: https://pandas.pydata.org/pandas-docs/stable/user_guide/indexing.html#returning-a-view-versus-a-copy\n",
      "  df[\"graph\"] = [gd.json() if gd is not None else None for gd in docs]\n"
     ]
    },
    {
     "name": "stdout",
     "output_type": "stream",
     "text": [
      "chunk 25: saved to neo4j\n",
      "move index to: 1440\n",
      "chunk 26: 1440 -> 1450. (10, 16)\n",
      "chunk 26: converted\n",
      "chunk 26: saved to csv\n"
     ]
    },
    {
     "name": "stderr",
     "output_type": "stream",
     "text": [
      "/var/folders/x2/3tdlb6px40qfq870vwx5y6080000gn/T/ipykernel_39139/255753804.py:6: SettingWithCopyWarning: \n",
      "A value is trying to be set on a copy of a slice from a DataFrame.\n",
      "Try using .loc[row_indexer,col_indexer] = value instead\n",
      "\n",
      "See the caveats in the documentation: https://pandas.pydata.org/pandas-docs/stable/user_guide/indexing.html#returning-a-view-versus-a-copy\n",
      "  df[\"graph\"] = [gd.json() if gd is not None else None for gd in docs]\n"
     ]
    },
    {
     "name": "stdout",
     "output_type": "stream",
     "text": [
      "chunk 26: saved to neo4j\n",
      "move index to: 1450\n",
      "chunk 27: 1450 -> 1460. (10, 16)\n",
      "chunk 27: converted\n",
      "chunk 27: saved to csv\n"
     ]
    },
    {
     "name": "stderr",
     "output_type": "stream",
     "text": [
      "/var/folders/x2/3tdlb6px40qfq870vwx5y6080000gn/T/ipykernel_39139/255753804.py:6: SettingWithCopyWarning: \n",
      "A value is trying to be set on a copy of a slice from a DataFrame.\n",
      "Try using .loc[row_indexer,col_indexer] = value instead\n",
      "\n",
      "See the caveats in the documentation: https://pandas.pydata.org/pandas-docs/stable/user_guide/indexing.html#returning-a-view-versus-a-copy\n",
      "  df[\"graph\"] = [gd.json() if gd is not None else None for gd in docs]\n"
     ]
    },
    {
     "name": "stdout",
     "output_type": "stream",
     "text": [
      "chunk 27: saved to neo4j\n",
      "move index to: 1460\n",
      "chunk 28: 1460 -> 1470. (10, 16)\n",
      "chunk 28: converted\n",
      "chunk 28: saved to csv\n"
     ]
    },
    {
     "name": "stderr",
     "output_type": "stream",
     "text": [
      "/var/folders/x2/3tdlb6px40qfq870vwx5y6080000gn/T/ipykernel_39139/255753804.py:6: SettingWithCopyWarning: \n",
      "A value is trying to be set on a copy of a slice from a DataFrame.\n",
      "Try using .loc[row_indexer,col_indexer] = value instead\n",
      "\n",
      "See the caveats in the documentation: https://pandas.pydata.org/pandas-docs/stable/user_guide/indexing.html#returning-a-view-versus-a-copy\n",
      "  df[\"graph\"] = [gd.json() if gd is not None else None for gd in docs]\n"
     ]
    },
    {
     "name": "stdout",
     "output_type": "stream",
     "text": [
      "chunk 28: saved to neo4j\n",
      "move index to: 1470\n",
      "chunk 29: 1470 -> 1480. (10, 16)\n",
      "chunk 29: converted\n",
      "chunk 29: saved to csv\n"
     ]
    },
    {
     "name": "stderr",
     "output_type": "stream",
     "text": [
      "/var/folders/x2/3tdlb6px40qfq870vwx5y6080000gn/T/ipykernel_39139/255753804.py:6: SettingWithCopyWarning: \n",
      "A value is trying to be set on a copy of a slice from a DataFrame.\n",
      "Try using .loc[row_indexer,col_indexer] = value instead\n",
      "\n",
      "See the caveats in the documentation: https://pandas.pydata.org/pandas-docs/stable/user_guide/indexing.html#returning-a-view-versus-a-copy\n",
      "  df[\"graph\"] = [gd.json() if gd is not None else None for gd in docs]\n"
     ]
    },
    {
     "name": "stdout",
     "output_type": "stream",
     "text": [
      "chunk 29: saved to neo4j\n",
      "move index to: 1480\n",
      "chunk 30: 1480 -> 1490. (10, 16)\n",
      "chunk 30: converted\n",
      "chunk 30: saved to csv\n"
     ]
    },
    {
     "name": "stderr",
     "output_type": "stream",
     "text": [
      "/var/folders/x2/3tdlb6px40qfq870vwx5y6080000gn/T/ipykernel_39139/255753804.py:6: SettingWithCopyWarning: \n",
      "A value is trying to be set on a copy of a slice from a DataFrame.\n",
      "Try using .loc[row_indexer,col_indexer] = value instead\n",
      "\n",
      "See the caveats in the documentation: https://pandas.pydata.org/pandas-docs/stable/user_guide/indexing.html#returning-a-view-versus-a-copy\n",
      "  df[\"graph\"] = [gd.json() if gd is not None else None for gd in docs]\n"
     ]
    },
    {
     "name": "stdout",
     "output_type": "stream",
     "text": [
      "chunk 30: saved to neo4j\n",
      "move index to: 1490\n",
      "chunk 31: 1490 -> 1500. (10, 16)\n",
      "chunk 31: converted\n",
      "chunk 31: saved to csv\n"
     ]
    },
    {
     "name": "stderr",
     "output_type": "stream",
     "text": [
      "/var/folders/x2/3tdlb6px40qfq870vwx5y6080000gn/T/ipykernel_39139/255753804.py:6: SettingWithCopyWarning: \n",
      "A value is trying to be set on a copy of a slice from a DataFrame.\n",
      "Try using .loc[row_indexer,col_indexer] = value instead\n",
      "\n",
      "See the caveats in the documentation: https://pandas.pydata.org/pandas-docs/stable/user_guide/indexing.html#returning-a-view-versus-a-copy\n",
      "  df[\"graph\"] = [gd.json() if gd is not None else None for gd in docs]\n"
     ]
    },
    {
     "name": "stdout",
     "output_type": "stream",
     "text": [
      "chunk 31: saved to neo4j\n",
      "move index to: 1500\n",
      "chunk 32: 1500 -> 1510. (10, 16)\n",
      "chunk 32: converted\n",
      "chunk 32: saved to csv\n"
     ]
    },
    {
     "name": "stderr",
     "output_type": "stream",
     "text": [
      "/var/folders/x2/3tdlb6px40qfq870vwx5y6080000gn/T/ipykernel_39139/255753804.py:6: SettingWithCopyWarning: \n",
      "A value is trying to be set on a copy of a slice from a DataFrame.\n",
      "Try using .loc[row_indexer,col_indexer] = value instead\n",
      "\n",
      "See the caveats in the documentation: https://pandas.pydata.org/pandas-docs/stable/user_guide/indexing.html#returning-a-view-versus-a-copy\n",
      "  df[\"graph\"] = [gd.json() if gd is not None else None for gd in docs]\n"
     ]
    },
    {
     "name": "stdout",
     "output_type": "stream",
     "text": [
      "chunk 32: saved to neo4j\n",
      "move index to: 1510\n",
      "chunk 33: 1510 -> 1520. (10, 16)\n",
      "chunk 33: converted\n",
      "chunk 33: saved to csv\n"
     ]
    },
    {
     "name": "stderr",
     "output_type": "stream",
     "text": [
      "/var/folders/x2/3tdlb6px40qfq870vwx5y6080000gn/T/ipykernel_39139/255753804.py:6: SettingWithCopyWarning: \n",
      "A value is trying to be set on a copy of a slice from a DataFrame.\n",
      "Try using .loc[row_indexer,col_indexer] = value instead\n",
      "\n",
      "See the caveats in the documentation: https://pandas.pydata.org/pandas-docs/stable/user_guide/indexing.html#returning-a-view-versus-a-copy\n",
      "  df[\"graph\"] = [gd.json() if gd is not None else None for gd in docs]\n"
     ]
    },
    {
     "name": "stdout",
     "output_type": "stream",
     "text": [
      "chunk 33: saved to neo4j\n",
      "move index to: 1520\n",
      "chunk 34: 1520 -> 1530. (10, 16)\n",
      "chunk 34: converted\n",
      "chunk 34: saved to csv\n"
     ]
    },
    {
     "name": "stderr",
     "output_type": "stream",
     "text": [
      "/var/folders/x2/3tdlb6px40qfq870vwx5y6080000gn/T/ipykernel_39139/255753804.py:6: SettingWithCopyWarning: \n",
      "A value is trying to be set on a copy of a slice from a DataFrame.\n",
      "Try using .loc[row_indexer,col_indexer] = value instead\n",
      "\n",
      "See the caveats in the documentation: https://pandas.pydata.org/pandas-docs/stable/user_guide/indexing.html#returning-a-view-versus-a-copy\n",
      "  df[\"graph\"] = [gd.json() if gd is not None else None for gd in docs]\n"
     ]
    },
    {
     "name": "stdout",
     "output_type": "stream",
     "text": [
      "chunk 34: saved to neo4j\n",
      "move index to: 1530\n",
      "chunk 35: 1530 -> 1540. (10, 16)\n",
      "chunk 35: converted\n",
      "chunk 35: saved to csv\n"
     ]
    },
    {
     "name": "stderr",
     "output_type": "stream",
     "text": [
      "/var/folders/x2/3tdlb6px40qfq870vwx5y6080000gn/T/ipykernel_39139/255753804.py:6: SettingWithCopyWarning: \n",
      "A value is trying to be set on a copy of a slice from a DataFrame.\n",
      "Try using .loc[row_indexer,col_indexer] = value instead\n",
      "\n",
      "See the caveats in the documentation: https://pandas.pydata.org/pandas-docs/stable/user_guide/indexing.html#returning-a-view-versus-a-copy\n",
      "  df[\"graph\"] = [gd.json() if gd is not None else None for gd in docs]\n"
     ]
    },
    {
     "name": "stdout",
     "output_type": "stream",
     "text": [
      "chunk 35: saved to neo4j\n",
      "move index to: 1540\n",
      "chunk 36: 1540 -> 1550. (10, 16)\n",
      "chunk 36: converted\n",
      "chunk 36: saved to csv\n"
     ]
    },
    {
     "name": "stderr",
     "output_type": "stream",
     "text": [
      "/var/folders/x2/3tdlb6px40qfq870vwx5y6080000gn/T/ipykernel_39139/255753804.py:6: SettingWithCopyWarning: \n",
      "A value is trying to be set on a copy of a slice from a DataFrame.\n",
      "Try using .loc[row_indexer,col_indexer] = value instead\n",
      "\n",
      "See the caveats in the documentation: https://pandas.pydata.org/pandas-docs/stable/user_guide/indexing.html#returning-a-view-versus-a-copy\n",
      "  df[\"graph\"] = [gd.json() if gd is not None else None for gd in docs]\n"
     ]
    },
    {
     "name": "stdout",
     "output_type": "stream",
     "text": [
      "chunk 36: saved to neo4j\n",
      "move index to: 1550\n",
      "chunk 37: 1550 -> 1560. (10, 16)\n",
      "chunk 37: converted\n",
      "chunk 37: saved to csv\n"
     ]
    },
    {
     "name": "stderr",
     "output_type": "stream",
     "text": [
      "/var/folders/x2/3tdlb6px40qfq870vwx5y6080000gn/T/ipykernel_39139/255753804.py:6: SettingWithCopyWarning: \n",
      "A value is trying to be set on a copy of a slice from a DataFrame.\n",
      "Try using .loc[row_indexer,col_indexer] = value instead\n",
      "\n",
      "See the caveats in the documentation: https://pandas.pydata.org/pandas-docs/stable/user_guide/indexing.html#returning-a-view-versus-a-copy\n",
      "  df[\"graph\"] = [gd.json() if gd is not None else None for gd in docs]\n"
     ]
    },
    {
     "name": "stdout",
     "output_type": "stream",
     "text": [
      "chunk 37: saved to neo4j\n",
      "move index to: 1560\n",
      "chunk 38: 1560 -> 1570. (10, 16)\n",
      "chunk 38: converted\n",
      "chunk 38: saved to csv\n"
     ]
    },
    {
     "name": "stderr",
     "output_type": "stream",
     "text": [
      "/var/folders/x2/3tdlb6px40qfq870vwx5y6080000gn/T/ipykernel_39139/255753804.py:6: SettingWithCopyWarning: \n",
      "A value is trying to be set on a copy of a slice from a DataFrame.\n",
      "Try using .loc[row_indexer,col_indexer] = value instead\n",
      "\n",
      "See the caveats in the documentation: https://pandas.pydata.org/pandas-docs/stable/user_guide/indexing.html#returning-a-view-versus-a-copy\n",
      "  df[\"graph\"] = [gd.json() if gd is not None else None for gd in docs]\n"
     ]
    },
    {
     "name": "stdout",
     "output_type": "stream",
     "text": [
      "chunk 38: saved to neo4j\n",
      "move index to: 1570\n",
      "chunk 39: 1570 -> 1580. (10, 16)\n",
      "chunk 39: converted\n",
      "chunk 39: saved to csv\n"
     ]
    },
    {
     "name": "stderr",
     "output_type": "stream",
     "text": [
      "/var/folders/x2/3tdlb6px40qfq870vwx5y6080000gn/T/ipykernel_39139/255753804.py:6: SettingWithCopyWarning: \n",
      "A value is trying to be set on a copy of a slice from a DataFrame.\n",
      "Try using .loc[row_indexer,col_indexer] = value instead\n",
      "\n",
      "See the caveats in the documentation: https://pandas.pydata.org/pandas-docs/stable/user_guide/indexing.html#returning-a-view-versus-a-copy\n",
      "  df[\"graph\"] = [gd.json() if gd is not None else None for gd in docs]\n"
     ]
    },
    {
     "name": "stdout",
     "output_type": "stream",
     "text": [
      "chunk 39: saved to neo4j\n",
      "move index to: 1580\n",
      "chunk 40: 1580 -> 1590. (10, 16)\n"
     ]
    }
   ],
   "source": [
    "import time\n",
    "\n",
    "# earlier:\n",
    "# combination of fireworks and others\n",
    "\n",
    "# together.ai: mixtral \n",
    "#start_index = 300\n",
    "#limit = 500\n",
    "#chunk_size = 10\n",
    "\n",
    "start_index = 1180\n",
    "limit = 10000\n",
    "chunk_size = 10\n",
    "\n",
    "\n",
    "def chunker(seq, size):\n",
    "    return (seq[pos:pos + size] for pos in range(0, len(seq), size))\n",
    "\n",
    "\n",
    "graph_docs = []\n",
    "\n",
    "reviews_df = load_reviews(start_index=start_index, limit=limit)\n",
    "for idx, chunk_df in enumerate(chunker(reviews_df, chunk_size)):\n",
    "    idx_start = start_index + (idx * chunk_size)\n",
    "    idx_end = start_index + ((idx + 1) * chunk_size)\n",
    "    print(f\"chunk {idx}: {idx_start} -> {idx_end}. {chunk_df.shape}\")\n",
    "\n",
    "    chunk_graph_docs = convert_to_graph_documents(chunk_df)\n",
    "    graph_docs += chunk_graph_docs\n",
    "    print(f\"chunk {idx}: converted\")\n",
    "\n",
    "    store_graph_locally(chunk_df, chunk_graph_docs, f\"../data/transformed/openai/reviews-graph-{idx_start}-{idx_end}.csv\")\n",
    "    print(f\"chunk {idx}: saved to csv\")\n",
    "\n",
    "    chunk_graph_docs = list(filter(None, chunk_graph_docs))\n",
    "    graph.add_graph_documents(chunk_graph_docs)\n",
    "    print(f\"chunk {idx}: saved to neo4j\")\n",
    "    print(f\"move index to: {idx_end}\")\n",
    "\n",
    "    time.sleep(1)"
   ]
  },
  {
   "cell_type": "code",
   "execution_count": null,
   "metadata": {},
   "outputs": [],
   "source": [
    "# 1180"
   ]
  }
 ],
 "metadata": {
  "kernelspec": {
   "display_name": "nlp_airline_project-fCxuAmfF",
   "language": "python",
   "name": "python3"
  },
  "language_info": {
   "codemirror_mode": {
    "name": "ipython",
    "version": 3
   },
   "file_extension": ".py",
   "mimetype": "text/x-python",
   "name": "python",
   "nbconvert_exporter": "python",
   "pygments_lexer": "ipython3",
   "version": "3.11.2"
  }
 },
 "nbformat": 4,
 "nbformat_minor": 2
}
