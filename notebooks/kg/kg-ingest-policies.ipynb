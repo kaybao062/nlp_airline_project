{
 "cells": [
  {
   "cell_type": "markdown",
   "metadata": {},
   "source": [
    "Follow along: https://python.langchain.com/docs/use_cases/graph/constructing/"
   ]
  },
  {
   "cell_type": "code",
   "execution_count": 1,
   "metadata": {},
   "outputs": [],
   "source": [
    "import os\n",
    "import time\n",
    "\n",
    "import numpy as np\n",
    "import pandas as pd\n",
    "from dotenv import load_dotenv\n",
    "from langchain_community.document_loaders import DataFrameLoader\n",
    "from langchain_community.graphs import Neo4jGraph\n",
    "from langchain_core.documents import Document\n",
    "from langchain_core.pydantic_v1 import BaseModel, Field\n",
    "from langchain_experimental.graph_transformers import LLMGraphTransformer\n",
    "from langchain_fireworks import ChatFireworks\n",
    "from langchain_google_vertexai import ChatVertexAI\n",
    "from langchain_openai import ChatOpenAI\n",
    "from tenacity import (\n",
    "    retry,\n",
    "    stop_after_attempt,\n",
    "    wait_random_exponential,\n",
    ")  # for exponential backoff\n",
    "\n",
    "# initialize env vars - load credentials\n",
    "load_dotenv()\n",
    "\n",
    "# initialize graph db:\n",
    "graph = Neo4jGraph()\n",
    "\n",
    "llm = ChatOpenAI(\n",
    "    model=\"gpt-3.5-turbo-0125\",\n",
    "    temperature=0,\n",
    "    max_tokens=2000,\n",
    "    )\n",
    "\n",
    "# initialize graph transformer:\n",
    "llm_transformer = LLMGraphTransformer(\n",
    "    llm=llm,\n",
    "    # alternative options: (these are just examples)\n",
    "    # allowed_nodes=[\"Person\", \"Country\", \"Organization\"],\n",
    "    # allowed_relationships=[\"NATIONALITY\", \"LOCATED_IN\", \"WORKED_AT\", \"SPOUSE\"],\n",
    ")"
   ]
  },
  {
   "cell_type": "markdown",
   "metadata": {},
   "source": [
    "Read reviews, prepare reviews:"
   ]
  },
  {
   "cell_type": "code",
   "execution_count": 2,
   "metadata": {},
   "outputs": [],
   "source": [
    "def load_policies(\n",
    "    file: str = \"../data/clean/policy_chunks.csv\",\n",
    "    start_index: int = 0,\n",
    "    limit: int = 100,\n",
    "):\n",
    "    # load dataframe:\n",
    "    df = pd.read_csv(file)[start_index:start_index + limit]\n",
    "    print(f\"Loaded policies: {df.shape}\")\n",
    "    df[\"Content\"] = df.apply(lambda row: f\"{row['Header 1']}\\n{row['Header 2']}\\n{row['Concat']}\".replace(\"\\n\\n\", \"\\n\").replace(\"\\n\\n\", \"\\n\"), axis=1)\n",
    "    return df"
   ]
  },
  {
   "cell_type": "markdown",
   "metadata": {},
   "source": [
    "Total policies: 440"
   ]
  },
  {
   "cell_type": "markdown",
   "metadata": {},
   "source": [
    "Transform reviews to nodes and relationships:"
   ]
  },
  {
   "cell_type": "code",
   "execution_count": 3,
   "metadata": {},
   "outputs": [],
   "source": [
    "@retry(wait=wait_random_exponential(min=1, max=60), stop=stop_after_attempt(6))\n",
    "def convert_to_graph_documents(df: pd.DataFrame, page_content_column: str = \"Content\", llm_transformer: LLMGraphTransformer = None):\n",
    "    # graph_documents = llm_transformer.convert_to_graph_documents(documents)\n",
    "    loader = DataFrameLoader(df, page_content_column=page_content_column)\n",
    "    documents = loader.load()\n",
    "    # return  llm_transformer.convert_to_graph_documents(documents)\n",
    "    graph_documents = []\n",
    "    for doc in documents:\n",
    "        try:\n",
    "            # fireworks doesnt always return valid json\n",
    "            graph_documents += llm_transformer.convert_to_graph_documents([doc])\n",
    "        except:\n",
    "            graph_documents += [None]\n",
    "    return graph_documents"
   ]
  },
  {
   "cell_type": "markdown",
   "metadata": {},
   "source": [
    "See example graphs:"
   ]
  },
  {
   "cell_type": "code",
   "execution_count": 4,
   "metadata": {},
   "outputs": [],
   "source": [
    "# print(f\"Nodes: {graph_documents[0].nodes}\")\n",
    "# print(f\"Relationships: {graph_documents[0].relationships}\")"
   ]
  },
  {
   "cell_type": "markdown",
   "metadata": {},
   "source": [
    "Store dataframe with graph temporarily:"
   ]
  },
  {
   "cell_type": "code",
   "execution_count": 5,
   "metadata": {},
   "outputs": [],
   "source": [
    "def store_graph_locally(\n",
    "    df: pd.DataFrame,\n",
    "    docs: list,\n",
    "    path: str,\n",
    "):\n",
    "    df[\"graph\"] = [gd.json() if gd is not None else None for gd in docs]\n",
    "    df.to_csv(path, index=False)"
   ]
  },
  {
   "cell_type": "markdown",
   "metadata": {},
   "source": [
    "Storing to graph database:"
   ]
  },
  {
   "cell_type": "code",
   "execution_count": 6,
   "metadata": {},
   "outputs": [],
   "source": [
    "# graph.add_graph_documents(graph_documents)"
   ]
  },
  {
   "cell_type": "markdown",
   "metadata": {},
   "source": [
    "Iteratively load these in chunks because, well, there's... a lot."
   ]
  },
  {
   "cell_type": "code",
   "execution_count": 7,
   "metadata": {},
   "outputs": [
    {
     "name": "stdout",
     "output_type": "stream",
     "text": [
      "Loaded policies: (250, 4)\n",
      "chunk 0: 190 -> 200. (10, 5)\n",
      "chunk 0: converted\n",
      "chunk 0: saved to csv\n"
     ]
    },
    {
     "name": "stderr",
     "output_type": "stream",
     "text": [
      "/var/folders/x2/3tdlb6px40qfq870vwx5y6080000gn/T/ipykernel_36981/255753804.py:6: SettingWithCopyWarning: \n",
      "A value is trying to be set on a copy of a slice from a DataFrame.\n",
      "Try using .loc[row_indexer,col_indexer] = value instead\n",
      "\n",
      "See the caveats in the documentation: https://pandas.pydata.org/pandas-docs/stable/user_guide/indexing.html#returning-a-view-versus-a-copy\n",
      "  df[\"graph\"] = [gd.json() if gd is not None else None for gd in docs]\n"
     ]
    },
    {
     "name": "stdout",
     "output_type": "stream",
     "text": [
      "chunk 0: saved to neo4j\n",
      "move index to: 200\n",
      "chunk 1: 200 -> 210. (10, 5)\n",
      "chunk 1: converted\n",
      "chunk 1: saved to csv\n"
     ]
    },
    {
     "name": "stderr",
     "output_type": "stream",
     "text": [
      "/var/folders/x2/3tdlb6px40qfq870vwx5y6080000gn/T/ipykernel_36981/255753804.py:6: SettingWithCopyWarning: \n",
      "A value is trying to be set on a copy of a slice from a DataFrame.\n",
      "Try using .loc[row_indexer,col_indexer] = value instead\n",
      "\n",
      "See the caveats in the documentation: https://pandas.pydata.org/pandas-docs/stable/user_guide/indexing.html#returning-a-view-versus-a-copy\n",
      "  df[\"graph\"] = [gd.json() if gd is not None else None for gd in docs]\n"
     ]
    },
    {
     "name": "stdout",
     "output_type": "stream",
     "text": [
      "chunk 1: saved to neo4j\n",
      "move index to: 210\n",
      "chunk 2: 210 -> 220. (10, 5)\n",
      "chunk 2: converted\n",
      "chunk 2: saved to csv\n"
     ]
    },
    {
     "name": "stderr",
     "output_type": "stream",
     "text": [
      "/var/folders/x2/3tdlb6px40qfq870vwx5y6080000gn/T/ipykernel_36981/255753804.py:6: SettingWithCopyWarning: \n",
      "A value is trying to be set on a copy of a slice from a DataFrame.\n",
      "Try using .loc[row_indexer,col_indexer] = value instead\n",
      "\n",
      "See the caveats in the documentation: https://pandas.pydata.org/pandas-docs/stable/user_guide/indexing.html#returning-a-view-versus-a-copy\n",
      "  df[\"graph\"] = [gd.json() if gd is not None else None for gd in docs]\n"
     ]
    },
    {
     "name": "stdout",
     "output_type": "stream",
     "text": [
      "chunk 2: saved to neo4j\n",
      "move index to: 220\n",
      "chunk 3: 220 -> 230. (10, 5)\n",
      "chunk 3: converted\n",
      "chunk 3: saved to csv\n"
     ]
    },
    {
     "name": "stderr",
     "output_type": "stream",
     "text": [
      "/var/folders/x2/3tdlb6px40qfq870vwx5y6080000gn/T/ipykernel_36981/255753804.py:6: SettingWithCopyWarning: \n",
      "A value is trying to be set on a copy of a slice from a DataFrame.\n",
      "Try using .loc[row_indexer,col_indexer] = value instead\n",
      "\n",
      "See the caveats in the documentation: https://pandas.pydata.org/pandas-docs/stable/user_guide/indexing.html#returning-a-view-versus-a-copy\n",
      "  df[\"graph\"] = [gd.json() if gd is not None else None for gd in docs]\n"
     ]
    },
    {
     "name": "stdout",
     "output_type": "stream",
     "text": [
      "chunk 3: saved to neo4j\n",
      "move index to: 230\n",
      "chunk 4: 230 -> 240. (10, 5)\n",
      "chunk 4: converted\n",
      "chunk 4: saved to csv\n"
     ]
    },
    {
     "name": "stderr",
     "output_type": "stream",
     "text": [
      "/var/folders/x2/3tdlb6px40qfq870vwx5y6080000gn/T/ipykernel_36981/255753804.py:6: SettingWithCopyWarning: \n",
      "A value is trying to be set on a copy of a slice from a DataFrame.\n",
      "Try using .loc[row_indexer,col_indexer] = value instead\n",
      "\n",
      "See the caveats in the documentation: https://pandas.pydata.org/pandas-docs/stable/user_guide/indexing.html#returning-a-view-versus-a-copy\n",
      "  df[\"graph\"] = [gd.json() if gd is not None else None for gd in docs]\n"
     ]
    },
    {
     "name": "stdout",
     "output_type": "stream",
     "text": [
      "chunk 4: saved to neo4j\n",
      "move index to: 240\n",
      "chunk 5: 240 -> 250. (10, 5)\n",
      "chunk 5: converted\n",
      "chunk 5: saved to csv\n"
     ]
    },
    {
     "name": "stderr",
     "output_type": "stream",
     "text": [
      "/var/folders/x2/3tdlb6px40qfq870vwx5y6080000gn/T/ipykernel_36981/255753804.py:6: SettingWithCopyWarning: \n",
      "A value is trying to be set on a copy of a slice from a DataFrame.\n",
      "Try using .loc[row_indexer,col_indexer] = value instead\n",
      "\n",
      "See the caveats in the documentation: https://pandas.pydata.org/pandas-docs/stable/user_guide/indexing.html#returning-a-view-versus-a-copy\n",
      "  df[\"graph\"] = [gd.json() if gd is not None else None for gd in docs]\n"
     ]
    },
    {
     "name": "stdout",
     "output_type": "stream",
     "text": [
      "chunk 5: saved to neo4j\n",
      "move index to: 250\n",
      "chunk 6: 250 -> 260. (10, 5)\n",
      "chunk 6: converted\n",
      "chunk 6: saved to csv\n"
     ]
    },
    {
     "name": "stderr",
     "output_type": "stream",
     "text": [
      "/var/folders/x2/3tdlb6px40qfq870vwx5y6080000gn/T/ipykernel_36981/255753804.py:6: SettingWithCopyWarning: \n",
      "A value is trying to be set on a copy of a slice from a DataFrame.\n",
      "Try using .loc[row_indexer,col_indexer] = value instead\n",
      "\n",
      "See the caveats in the documentation: https://pandas.pydata.org/pandas-docs/stable/user_guide/indexing.html#returning-a-view-versus-a-copy\n",
      "  df[\"graph\"] = [gd.json() if gd is not None else None for gd in docs]\n"
     ]
    },
    {
     "name": "stdout",
     "output_type": "stream",
     "text": [
      "chunk 6: saved to neo4j\n",
      "move index to: 260\n",
      "chunk 7: 260 -> 270. (10, 5)\n",
      "chunk 7: converted\n",
      "chunk 7: saved to csv\n"
     ]
    },
    {
     "name": "stderr",
     "output_type": "stream",
     "text": [
      "/var/folders/x2/3tdlb6px40qfq870vwx5y6080000gn/T/ipykernel_36981/255753804.py:6: SettingWithCopyWarning: \n",
      "A value is trying to be set on a copy of a slice from a DataFrame.\n",
      "Try using .loc[row_indexer,col_indexer] = value instead\n",
      "\n",
      "See the caveats in the documentation: https://pandas.pydata.org/pandas-docs/stable/user_guide/indexing.html#returning-a-view-versus-a-copy\n",
      "  df[\"graph\"] = [gd.json() if gd is not None else None for gd in docs]\n"
     ]
    },
    {
     "name": "stdout",
     "output_type": "stream",
     "text": [
      "chunk 7: saved to neo4j\n",
      "move index to: 270\n",
      "chunk 8: 270 -> 280. (10, 5)\n",
      "chunk 8: converted\n",
      "chunk 8: saved to csv\n"
     ]
    },
    {
     "name": "stderr",
     "output_type": "stream",
     "text": [
      "/var/folders/x2/3tdlb6px40qfq870vwx5y6080000gn/T/ipykernel_36981/255753804.py:6: SettingWithCopyWarning: \n",
      "A value is trying to be set on a copy of a slice from a DataFrame.\n",
      "Try using .loc[row_indexer,col_indexer] = value instead\n",
      "\n",
      "See the caveats in the documentation: https://pandas.pydata.org/pandas-docs/stable/user_guide/indexing.html#returning-a-view-versus-a-copy\n",
      "  df[\"graph\"] = [gd.json() if gd is not None else None for gd in docs]\n"
     ]
    },
    {
     "name": "stdout",
     "output_type": "stream",
     "text": [
      "chunk 8: saved to neo4j\n",
      "move index to: 280\n",
      "chunk 9: 280 -> 290. (10, 5)\n",
      "chunk 9: converted\n",
      "chunk 9: saved to csv\n"
     ]
    },
    {
     "name": "stderr",
     "output_type": "stream",
     "text": [
      "/var/folders/x2/3tdlb6px40qfq870vwx5y6080000gn/T/ipykernel_36981/255753804.py:6: SettingWithCopyWarning: \n",
      "A value is trying to be set on a copy of a slice from a DataFrame.\n",
      "Try using .loc[row_indexer,col_indexer] = value instead\n",
      "\n",
      "See the caveats in the documentation: https://pandas.pydata.org/pandas-docs/stable/user_guide/indexing.html#returning-a-view-versus-a-copy\n",
      "  df[\"graph\"] = [gd.json() if gd is not None else None for gd in docs]\n"
     ]
    },
    {
     "name": "stdout",
     "output_type": "stream",
     "text": [
      "chunk 9: saved to neo4j\n",
      "move index to: 290\n",
      "chunk 10: 290 -> 300. (10, 5)\n",
      "chunk 10: converted\n",
      "chunk 10: saved to csv\n"
     ]
    },
    {
     "name": "stderr",
     "output_type": "stream",
     "text": [
      "/var/folders/x2/3tdlb6px40qfq870vwx5y6080000gn/T/ipykernel_36981/255753804.py:6: SettingWithCopyWarning: \n",
      "A value is trying to be set on a copy of a slice from a DataFrame.\n",
      "Try using .loc[row_indexer,col_indexer] = value instead\n",
      "\n",
      "See the caveats in the documentation: https://pandas.pydata.org/pandas-docs/stable/user_guide/indexing.html#returning-a-view-versus-a-copy\n",
      "  df[\"graph\"] = [gd.json() if gd is not None else None for gd in docs]\n"
     ]
    },
    {
     "name": "stdout",
     "output_type": "stream",
     "text": [
      "chunk 10: saved to neo4j\n",
      "move index to: 300\n",
      "chunk 11: 300 -> 310. (10, 5)\n",
      "chunk 11: converted\n",
      "chunk 11: saved to csv\n"
     ]
    },
    {
     "name": "stderr",
     "output_type": "stream",
     "text": [
      "/var/folders/x2/3tdlb6px40qfq870vwx5y6080000gn/T/ipykernel_36981/255753804.py:6: SettingWithCopyWarning: \n",
      "A value is trying to be set on a copy of a slice from a DataFrame.\n",
      "Try using .loc[row_indexer,col_indexer] = value instead\n",
      "\n",
      "See the caveats in the documentation: https://pandas.pydata.org/pandas-docs/stable/user_guide/indexing.html#returning-a-view-versus-a-copy\n",
      "  df[\"graph\"] = [gd.json() if gd is not None else None for gd in docs]\n"
     ]
    },
    {
     "name": "stdout",
     "output_type": "stream",
     "text": [
      "chunk 11: saved to neo4j\n",
      "move index to: 310\n",
      "chunk 12: 310 -> 320. (10, 5)\n",
      "chunk 12: converted\n",
      "chunk 12: saved to csv\n"
     ]
    },
    {
     "name": "stderr",
     "output_type": "stream",
     "text": [
      "/var/folders/x2/3tdlb6px40qfq870vwx5y6080000gn/T/ipykernel_36981/255753804.py:6: SettingWithCopyWarning: \n",
      "A value is trying to be set on a copy of a slice from a DataFrame.\n",
      "Try using .loc[row_indexer,col_indexer] = value instead\n",
      "\n",
      "See the caveats in the documentation: https://pandas.pydata.org/pandas-docs/stable/user_guide/indexing.html#returning-a-view-versus-a-copy\n",
      "  df[\"graph\"] = [gd.json() if gd is not None else None for gd in docs]\n"
     ]
    },
    {
     "name": "stdout",
     "output_type": "stream",
     "text": [
      "chunk 12: saved to neo4j\n",
      "move index to: 320\n",
      "chunk 13: 320 -> 330. (10, 5)\n",
      "chunk 13: converted\n",
      "chunk 13: saved to csv\n"
     ]
    },
    {
     "name": "stderr",
     "output_type": "stream",
     "text": [
      "/var/folders/x2/3tdlb6px40qfq870vwx5y6080000gn/T/ipykernel_36981/255753804.py:6: SettingWithCopyWarning: \n",
      "A value is trying to be set on a copy of a slice from a DataFrame.\n",
      "Try using .loc[row_indexer,col_indexer] = value instead\n",
      "\n",
      "See the caveats in the documentation: https://pandas.pydata.org/pandas-docs/stable/user_guide/indexing.html#returning-a-view-versus-a-copy\n",
      "  df[\"graph\"] = [gd.json() if gd is not None else None for gd in docs]\n"
     ]
    },
    {
     "name": "stdout",
     "output_type": "stream",
     "text": [
      "chunk 13: saved to neo4j\n",
      "move index to: 330\n",
      "chunk 14: 330 -> 340. (10, 5)\n",
      "chunk 14: converted\n",
      "chunk 14: saved to csv\n"
     ]
    },
    {
     "name": "stderr",
     "output_type": "stream",
     "text": [
      "/var/folders/x2/3tdlb6px40qfq870vwx5y6080000gn/T/ipykernel_36981/255753804.py:6: SettingWithCopyWarning: \n",
      "A value is trying to be set on a copy of a slice from a DataFrame.\n",
      "Try using .loc[row_indexer,col_indexer] = value instead\n",
      "\n",
      "See the caveats in the documentation: https://pandas.pydata.org/pandas-docs/stable/user_guide/indexing.html#returning-a-view-versus-a-copy\n",
      "  df[\"graph\"] = [gd.json() if gd is not None else None for gd in docs]\n"
     ]
    },
    {
     "name": "stdout",
     "output_type": "stream",
     "text": [
      "chunk 14: saved to neo4j\n",
      "move index to: 340\n",
      "chunk 15: 340 -> 350. (10, 5)\n",
      "chunk 15: converted\n",
      "chunk 15: saved to csv\n"
     ]
    },
    {
     "name": "stderr",
     "output_type": "stream",
     "text": [
      "/var/folders/x2/3tdlb6px40qfq870vwx5y6080000gn/T/ipykernel_36981/255753804.py:6: SettingWithCopyWarning: \n",
      "A value is trying to be set on a copy of a slice from a DataFrame.\n",
      "Try using .loc[row_indexer,col_indexer] = value instead\n",
      "\n",
      "See the caveats in the documentation: https://pandas.pydata.org/pandas-docs/stable/user_guide/indexing.html#returning-a-view-versus-a-copy\n",
      "  df[\"graph\"] = [gd.json() if gd is not None else None for gd in docs]\n"
     ]
    },
    {
     "name": "stdout",
     "output_type": "stream",
     "text": [
      "chunk 15: saved to neo4j\n",
      "move index to: 350\n",
      "chunk 16: 350 -> 360. (10, 5)\n",
      "chunk 16: converted\n",
      "chunk 16: saved to csv\n"
     ]
    },
    {
     "name": "stderr",
     "output_type": "stream",
     "text": [
      "/var/folders/x2/3tdlb6px40qfq870vwx5y6080000gn/T/ipykernel_36981/255753804.py:6: SettingWithCopyWarning: \n",
      "A value is trying to be set on a copy of a slice from a DataFrame.\n",
      "Try using .loc[row_indexer,col_indexer] = value instead\n",
      "\n",
      "See the caveats in the documentation: https://pandas.pydata.org/pandas-docs/stable/user_guide/indexing.html#returning-a-view-versus-a-copy\n",
      "  df[\"graph\"] = [gd.json() if gd is not None else None for gd in docs]\n"
     ]
    },
    {
     "name": "stdout",
     "output_type": "stream",
     "text": [
      "chunk 16: saved to neo4j\n",
      "move index to: 360\n",
      "chunk 17: 360 -> 370. (10, 5)\n",
      "chunk 17: converted\n",
      "chunk 17: saved to csv\n"
     ]
    },
    {
     "name": "stderr",
     "output_type": "stream",
     "text": [
      "/var/folders/x2/3tdlb6px40qfq870vwx5y6080000gn/T/ipykernel_36981/255753804.py:6: SettingWithCopyWarning: \n",
      "A value is trying to be set on a copy of a slice from a DataFrame.\n",
      "Try using .loc[row_indexer,col_indexer] = value instead\n",
      "\n",
      "See the caveats in the documentation: https://pandas.pydata.org/pandas-docs/stable/user_guide/indexing.html#returning-a-view-versus-a-copy\n",
      "  df[\"graph\"] = [gd.json() if gd is not None else None for gd in docs]\n"
     ]
    },
    {
     "name": "stdout",
     "output_type": "stream",
     "text": [
      "chunk 17: saved to neo4j\n",
      "move index to: 370\n",
      "chunk 18: 370 -> 380. (10, 5)\n",
      "chunk 18: converted\n",
      "chunk 18: saved to csv\n"
     ]
    },
    {
     "name": "stderr",
     "output_type": "stream",
     "text": [
      "/var/folders/x2/3tdlb6px40qfq870vwx5y6080000gn/T/ipykernel_36981/255753804.py:6: SettingWithCopyWarning: \n",
      "A value is trying to be set on a copy of a slice from a DataFrame.\n",
      "Try using .loc[row_indexer,col_indexer] = value instead\n",
      "\n",
      "See the caveats in the documentation: https://pandas.pydata.org/pandas-docs/stable/user_guide/indexing.html#returning-a-view-versus-a-copy\n",
      "  df[\"graph\"] = [gd.json() if gd is not None else None for gd in docs]\n"
     ]
    },
    {
     "name": "stdout",
     "output_type": "stream",
     "text": [
      "chunk 18: saved to neo4j\n",
      "move index to: 380\n",
      "chunk 19: 380 -> 390. (10, 5)\n",
      "chunk 19: converted\n",
      "chunk 19: saved to csv\n"
     ]
    },
    {
     "name": "stderr",
     "output_type": "stream",
     "text": [
      "/var/folders/x2/3tdlb6px40qfq870vwx5y6080000gn/T/ipykernel_36981/255753804.py:6: SettingWithCopyWarning: \n",
      "A value is trying to be set on a copy of a slice from a DataFrame.\n",
      "Try using .loc[row_indexer,col_indexer] = value instead\n",
      "\n",
      "See the caveats in the documentation: https://pandas.pydata.org/pandas-docs/stable/user_guide/indexing.html#returning-a-view-versus-a-copy\n",
      "  df[\"graph\"] = [gd.json() if gd is not None else None for gd in docs]\n"
     ]
    },
    {
     "name": "stdout",
     "output_type": "stream",
     "text": [
      "chunk 19: saved to neo4j\n",
      "move index to: 390\n",
      "chunk 20: 390 -> 400. (10, 5)\n",
      "chunk 20: converted\n",
      "chunk 20: saved to csv\n"
     ]
    },
    {
     "name": "stderr",
     "output_type": "stream",
     "text": [
      "/var/folders/x2/3tdlb6px40qfq870vwx5y6080000gn/T/ipykernel_36981/255753804.py:6: SettingWithCopyWarning: \n",
      "A value is trying to be set on a copy of a slice from a DataFrame.\n",
      "Try using .loc[row_indexer,col_indexer] = value instead\n",
      "\n",
      "See the caveats in the documentation: https://pandas.pydata.org/pandas-docs/stable/user_guide/indexing.html#returning-a-view-versus-a-copy\n",
      "  df[\"graph\"] = [gd.json() if gd is not None else None for gd in docs]\n"
     ]
    },
    {
     "name": "stdout",
     "output_type": "stream",
     "text": [
      "chunk 20: saved to neo4j\n",
      "move index to: 400\n",
      "chunk 21: 400 -> 410. (10, 5)\n",
      "chunk 21: converted\n",
      "chunk 21: saved to csv\n"
     ]
    },
    {
     "name": "stderr",
     "output_type": "stream",
     "text": [
      "/var/folders/x2/3tdlb6px40qfq870vwx5y6080000gn/T/ipykernel_36981/255753804.py:6: SettingWithCopyWarning: \n",
      "A value is trying to be set on a copy of a slice from a DataFrame.\n",
      "Try using .loc[row_indexer,col_indexer] = value instead\n",
      "\n",
      "See the caveats in the documentation: https://pandas.pydata.org/pandas-docs/stable/user_guide/indexing.html#returning-a-view-versus-a-copy\n",
      "  df[\"graph\"] = [gd.json() if gd is not None else None for gd in docs]\n"
     ]
    },
    {
     "name": "stdout",
     "output_type": "stream",
     "text": [
      "chunk 21: saved to neo4j\n",
      "move index to: 410\n",
      "chunk 22: 410 -> 420. (10, 5)\n",
      "chunk 22: converted\n",
      "chunk 22: saved to csv\n"
     ]
    },
    {
     "name": "stderr",
     "output_type": "stream",
     "text": [
      "/var/folders/x2/3tdlb6px40qfq870vwx5y6080000gn/T/ipykernel_36981/255753804.py:6: SettingWithCopyWarning: \n",
      "A value is trying to be set on a copy of a slice from a DataFrame.\n",
      "Try using .loc[row_indexer,col_indexer] = value instead\n",
      "\n",
      "See the caveats in the documentation: https://pandas.pydata.org/pandas-docs/stable/user_guide/indexing.html#returning-a-view-versus-a-copy\n",
      "  df[\"graph\"] = [gd.json() if gd is not None else None for gd in docs]\n"
     ]
    },
    {
     "name": "stdout",
     "output_type": "stream",
     "text": [
      "chunk 22: saved to neo4j\n",
      "move index to: 420\n",
      "chunk 23: 420 -> 430. (10, 5)\n",
      "chunk 23: converted\n",
      "chunk 23: saved to csv\n"
     ]
    },
    {
     "name": "stderr",
     "output_type": "stream",
     "text": [
      "/var/folders/x2/3tdlb6px40qfq870vwx5y6080000gn/T/ipykernel_36981/255753804.py:6: SettingWithCopyWarning: \n",
      "A value is trying to be set on a copy of a slice from a DataFrame.\n",
      "Try using .loc[row_indexer,col_indexer] = value instead\n",
      "\n",
      "See the caveats in the documentation: https://pandas.pydata.org/pandas-docs/stable/user_guide/indexing.html#returning-a-view-versus-a-copy\n",
      "  df[\"graph\"] = [gd.json() if gd is not None else None for gd in docs]\n"
     ]
    },
    {
     "name": "stdout",
     "output_type": "stream",
     "text": [
      "chunk 23: saved to neo4j\n",
      "move index to: 430\n",
      "chunk 24: 430 -> 440. (10, 5)\n",
      "chunk 24: converted\n",
      "chunk 24: saved to csv\n"
     ]
    },
    {
     "name": "stderr",
     "output_type": "stream",
     "text": [
      "/var/folders/x2/3tdlb6px40qfq870vwx5y6080000gn/T/ipykernel_36981/255753804.py:6: SettingWithCopyWarning: \n",
      "A value is trying to be set on a copy of a slice from a DataFrame.\n",
      "Try using .loc[row_indexer,col_indexer] = value instead\n",
      "\n",
      "See the caveats in the documentation: https://pandas.pydata.org/pandas-docs/stable/user_guide/indexing.html#returning-a-view-versus-a-copy\n",
      "  df[\"graph\"] = [gd.json() if gd is not None else None for gd in docs]\n"
     ]
    },
    {
     "name": "stdout",
     "output_type": "stream",
     "text": [
      "chunk 24: saved to neo4j\n",
      "move index to: 440\n"
     ]
    }
   ],
   "source": [
    "import time\n",
    "\n",
    "# earlier:\n",
    "# combination of fireworks and others\n",
    "\n",
    "# together.ai: mixtral \n",
    "#start_index = 300\n",
    "#limit = 500\n",
    "#chunk_size = 10\n",
    "\n",
    "start_index = 190\n",
    "limit = 10000\n",
    "chunk_size = 10\n",
    "\n",
    "\n",
    "def chunker(seq, size):\n",
    "    return (seq[pos:pos + size] for pos in range(0, len(seq), size))\n",
    "\n",
    "\n",
    "graph_docs = []\n",
    "\n",
    "policies_df = load_policies(start_index=start_index, limit=limit)\n",
    "for idx, chunk_df in enumerate(chunker(policies_df, chunk_size)):\n",
    "    idx_start = start_index + (idx * chunk_size)\n",
    "    idx_end = start_index + ((idx + 1) * chunk_size)\n",
    "    print(f\"chunk {idx}: {idx_start} -> {idx_end}. {chunk_df.shape}\")\n",
    "\n",
    "    chunk_graph_docs = convert_to_graph_documents(chunk_df, llm_transformer=llm_transformer)\n",
    "    graph_docs += chunk_graph_docs\n",
    "    print(f\"chunk {idx}: converted\")\n",
    "\n",
    "    store_graph_locally(chunk_df, chunk_graph_docs, f\"../data/transformed/policies/policies-graph-{idx_start}-{idx_end}.csv\")\n",
    "    print(f\"chunk {idx}: saved to csv\")\n",
    "\n",
    "    chunk_graph_docs = list(filter(None, chunk_graph_docs))\n",
    "    graph.add_graph_documents(chunk_graph_docs)\n",
    "    print(f\"chunk {idx}: saved to neo4j\")\n",
    "    print(f\"move index to: {idx_end}\")\n",
    "\n",
    "    time.sleep(1)"
   ]
  },
  {
   "cell_type": "markdown",
   "metadata": {},
   "source": [
    "GPT 3.5 vs GPT 4"
   ]
  },
  {
   "cell_type": "code",
   "execution_count": 29,
   "metadata": {},
   "outputs": [
    {
     "name": "stdout",
     "output_type": "stream",
     "text": [
      "Loaded policies: (440, 4)\n",
      "20 [Node(id='Carry-On Bags', type='Item'), Node(id='Personal Item', type='Item'), Node(id='Diaper Bags', type='Item'), Node(id='Breast Pump', type='Item'), Node(id='Cooler Of Breast Milk', type='Item'), Node(id='Child Safety Seats', type='Item'), Node(id='Strollers', type='Item'), Node(id='Medical Or Mobility Devices', type='Item'), Node(id='Carry-On Requirements', type='Requirement'), Node(id='Soft-Sided Garment Bags', type='Item'), Node(id='Musical Instruments', type='Item'), Node(id='Special Items And Sports Equipment', type='Item'), Node(id='Pet Kennel Or Container', type='Item'), Node(id='Carry-On Pet Fee', type='Fee'), Node(id='Valet Bags', type='Item'), Node(id='Batteries', type='Item'), Node(id='Electronic Cigarettes', type='Item'), Node(id='Restricted Items', type='Item'), Node(id='Liquids', type='Item'), Node(id='Tsa', type='Organization')]\n",
      "13 [Relationship(source=Node(id='Carry-On Bags', type='Item'), target=Node(id='Personal Item', type='Item'), type='REQUIREMENT'), Relationship(source=Node(id='Carry-On Bags', type='Item'), target=Node(id='Carry-On Requirements', type='Requirement'), type='REQUIREMENT'), Relationship(source=Node(id='Carry-On Bags', type='Item'), target=Node(id='Soft-Sided Garment Bags', type='Item'), type='REQUIREMENT'), Relationship(source=Node(id='Carry-On Bags', type='Item'), target=Node(id='Musical Instruments', type='Item'), type='REQUIREMENT'), Relationship(source=Node(id='Carry-On Bags', type='Item'), target=Node(id='Special Items And Sports Equipment', type='Item'), type='REQUIREMENT'), Relationship(source=Node(id='Carry-On Bags', type='Item'), target=Node(id='Pet Kennel Or Container', type='Item'), type='REQUIREMENT'), Relationship(source=Node(id='Carry-On Bags', type='Item'), target=Node(id='Carry-On Pet Fee', type='Fee'), type='REQUIREMENT'), Relationship(source=Node(id='Carry-On Bags', type='Item'), target=Node(id='Valet Bags', type='Item'), type='REQUIREMENT'), Relationship(source=Node(id='Carry-On Bags', type='Item'), target=Node(id='Batteries', type='Item'), type='REQUIREMENT'), Relationship(source=Node(id='Carry-On Bags', type='Item'), target=Node(id='Electronic Cigarettes', type='Item'), type='REQUIREMENT'), Relationship(source=Node(id='Carry-On Bags', type='Item'), target=Node(id='Restricted Items', type='Item'), type='REQUIREMENT'), Relationship(source=Node(id='Carry-On Bags', type='Item'), target=Node(id='Liquids', type='Item'), type='REQUIREMENT'), Relationship(source=Node(id='Liquids', type='Item'), target=Node(id='Tsa', type='Organization'), type='REQUIREMENT')]\n"
     ]
    }
   ],
   "source": [
    "llm = ChatOpenAI(\n",
    "    model=\"gpt-3.5-turbo-0125\",\n",
    "    temperature=0,\n",
    "    max_tokens=2000,\n",
    ")\n",
    "\n",
    "# initialize graph transformer:\n",
    "llm_transformer = LLMGraphTransformer(\n",
    "    llm=llm,\n",
    ")\n",
    "\n",
    "policies_df = load_policies(start_index=start_index, limit=limit)\n",
    "gd = convert_to_graph_documents(policies_df[0:1], llm_transformer=llm_transformer)\n",
    "print(len(gd[0].nodes), gd[0].nodes)\n",
    "print(len(gd[0].relationships), gd[0].relationships)"
   ]
  },
  {
   "cell_type": "code",
   "execution_count": 30,
   "metadata": {},
   "outputs": [
    {
     "name": "stdout",
     "output_type": "stream",
     "text": [
      "Loaded policies: (440, 4)\n",
      "14 [Node(id='Personal Item', type='Item'), Node(id='Carry-On Bag', type='Item'), Node(id='Diaper Bags', type='Item'), Node(id='Breast Pump', type='Item'), Node(id='Small, Soft-Sided Cooler Of Breast Milk', type='Item'), Node(id='Child Safety Seats', type='Item'), Node(id='Strollers', type='Item'), Node(id='Medical Or Mobility Devices', type='Item'), Node(id='Soft-Sided Garment Bags', type='Item'), Node(id='Musical Instruments', type='Item'), Node(id='Pet Kennel Or Container', type='Item'), Node(id='American Eagle', type='Airline'), Node(id='Embraer Erj-175', type='Aircraft'), Node(id='Tsa', type='Organization')]\n",
      "10 [Relationship(source=Node(id='Diaper Bags', type='Item'), target=Node(id='Personal Item', type='Item'), type='EXCLUDED_FROM'), Relationship(source=Node(id='Breast Pump', type='Item'), target=Node(id='Personal Item', type='Item'), type='EXCLUDED_FROM'), Relationship(source=Node(id='Small, Soft-Sided Cooler Of Breast Milk', type='Item'), target=Node(id='Personal Item', type='Item'), type='EXCLUDED_FROM'), Relationship(source=Node(id='Child Safety Seats', type='Item'), target=Node(id='Personal Item', type='Item'), type='EXCLUDED_FROM'), Relationship(source=Node(id='Strollers', type='Item'), target=Node(id='Personal Item', type='Item'), type='EXCLUDED_FROM'), Relationship(source=Node(id='Medical Or Mobility Devices', type='Item'), target=Node(id='Personal Item', type='Item'), type='EXCLUDED_FROM'), Relationship(source=Node(id='Pet Kennel Or Container', type='Item'), target=Node(id='Personal Item', type='Item'), type='OR'), Relationship(source=Node(id='Pet Kennel Or Container', type='Item'), target=Node(id='Carry-On Bag', type='Item'), type='OR'), Relationship(source=Node(id='American Eagle', type='Airline'), target=Node(id='Embraer Erj-175', type='Aircraft'), type='OPERATES'), Relationship(source=Node(id='Tsa', type='Organization'), target=Node(id='Liquids', type='Item'), type='ALLOWS')]\n"
     ]
    }
   ],
   "source": [
    "llm = ChatOpenAI(\n",
    "    model=\"gpt-4-0125-preview\",\n",
    "    temperature=0,\n",
    "    max_tokens=2000,\n",
    ")\n",
    "\n",
    "# initialize graph transformer:\n",
    "llm_transformer = LLMGraphTransformer(\n",
    "    llm=llm,\n",
    ")\n",
    "\n",
    "policies_df = load_policies(start_index=start_index, limit=limit)\n",
    "gd = convert_to_graph_documents(policies_df[0:1], llm_transformer=llm_transformer)\n",
    "print(len(gd[0].nodes), gd[0].nodes)\n",
    "print(len(gd[0].relationships), gd[0].relationships)"
   ]
  },
  {
   "cell_type": "code",
   "execution_count": 37,
   "metadata": {},
   "outputs": [
    {
     "name": "stdout",
     "output_type": "stream",
     "text": [
      "Loaded policies: (440, 4)\n",
      "25 [Node(id='Passengers', type='Passenger'), Node(id='Tickets', type='Ticket'), Node(id='Premium Economy', type='Booking class'), Node(id='Aircraft Change', type='Event'), Node(id='Reissue Fee', type='Fee'), Node(id='Refund', type='Action'), Node(id='Rebooking', type='Action'), Node(id='Business Class', type='Booking class'), Node(id='Flight', type='Route'), Node(id='Fare/Tax Difference', type='Financial difference'), Node(id='Historical Date', type='Date'), Node(id='Travel Agents', type='Agent'), Node(id='Electronic Miscellaneous Document (Emd)', type='Document'), Node(id='Booking Service Charge (Bsc)', type='Fee'), Node(id='Unused Ticket', type='Ticket status'), Node(id='Eva Worldwide Offices', type='Office'), Node(id='Award Ticket', type='Ticket type'), Node(id='Upgrade', type='Action'), Node(id='Mileage', type='Measurement'), Node(id='Green Card Members', type='Membership level'), Node(id='Diamond Card Members', type='Membership level'), Node(id='Gold Card Members', type='Membership level'), Node(id='Silver Card Members', type='Membership level'), Node(id='Group Passengers', type='Passenger group'), Node(id='Free And Reduced Fare Tickets', type='Ticket type')]\n",
      "28 [Relationship(source=Node(id='Passengers', type='Passenger'), target=Node(id='Tickets', type='Ticket'), type='HOLD'), Relationship(source=Node(id='Tickets', type='Ticket'), target=Node(id='Premium Economy', type='Booking class'), type='CONFIRMED_BOOKING'), Relationship(source=Node(id='Premium Economy', type='Booking class'), target=Node(id='Aircraft Change', type='Event'), type='AFFECTED_BY'), Relationship(source=Node(id='Tickets', type='Ticket'), target=Node(id='Reissue Fee', type='Fee'), type='WAIVED'), Relationship(source=Node(id='Tickets', type='Ticket'), target=Node(id='Refund', type='Action'), type='CHOOSE_OPTION'), Relationship(source=Node(id='Tickets', type='Ticket'), target=Node(id='Rebooking', type='Action'), type='CHOOSE_OPTION'), Relationship(source=Node(id='Tickets', type='Ticket'), target=Node(id='Business Class', type='Booking class'), type='REBOOK_TO'), Relationship(source=Node(id='Flight', type='Route'), target=Node(id='Aircraft Change', type='Event'), type='AFFECTED_BY'), Relationship(source=Node(id='Tickets', type='Ticket'), target=Node(id='Fare/Tax Difference', type='Financial difference'), type='REFUND/REASSESS'), Relationship(source=Node(id='Fare/Tax Difference', type='Financial difference'), target=Node(id='Historical Date', type='Date'), type='BASED_ON'), Relationship(source=Node(id='Tickets', type='Ticket'), target=Node(id='Travel Agents', type='Agent'), type='PURCHASE_FROM'), Relationship(source=Node(id='Electronic Miscellaneous Document (Emd)', type='Document'), target=Node(id='Refund', type='Action'), type='ISSUED_FOR'), Relationship(source=Node(id='Booking Service Charge (Bsc)', type='Fee'), target=Node(id='Tickets', type='Ticket'), type='IMPOSED_ON'), Relationship(source=Node(id='Booking Service Charge (Bsc)', type='Fee'), target=Node(id='Tickets', type='Ticket'), type='NON-REFUNDABLE_FOR_PARTIAL-USED_TICKET'), Relationship(source=Node(id='Booking Service Charge (Bsc)', type='Fee'), target=Node(id='Tickets', type='Ticket'), type='REFUNDABLE_FOR_TOTAL-UNUSED_TICKET'), Relationship(source=Node(id='Booking Service Charge (Bsc)', type='Fee'), target=Node(id='Tickets', type='Ticket'), type='REFUNDABLE_FOR_BSC_ON_FLIGHT-COUPON_BASE'), Relationship(source=Node(id='Tickets', type='Ticket'), target=Node(id='Eva Worldwide Offices', type='Office'), type='PURCHASE_FROM'), Relationship(source=Node(id='Award Ticket', type='Ticket type'), target=Node(id='Mileage', type='Measurement'), type='UPGRADE'), Relationship(source=Node(id='Award Ticket', type='Ticket type'), target=Node(id='Mileage', type='Measurement'), type='COLLECT/RETURN'), Relationship(source=Node(id='Award Ticket', type='Ticket type'), target=Node(id='Mileage', type='Measurement'), type='EXPIRED_MILEAGE_EXEMPT'), Relationship(source=Node(id='Award Ticket', type='Ticket type'), target=Node(id='Green Card Members', type='Membership level'), type='SERVICE_FEE_WAIVER'), Relationship(source=Node(id='Green Card Members', type='Membership level'), target=Node(id='Award Ticket', type='Ticket type'), type='SERVICE_FEE_WAIVER'), Relationship(source=Node(id='Diamond Card Members', type='Membership level'), target=Node(id='Award Ticket', type='Ticket type'), type='SERVICE_FEE_EXEMPT'), Relationship(source=Node(id='Gold Card Members', type='Membership level'), target=Node(id='Award Ticket', type='Ticket type'), type='SERVICE_FEE_EXEMPT'), Relationship(source=Node(id='Silver Card Members', type='Membership level'), target=Node(id='Award Ticket', type='Ticket type'), type='SERVICE_FEE_EXEMPT'), Relationship(source=Node(id='Upgrade', type='Action'), target=Node(id='Mileage', type='Measurement'), type='COLLECT/RETURN'), Relationship(source=Node(id='Group Passengers', type='Passenger group'), target=Node(id='Travel Agents', type='Agent'), type='CONTACT_FOR_CHANGES/REFUNDS'), Relationship(source=Node(id='Free And Reduced Fare Tickets', type='Ticket type'), target=Node(id='Group Passengers', type='Passenger group'), type='EXCLUDED_FROM_HANDLING_GUIDELINE')]\n"
     ]
    }
   ],
   "source": [
    "document = \"\"\"\n",
    "\n",
    "\n",
    "1. Eligibility  \n",
    "Passengers holding BR (695) /B7(525) tickets with confirmed Premium Economy booking that being affected by aircraft change.        \n",
    "2. Changes  \n",
    "(1) Within ticket validity, passengers may choose any of the options below without reissue fee for ONE transaction, and the ticket should be reissued accordingly:   \n",
    "A. Passengers may accept the re-accommodated economy booking class code of the same flight booked and refund the fare/tax difference reassessed based on the historical date; or  \n",
    "B. Passengers may choose to rebook to the designated economy booking class code of the same route on other dates in accordance with the fare rule and pay/refund the fare/tax difference reassessed based on the historical date; or  \n",
    "C. Passengers may choose to rebook to the same route, same premium economy booking class code as original ticket on other dates and pay/refund the fare/tax difference reassessed based on the historical date.  \n",
    "D. Passengers may choose to rebook to business class of the same route on other dates in accordance with the fare rule and pay the fare/tax difference reassessed based on the historical date.  \n",
    "(2) For tickets purchased from travel agents, please contact the original issuing agents for rebooking and ticket change.  \n",
    "(3) If the flights revert to aircrafts with premium economy class service afterwards, passengers who have reissued tickets in compliance with this bulletin and request to change back to premium economy class with same flight/date may claim a refund or pay the fare/tax differences reassessed based on the historical fare with the original booking class code, and are entitled to waive change fee for one transaction.  \n",
    "3.  Refunds  \n",
    "(1) Refunds of the ticket and/or related ancillary services issued by means of Electronic Miscellaneous Document (EMD) may be made in accordance with provisions of involuntary refund that the refund service charge will not be imposed. Regarding Booking Service Charge (BSC), it is non-refundable for partial-used ticket. The unused BSC can only be refunded when the ticket is total-unused or consists of BSC imposed on a flight-coupon base.  \n",
    "(2) Tickets purchased from travel agencies should refer to the original issuing travel agent.  \n",
    "(3) Tickets purchased from EVA worldwide offices or EVA website, please contact EVA reservation and ticketing offices.   \n",
    "4.  For tickets being changed with reissue fee waived but then voluntarily request for a change or refund afterwards, the service charge will not be waived.  \n",
    "5. Award ticket and upgrade with mileages  \n",
    "(1) Award tickets  \n",
    "A. The service fee of USD$50 can be waived once. Any mileage difference will be collected or returned if the new itinerary requires more or less miles than the original one. Expired miles are exempt from collection.  \n",
    "B. If an award ticket contains multiple segments in different route, zone or booking class, mileage deduction will be redeemed according to the higher cost one.  \n",
    "C. If the flights revert to aircrafts with premium economy class service afterwards, passengers who request to change back to premium economy class, the mileage differences will be collected if the reissue ticket requires more miles than the original one. Expired mileage evaluation upon reissue can be exempt.  \n",
    "The service fee of USD$50 for award ticket reissuance can be waived once for Green Card members. Diamond Card/Gold Card/Silver Card members are exempt from service fee as current policy.  \n",
    "(2)  Upgrade awards  \n",
    "Rebook the original ticket class, or change itinerary with new required mileage. Any mileage differences will be collected (returned).  \n",
    "(3) Please contact EVA Air reservation and ticketing offices for rebooking and ticket change.  \n",
    "(4) For the required mileage for Economy class to upgrade to Royal Laurel/Premium Laurel/Business Class, please refer to EVA website.  \n",
    "6.  Group passengers shall contact the original issuing travel agency for changes/ refunds.  \n",
    "7.  Free and Reduced fare tickets are not included in this handling guideline, e.g. ID/AD/DM...etc.\n",
    "\n",
    "\n",
    "\n",
    "\n",
    "1. Eligibility  \n",
    "Passengers holding BR (695) /B7(525) tickets with confirmed Premium Economy booking that being affected by aircraft change.        \n",
    "2. Changes  \n",
    "(1) Within ticket validity, passengers may choose any of the options below without reissue fee for ONE transaction, and the ticket should be reissued accordingly:   \n",
    "A. Passengers may accept the re-accommodated economy booking class code of the same flight booked and refund the fare/tax difference reassessed based on the historical date; or  \n",
    "B. Passengers may choose to rebook to the designated economy booking class code of the same route on other dates in accordance with the fare rule and pay/refund the fare/tax difference reassessed based on the historical date; or  \n",
    "C. Passengers may choose to rebook to the same route, same premium economy booking class code as original ticket on other dates and pay/refund the fare/tax difference reassessed based on the historical date.  \n",
    "D. Passengers may choose to rebook to business class of the same route on other dates in accordance with the fare rule and pay the fare/tax difference reassessed based on the historical date.  \n",
    "(2) For tickets purchased from travel agents, please contact the original issuing agents for rebooking and ticket change.  \n",
    "(3) If the flights revert to aircrafts with premium economy class service afterwards, passengers who have reissued tickets in compliance with this bulletin and request to change back to premium economy class with same flight/date may claim a refund or pay the fare/tax differences reassessed based on the historical fare with the original booking class code, and are entitled to waive change fee for one transaction.  \n",
    "3.  Refunds  \n",
    "(1) Refunds of the ticket and/or related ancillary services issued by means of Electronic Miscellaneous Document (EMD) may be made in accordance with provisions of involuntary refund that the refund service charge will not be imposed. Regarding Booking Service Charge (BSC), it is non-refundable for partial-used ticket. The unused BSC can only be refunded when the ticket is total-unused or consists of BSC imposed on a flight-coupon base.  \n",
    "(2) Tickets purchased from travel agencies should refer to the original issuing travel agent.  \n",
    "(3) Tickets purchased from EVA worldwide offices or EVA website, please contact EVA reservation and ticketing offices.   \n",
    "4.  For tickets being changed with reissue fee waived but then voluntarily request for a change or refund afterwards, the service charge will not be waived.  \n",
    "5. Award ticket and upgrade with mileages  \n",
    "(1) Award tickets  \n",
    "A. The service fee of USD$50 can be waived once. Any mileage difference will be collected or returned if the new itinerary requires more or less miles than the original one. Expired miles are exempt from collection.  \n",
    "B. If an award ticket contains multiple segments in different route, zone or booking class, mileage deduction will be redeemed according to the higher cost one.  \n",
    "C. If the flights revert to aircrafts with premium economy class service afterwards, passengers who request to change back to premium economy class, the mileage differences will be collected if the reissue ticket requires more miles than the original one. Expired mileage evaluation upon reissue can be exempt.  \n",
    "The service fee of USD$50 for award ticket reissuance can be waived once for Green Card members. Diamond Card/Gold Card/Silver Card members are exempt from service fee as current policy.  \n",
    "(2)  Upgrade awards  \n",
    "Rebook the original ticket class, or change itinerary with new required mileage. Any mileage differences will be collected (returned).  \n",
    "(3) Please contact EVA Air reservation and ticketing offices for rebooking and ticket change.  \n",
    "(4) For the required mileage for Economy class to upgrade to Royal Laurel/Premium Laurel/Business Class, please refer to EVA website.  \n",
    "6.  Group passengers shall contact the original issuing travel agency for changes/ refunds.  \n",
    "7.  Free and Reduced fare tickets are not included in this handling guideline, e.g. ID/AD/DM...etc.\n",
    "\n",
    "\n",
    "\n",
    "\n",
    "1. Eligibility  \n",
    "Passengers holding BR (695) /B7(525) tickets with confirmed Premium Economy booking that being affected by aircraft change.        \n",
    "2. Changes  \n",
    "(1) Within ticket validity, passengers may choose any of the options below without reissue fee for ONE transaction, and the ticket should be reissued accordingly:   \n",
    "A. Passengers may accept the re-accommodated economy booking class code of the same flight booked and refund the fare/tax difference reassessed based on the historical date; or  \n",
    "B. Passengers may choose to rebook to the designated economy booking class code of the same route on other dates in accordance with the fare rule and pay/refund the fare/tax difference reassessed based on the historical date; or  \n",
    "C. Passengers may choose to rebook to the same route, same premium economy booking class code as original ticket on other dates and pay/refund the fare/tax difference reassessed based on the historical date.  \n",
    "D. Passengers may choose to rebook to business class of the same route on other dates in accordance with the fare rule and pay the fare/tax difference reassessed based on the historical date.  \n",
    "(2) For tickets purchased from travel agents, please contact the original issuing agents for rebooking and ticket change.  \n",
    "(3) If the flights revert to aircrafts with premium economy class service afterwards, passengers who have reissued tickets in compliance with this bulletin and request to change back to premium economy class with same flight/date may claim a refund or pay the fare/tax differences reassessed based on the historical fare with the original booking class code, and are entitled to waive change fee for one transaction.  \n",
    "3.  Refunds  \n",
    "(1) Refunds of the ticket and/or related ancillary services issued by means of Electronic Miscellaneous Document (EMD) may be made in accordance with provisions of involuntary refund that the refund service charge will not be imposed. Regarding Booking Service Charge (BSC), it is non-refundable for partial-used ticket. The unused BSC can only be refunded when the ticket is total-unused or consists of BSC imposed on a flight-coupon base.  \n",
    "(2) Tickets purchased from travel agencies should refer to the original issuing travel agent.  \n",
    "(3) Tickets purchased from EVA worldwide offices or EVA website, please contact EVA reservation and ticketing offices.   \n",
    "4.  For tickets being changed with reissue fee waived but then voluntarily request for a change or refund afterwards, the service charge will not be waived.  \n",
    "5. Award ticket and upgrade with mileages  \n",
    "(1) Award tickets  \n",
    "A. The service fee of USD$50 can be waived once. Any mileage difference will be collected or returned if the new itinerary requires more or less miles than the original one. Expired miles are exempt from collection.  \n",
    "B. If an award ticket contains multiple segments in different route, zone or booking class, mileage deduction will be redeemed according to the higher cost one.  \n",
    "C. If the flights revert to aircrafts with premium economy class service afterwards, passengers who request to change back to premium economy class, the mileage differences will be collected if the reissue ticket requires more miles than the original one. Expired mileage evaluation upon reissue can be exempt.  \n",
    "The service fee of USD$50 for award ticket reissuance can be waived once for Green Card members. Diamond Card/Gold Card/Silver Card members are exempt from service fee as current policy.  \n",
    "(2)  Upgrade awards  \n",
    "Rebook the original ticket class, or change itinerary with new required mileage. Any mileage differences will be collected (returned).  \n",
    "(3) Please contact EVA Air reservation and ticketing offices for rebooking and ticket change.  \n",
    "(4) For the required mileage for Economy class to upgrade to Royal Laurel/Premium Laurel/Business Class, please refer to EVA website.  \n",
    "6.  Group passengers shall contact the original issuing travel agency for changes/ refunds.  \n",
    "7.  Free and Reduced fare tickets are not included in this handling guideline, e.g. ID/AD/DM...etc.  \n",
    "1. Eligibility  \n",
    "Passengers holding BR (695) /B7(525) tickets with confirmed Premium Economy booking that being affected by aircraft change.        \n",
    "2. Changes  \n",
    "(1) Within ticket validity, passengers may choose any of the options below without reissue fee for ONE transaction, and the ticket should be reissued accordingly:   \n",
    "A. Passengers may accept the re-accommodated economy booking class code of the same flight booked and refund the fare/tax difference reassessed based on the historical date; or  \n",
    "B. Passengers may choose to rebook to the designated economy booking class code of the same route on other dates in accordance with the fare rule and pay/refund the fare/tax difference reassessed based on the historical date; or  \n",
    "C. Passengers may choose to rebook to the same route, same premium economy booking class code as original ticket on other dates and pay/refund the fare/tax difference reassessed based on the historical date.  \n",
    "D. Passengers may choose to rebook to business class of the same route on other dates in accordance with the fare rule and pay the fare/tax difference reassessed based on the historical date.  \n",
    "(2) For tickets purchased from travel agents, please contact the original issuing agents for rebooking and ticket change.  \n",
    "(3) If the flights revert to aircrafts with premium economy class service afterwards, passengers who have reissued tickets in compliance with this bulletin and request to change back to premium economy class with same flight/date may claim a refund or pay the fare/tax differences reassessed based on the historical fare with the original booking class code, and are entitled to waive change fee for one transaction.  \n",
    "3.  Refunds  \n",
    "(1) Refunds of the ticket and/or related ancillary services issued by means of Electronic Miscellaneous Document (EMD) may be made in accordance with provisions of involuntary refund that the refund service charge will not be imposed. Regarding Booking Service Charge (BSC), it is non-refundable for partial-used ticket. The unused BSC can only be refunded when the ticket is total-unused or consists of BSC imposed on a flight-coupon base.  \n",
    "(2) Tickets purchased from travel agencies should refer to the original issuing travel agent.  \n",
    "(3) Tickets purchased from EVA worldwide offices or EVA website, please contact EVA reservation and ticketing offices.   \n",
    "4.  For tickets being changed with reissue fee waived but then voluntarily request for a change or refund afterwards, the service charge will not be waived.  \n",
    "5. Award ticket and upgrade with mileages  \n",
    "(1) Award tickets  \n",
    "A. The service fee of USD$50 can be waived once. Any mileage difference will be collected or returned if the new itinerary requires more or less miles than the original one. Expired miles are exempt from collection.  \n",
    "B. If an award ticket contains multiple segments in different route, zone or booking class, mileage deduction will be redeemed according to the higher cost one.  \n",
    "C. If the flights revert to aircrafts with premium economy class service afterwards, passengers who request to change back to premium economy class, the mileage differences will be collected if the reissue ticket requires more miles than the original one. Expired mileage evaluation upon reissue can be exempt.  \n",
    "The service fee of USD$50 for award ticket reissuance can be waived once for Green Card members. Diamond Card/Gold Card/Silver Card members are exempt from service fee as current policy.  \n",
    "(2)  Upgrade awards  \n",
    "Rebook the original ticket class, or change itinerary with new required mileage. Any mileage differences will be collected (returned).  \n",
    "(3) Please contact EVA Air reservation and ticketing offices for rebooking and ticket change.  \n",
    "(4) For the required mileage for Economy class to upgrade to Royal Laurel/Premium Laurel/Business Class, please refer to EVA website.  \n",
    "6.  Group passengers shall contact the original issuing travel agency for changes/ refunds.  \n",
    "7.  Free and Reduced fare tickets are not included in this handling guideline, e.g. ID/AD/DM...etc.  \n",
    "1. Eligibility  \n",
    "Passengers holding BR (695) /B7(525) tickets with confirmed Premium Economy booking that being affected by aircraft change.        \n",
    "2. Changes  \n",
    "(1) Within ticket validity, passengers may choose any of the options below without reissue fee for ONE transaction, and the ticket should be reissued accordingly:   \n",
    "A. Passengers may accept the re-accommodated economy booking class code of the same flight booked and refund the fare/tax difference reassessed based on the historical date; or  \n",
    "B. Passengers may choose to rebook to the designated economy booking class code of the same route on other dates in accordance with the fare rule and pay/refund the fare/tax difference reassessed based on the historical date; or  \n",
    "C. Passengers may choose to rebook to the same route, same premium economy booking class code as original ticket on other dates and pay/refund the fare/tax difference reassessed based on the historical date.  \n",
    "D. Passengers may choose to rebook to business class of the same route on other dates in accordance with the fare rule and pay the fare/tax difference reassessed based on the historical date.  \n",
    "(2) For tickets purchased from travel agents, please contact the original issuing agents for rebooking and ticket change.  \n",
    "(3) If the flights revert to aircrafts with premium economy class service afterwards, passengers who have reissued tickets in compliance with this bulletin and request to change back to premium economy class with same flight/date may claim a refund or pay the fare/tax differences reassessed based on the historical fare with the original booking class code, and are entitled to waive change fee for one transaction.  \n",
    "3.  Refunds  \n",
    "(1) Refunds of the ticket and/or related ancillary services issued by means of Electronic Miscellaneous Document (EMD) may be made in accordance with provisions of involuntary refund that the refund service charge will not be imposed. Regarding Booking Service Charge (BSC), it is non-refundable for partial-used ticket. The unused BSC can only be refunded when the ticket is total-unused or consists of BSC imposed on a flight-coupon base.  \n",
    "(2) Tickets purchased from travel agencies should refer to the original issuing travel agent.  \n",
    "(3) Tickets purchased from EVA worldwide offices or EVA website, please contact EVA reservation and ticketing offices.   \n",
    "4.  For tickets being changed with reissue fee waived but then voluntarily request for a change or refund afterwards, the service charge will not be waived.  \n",
    "5. Award ticket and upgrade with mileages  \n",
    "(1) Award tickets  \n",
    "A. The service fee of USD$50 can be waived once. Any mileage difference will be collected or returned if the new itinerary requires more or less miles than the original one. Expired miles are exempt from collection.  \n",
    "B. If an award ticket contains multiple segments in different route, zone or booking class, mileage deduction will be redeemed according to the higher cost one.  \n",
    "C. If the flights revert to aircrafts with premium economy class service afterwards, passengers who request to change back to premium economy class, the mileage differences will be collected if the reissue ticket requires more miles than the original one. Expired mileage evaluation upon reissue can be exempt.  \n",
    "The service fee of USD$50 for award ticket reissuance can be waived once for Green Card members. Diamond Card/Gold Card/Silver Card members are exempt from service fee as current policy.  \n",
    "(2)  Upgrade awards  \n",
    "Rebook the original ticket class, or change itinerary with new required mileage. Any mileage differences will be collected (returned).  \n",
    "(3) Please contact EVA Air reservation and ticketing offices for rebooking and ticket change.  \n",
    "(4) For the required mileage for Economy class to upgrade to Royal Laurel/Premium Laurel/Business Class, please refer to EVA website.  \n",
    "6.  Group passengers shall contact the original issuing travel agency for changes/ refunds.  \n",
    "7.  Free and Reduced fare tickets are not included in this handling guideline, e.g. ID/AD/DM...etc.  \n",
    "Jan 09, 2024 published  \n",
    "Refunds of EVA/ UNI Air Ticket for Komatsu Routes due to Noto Peninsula Earthquakes in Japan\",\"Ticket Changes/Refunds due to Flight Irregularities\n",
    "Changes/Refunds of EVA/UNI Air Tickets affected by Aircraft Change\n",
    "1. Eligibility  \n",
    "Passengers holding BR (695) /B7(525) tickets with confirmed Premium Economy booking that being affected by aircraft change.        \n",
    "2. Changes  \n",
    "(1) Within ticket validity, passengers may choose any of the options below without reissue fee for ONE transaction, and the ticket should be reissued accordingly:   \n",
    "A. Passengers may accept the re-accommodated economy booking class code of the same flight booked and refund the fare/tax difference reassessed based on the historical date; or  \n",
    "B. Passengers may choose to rebook to the designated economy booking class code of the same route on other dates in accordance with the fare rule and pay/refund the fare/tax difference reassessed based on the historical date; or  \n",
    "C. Passengers may choose to rebook to the same route, same premium economy booking class code as original ticket on other dates and pay/refund the fare/tax difference reassessed based on the historical date.  \n",
    "D. Passengers may choose to rebook to business class of the same route on other dates in accordance with the fare rule and pay the fare/tax difference reassessed based on the historical date.  \n",
    "(2) For tickets purchased from travel agents, please contact the original issuing agents for rebooking and ticket change.  \n",
    "(3) If the flights revert to aircrafts with premium economy class service afterwards, passengers who have reissued tickets in compliance with this bulletin and request to change back to premium economy class with same flight/date may claim a refund or pay the fare/tax differences reassessed based on the historical fare with the original booking class code, and are entitled to waive change fee for one transaction.  \n",
    "3.  Refunds  \n",
    "(1) Refunds of the ticket and/or related ancillary services issued by means of Electronic Miscellaneous Document (EMD) may be made in accordance with provisions of involuntary refund that the refund service charge will not be imposed. Regarding Booking Service Charge (BSC), it is non-refundable for partial-used ticket. The unused BSC can only be refunded when the ticket is total-unused or consists of BSC imposed on a flight-coupon base.  \n",
    "(2) Tickets purchased from travel agencies should refer to the original issuing travel agent.  \n",
    "(3) Tickets purchased from EVA worldwide offices or EVA website, please contact EVA reservation and ticketing offices.   \n",
    "4.  For tickets being changed with reissue fee waived but then voluntarily request for a change or refund afterwards, the service charge will not be waived.  \n",
    "5. Award ticket and upgrade with mileages  \n",
    "(1) Award tickets  \n",
    "A. The service fee of USD$50 can be waived once. Any mileage difference will be collected or returned if the new itinerary requires more or less miles than the original one. Expired miles are exempt from collection.  \n",
    "B. If an award ticket contains multiple segments in different route, zone or booking class, mileage deduction will be redeemed according to the higher cost one.  \n",
    "C. If the flights revert to aircrafts with premium economy class service afterwards, passengers who request to change back to premium economy class, the mileage differences will be collected if the reissue ticket requires more miles than the original one. Expired mileage evaluation upon reissue can be exempt.  \n",
    "The service fee of USD$50 for award ticket reissuance can be waived once for Green Card members. Diamond Card/Gold Card/Silver Card members are exempt from service fee as current policy.  \n",
    "(2)  Upgrade awards  \n",
    "Rebook the original ticket class, or change itinerary with new required mileage. Any mileage differences will be collected (returned).  \n",
    "(3) Please contact EVA Air reservation and ticketing offices for rebooking and ticket change.  \n",
    "(4) For the required mileage for Economy class to upgrade to Royal Laurel/Premium Laurel/Business Class, please refer to EVA website.  \n",
    "6.  Group passengers shall contact the original issuing travel agency for changes/ refunds.  \n",
    "7.  Free and Reduced fare tickets are not included in this handling guideline, e.g. ID/AD/DM...etc.\n",
    "\n",
    "1. Eligibility  \n",
    "Passengers holding BR (695) /B7(525) tickets with confirmed Premium Economy booking that being affected by aircraft change.        \n",
    "2. Changes  \n",
    "(1) Within ticket validity, passengers may choose any of the options below without reissue fee for ONE transaction, and the ticket should be reissued accordingly:   \n",
    "A. Passengers may accept the re-accommodated economy booking class code of the same flight booked and refund the fare/tax difference reassessed based on the historical date; or  \n",
    "B. Passengers may choose to rebook to the designated economy booking class code of the same route on other dates in accordance with the fare rule and pay/refund the fare/tax difference reassessed based on the historical date; or  \n",
    "C. Passengers may choose to rebook to the same route, same premium economy booking class code as original ticket on other dates and pay/refund the fare/tax difference reassessed based on the historical date.  \n",
    "D. Passengers may choose to rebook to business class of the same route on other dates in accordance with the fare rule and pay the fare/tax difference reassessed based on the historical date.  \n",
    "(2) For tickets purchased from travel agents, please contact the original issuing agents for rebooking and ticket change.  \n",
    "(3) If the flights revert to aircrafts with premium economy class service afterwards, passengers who have reissued tickets in compliance with this bulletin and request to change back to premium economy class with same flight/date may claim a refund or pay the fare/tax differences reassessed based on the historical fare with the original booking class code, and are entitled to waive change fee for one transaction.  \n",
    "3.  Refunds  \n",
    "(1) Refunds of the ticket and/or related ancillary services issued by means of Electronic Miscellaneous Document (EMD) may be made in accordance with provisions of involuntary refund that the refund service charge will not be imposed. Regarding Booking Service Charge (BSC), it is non-refundable for partial-used ticket. The unused BSC can only be refunded when the ticket is total-unused or consists of BSC imposed on a flight-coupon base.  \n",
    "(2) Tickets purchased from travel agencies should refer to the original issuing travel agent.  \n",
    "(3) Tickets purchased from EVA worldwide offices or EVA website, please contact EVA reservation and ticketing offices.   \n",
    "4.  For tickets being changed with reissue fee waived but then voluntarily request for a change or refund afterwards, the service charge will not be waived.  \n",
    "5. Award ticket and upgrade with mileages  \n",
    "(1) Award tickets  \n",
    "A. The service fee of USD$50 can be waived once. Any mileage difference will be collected or returned if the new itinerary requires more or less miles than the original one. Expired miles are exempt from collection.  \n",
    "B. If an award ticket contains multiple segments in different route, zone or booking class, mileage deduction will be redeemed according to the higher cost one.  \n",
    "C. If the flights revert to aircrafts with premium economy class service afterwards, passengers who request to change back to premium economy class, the mileage differences will be collected if the reissue ticket requires more miles than the original one. Expired mileage evaluation upon reissue can be exempt.  \n",
    "The service fee of USD$50 for award ticket reissuance can be waived once for Green Card members. Diamond Card/Gold Card/Silver Card members are exempt from service fee as current policy.  \n",
    "(2)  Upgrade awards  \n",
    "Rebook the original ticket class, or change itinerary with new required mileage. Any mileage differences will be collected (returned).  \n",
    "(3) Please contact EVA Air reservation and ticketing offices for rebooking and ticket change.  \n",
    "(4) For the required mileage for Economy class to upgrade to Royal Laurel/Premium Laurel/Business Class, please refer to EVA website.  \n",
    "6.  Group passengers shall contact the original issuing travel agency for changes/ refunds.  \n",
    "7.  Free and Reduced fare tickets are not included in this handling guideline, e.g. ID/AD/DM...etc.\n",
    "\n",
    "1. Eligibility  \n",
    "Passengers holding BR (695) /B7(525) tickets with confirmed Premium Economy booking that being affected by aircraft change.        \n",
    "2. Changes  \n",
    "(1) Within ticket validity, passengers may choose any of the options below without reissue fee for ONE transaction, and the ticket should be reissued accordingly:   \n",
    "A. Passengers may accept the re-accommodated economy booking class code of the same flight booked and refund the fare/tax difference reassessed based on the historical date; or  \n",
    "B. Passengers may choose to rebook to the designated economy booking class code of the same route on other dates in accordance with the fare rule and pay/refund the fare/tax difference reassessed based on the historical date; or  \n",
    "C. Passengers may choose to rebook to the same route, same premium economy booking class code as original ticket on other dates and pay/refund the fare/tax difference reassessed based on the historical date.  \n",
    "D. Passengers may choose to rebook to business class of the same route on other dates in accordance with the fare rule and pay the fare/tax difference reassessed based on the historical date.  \n",
    "(2) For tickets purchased from travel agents, please contact the original issuing agents for rebooking and ticket change.  \n",
    "(3) If the flights revert to aircrafts with premium economy class service afterwards, passengers who have reissued tickets in compliance with this bulletin and request to change back to premium economy class with same flight/date may claim a refund or pay the fare/tax differences reassessed based on the historical fare with the original booking class code, and are entitled to waive change fee for one transaction.  \n",
    "3.  Refunds  \n",
    "(1) Refunds of the ticket and/or related ancillary services issued by means of Electronic Miscellaneous Document (EMD) may be made in accordance with provisions of involuntary refund that the refund service charge will not be imposed. Regarding Booking Service Charge (BSC), it is non-refundable for partial-used ticket. The unused BSC can only be refunded when the ticket is total-unused or consists of BSC imposed on a flight-coupon base.  \n",
    "(2) Tickets purchased from travel agencies should refer to the original issuing travel agent.  \n",
    "(3) Tickets purchased from EVA worldwide offices or EVA website, please contact EVA reservation and ticketing offices.   \n",
    "4.  For tickets being changed with reissue fee waived but then voluntarily request for a change or refund afterwards, the service charge will not be waived.  \n",
    "5. Award ticket and upgrade with mileages  \n",
    "(1) Award tickets  \n",
    "A. The service fee of USD$50 can be waived once. Any mileage difference will be collected or returned if the new itinerary requires more or less miles than the original one. Expired miles are exempt from collection.  \n",
    "B. If an award ticket contains multiple segments in different route, zone or booking class, mileage deduction will be redeemed according to the higher cost one.  \n",
    "C. If the flights revert to aircrafts with premium economy class service afterwards, passengers who request to change back to premium economy class, the mileage differences will be collected if the reissue ticket requires more miles than the original one. Expired mileage evaluation upon reissue can be exempt.  \n",
    "The service fee of USD$50 for award ticket reissuance can be waived once for Green Card members. Diamond Card/Gold Card/Silver Card members are exempt from service fee as current policy.  \n",
    "(2)  Upgrade awards  \n",
    "Rebook the original ticket class, or change itinerary with new required mileage. Any mileage differences will be collected (returned).  \n",
    "(3) Please contact EVA Air reservation and ticketing offices for rebooking and ticket change.  \n",
    "(4) For the required mileage for Economy class to upgrade to Royal Laurel/Premium Laurel/Business Class, please refer to EVA website.  \n",
    "6.  Group passengers shall contact the original issuing travel agency for changes/ refunds.  \n",
    "7.  Free and Reduced fare tickets are not included in this handling guideline, e.g. ID/AD/DM...etc.  \n",
    "1. Eligibility  \n",
    "Passengers holding BR (695) /B7(525) tickets with confirmed Premium Economy booking that being affected by aircraft change.        \n",
    "2. Changes  \n",
    "(1) Within ticket validity, passengers may choose any of the options below without reissue fee for ONE transaction, and the ticket should be reissued accordingly:   \n",
    "A. Passengers may accept the re-accommodated economy booking class code of the same flight booked and refund the fare/tax difference reassessed based on the historical date; or  \n",
    "B. Passengers may choose to rebook to the designated economy booking class code of the same route on other dates in accordance with the fare rule and pay/refund the fare/tax difference reassessed based on the historical date; or  \n",
    "C. Passengers may choose to rebook to the same route, same premium economy booking class code as original ticket on other dates and pay/refund the fare/tax difference reassessed based on the historical date.  \n",
    "D. Passengers may choose to rebook to business class of the same route on other dates in accordance with the fare rule and pay the fare/tax difference reassessed based on the historical date.  \n",
    "(2) For tickets purchased from travel agents, please contact the original issuing agents for rebooking and ticket change.  \n",
    "(3) If the flights revert to aircrafts with premium economy class service afterwards, passengers who have reissued tickets in compliance with this bulletin and request to change back to premium economy class with same flight/date may claim a refund or pay the fare/tax differences reassessed based on the historical fare with the original booking class code, and are entitled to waive change fee for one transaction.  \n",
    "3.  Refunds  \n",
    "(1) Refunds of the ticket and/or related ancillary services issued by means of Electronic Miscellaneous Document (EMD) may be made in accordance with provisions of involuntary refund that the refund service charge will not be imposed. Regarding Booking Service Charge (BSC), it is non-refundable for partial-used ticket. The unused BSC can only be refunded when the ticket is total-unused or consists of BSC imposed on a flight-coupon base.  \n",
    "(2) Tickets purchased from travel agencies should refer to the original issuing travel agent.  \n",
    "(3) Tickets purchased from EVA worldwide offices or EVA website, please contact EVA reservation and ticketing offices.   \n",
    "4.  For tickets being changed with reissue fee waived but then voluntarily request for a change or refund afterwards, the service charge will not be waived.  \n",
    "5. Award ticket and upgrade with mileages  \n",
    "(1) Award tickets  \n",
    "A. The service fee of USD$50 can be waived once. Any mileage difference will be collected or returned if the new itinerary requires more or less miles than the original one. Expired miles are exempt from collection.  \n",
    "B. If an award ticket contains multiple segments in different route, zone or booking class, mileage deduction will be redeemed according to the higher cost one.  \n",
    "C. If the flights revert to aircrafts with premium economy class service afterwards, passengers who request to change back to premium economy class, the mileage differences will be collected if the reissue ticket requires more miles than the original one. Expired mileage evaluation upon reissue can be exempt.  \n",
    "The service fee of USD$50 for award ticket reissuance can be waived once for Green Card members. Diamond Card/Gold Card/Silver Card members are exempt from service fee as current policy.  \n",
    "(2)  Upgrade awards  \n",
    "Rebook the original ticket class, or change itinerary with new required mileage. Any mileage differences will be collected (returned).  \n",
    "(3) Please contact EVA Air reservation and ticketing offices for rebooking and ticket change.  \n",
    "(4) For the required mileage for Economy class to upgrade to Royal Laurel/Premium Laurel/Business Class, please refer to EVA website.  \n",
    "6.  Group passengers shall contact the original issuing travel agency for changes/ refunds.  \n",
    "7.  Free and Reduced fare tickets are not included in this handling guideline, e.g. ID/AD/DM...etc.  \n",
    "1. Eligibility  \n",
    "Passengers holding BR (695) /B7(525) tickets with confirmed Premium Economy booking that being affected by aircraft change.        \n",
    "2. Changes  \n",
    "(1) Within ticket validity, passengers may choose any of the options below without reissue fee for ONE transaction, and the ticket should be reissued accordingly:   \n",
    "A. Passengers may accept the re-accommodated economy booking class code of the same flight booked and refund the fare/tax difference reassessed based on the historical date; or  \n",
    "B. Passengers may choose to rebook to the designated economy booking class code of the same route on other dates in accordance with the fare rule and pay/refund the fare/tax difference reassessed based on the historical date; or  \n",
    "C. Passengers may choose to rebook to the same route, same premium economy booking class code as original ticket on other dates and pay/refund the fare/tax difference reassessed based on the historical date.  \n",
    "D. Passengers may choose to rebook to business class of the same route on other dates in accordance with the fare rule and pay the fare/tax difference reassessed based on the historical date.  \n",
    "(2) For tickets purchased from travel agents, please contact the original issuing agents for rebooking and ticket change.  \n",
    "(3) If the flights revert to aircrafts with premium economy class service afterwards, passengers who have reissued tickets in compliance with this bulletin and request to change back to premium economy class with same flight/date may claim a refund or pay the fare/tax differences reassessed based on the historical fare with the original booking class code, and are entitled to waive change fee for one transaction.  \n",
    "3.  Refunds  \n",
    "(1) Refunds of the ticket and/or related ancillary services issued by means of Electronic Miscellaneous Document (EMD) may be made in accordance with provisions of involuntary refund that the refund service charge will not be imposed. Regarding Booking Service Charge (BSC), it is non-refundable for partial-used ticket. The unused BSC can only be refunded when the ticket is total-unused or consists of BSC imposed on a flight-coupon base.  \n",
    "(2) Tickets purchased from travel agencies should refer to the original issuing travel agent.  \n",
    "(3) Tickets purchased from EVA worldwide offices or EVA website, please contact EVA reservation and ticketing offices.   \n",
    "4.  For tickets being changed with reissue fee waived but then voluntarily request for a change or refund afterwards, the service charge will not be waived.  \n",
    "5. Award ticket and upgrade with mileages  \n",
    "(1) Award tickets  \n",
    "A. The service fee of USD$50 can be waived once. Any mileage difference will be collected or returned if the new itinerary requires more or less miles than the original one. Expired miles are exempt from collection.  \n",
    "B. If an award ticket contains multiple segments in different route, zone or booking class, mileage deduction will be redeemed according to the higher cost one.  \n",
    "C. If the flights revert to aircrafts with premium economy class service afterwards, passengers who request to change back to premium economy class, the mileage differences will be collected if the reissue ticket requires more miles than the original one. Expired mileage evaluation upon reissue can be exempt.  \n",
    "The service fee of USD$50 for award ticket reissuance can be waived once for Green Card members. Diamond Card/Gold Card/Silver Card members are exempt from service fee as current policy.  \n",
    "(2)  Upgrade awards  \n",
    "Rebook the original ticket class, or change itinerary with new required mileage. Any mileage differences will be collected (returned).  \n",
    "(3) Please contact EVA Air reservation and ticketing offices for rebooking and ticket change.  \n",
    "(4) For the required mileage for Economy class to upgrade to Royal Laurel/Premium Laurel/Business Class, please refer to EVA website.  \n",
    "6.  Group passengers shall contact the original issuing travel agency for changes/ refunds.  \n",
    "7.  Free and Reduced fare tickets are not included in this handling guideline, e.g. ID/AD/DM...etc.  \n",
    "Jan 09, 2024 published  \n",
    "\"\"\"\n",
    "document_df = pd.DataFrame([{\"Content\": document}])\n",
    "\n",
    "llm = ChatOpenAI(\n",
    "    model=\"gpt-3.5-turbo-0125\",\n",
    "    temperature=0,\n",
    "    max_tokens=2000,\n",
    ")\n",
    "\n",
    "# initialize graph transformer:\n",
    "llm_transformer = LLMGraphTransformer(\n",
    "    llm=llm,\n",
    ")\n",
    "\n",
    "policies_df = load_policies(start_index=start_index, limit=limit)\n",
    "gd = convert_to_graph_documents(document_df, llm_transformer=llm_transformer)\n",
    "print(len(gd[0].nodes), gd[0].nodes)\n",
    "print(len(gd[0].relationships), gd[0].relationships)"
   ]
  },
  {
   "cell_type": "code",
   "execution_count": 40,
   "metadata": {},
   "outputs": [
    {
     "name": "stdout",
     "output_type": "stream",
     "text": [
      "Loaded policies: (440, 4)\n",
      "20 [Node(id='Br (695) /B7(525) Tickets', type='Ticket'), Node(id='Premium Economy Booking', type='Booking'), Node(id='Aircraft Change', type='Event'), Node(id='Economy Booking Class Code', type='Booking'), Node(id='Business Class', type='Booking'), Node(id='Travel Agents', type='Organization'), Node(id='Premium Economy Class Service', type='Service'), Node(id='Electronic Miscellaneous Document (Emd)', type='Document'), Node(id='Booking Service Charge (Bsc)', type='Charge'), Node(id='Eva Worldwide Offices', type='Organization'), Node(id='Eva Website', type='Website'), Node(id='Award Tickets', type='Ticket'), Node(id='Upgrade Awards', type='Award'), Node(id='Eva Air Reservation And Ticketing Offices', type='Organization'), Node(id='Royal Laurel', type='Booking'), Node(id='Premium Laurel', type='Booking'), Node(id='Group Passengers', type='Group'), Node(id='Free And Reduced Fare Tickets', type='Ticket'), Node(id='Noto Peninsula Earthquakes', type='Event'), Node(id='Jan 09, 2024', type='Date')]\n",
      "18 [Relationship(source=Node(id='Br (695) /B7(525) Tickets', type='Ticket'), target=Node(id='Premium Economy Booking', type='Booking'), type='HAS_BOOKING'), Relationship(source=Node(id='Premium Economy Booking', type='Booking'), target=Node(id='Aircraft Change', type='Event'), type='AFFECTED_BY'), Relationship(source=Node(id='Premium Economy Booking', type='Booking'), target=Node(id='Economy Booking Class Code', type='Booking'), type='CAN_BE_CHANGED_TO'), Relationship(source=Node(id='Premium Economy Booking', type='Booking'), target=Node(id='Business Class', type='Booking'), type='CAN_BE_CHANGED_TO'), Relationship(source=Node(id='Premium Economy Booking', type='Booking'), target=Node(id='Premium Economy Class Service', type='Service'), type='CAN_BE_CHANGED_TO'), Relationship(source=Node(id='Travel Agents', type='Organization'), target=Node(id='Premium Economy Booking', type='Booking'), type='ISSUES'), Relationship(source=Node(id='Premium Economy Booking', type='Booking'), target=Node(id='Electronic Miscellaneous Document (Emd)', type='Document'), type='RELATED_TO'), Relationship(source=Node(id='Premium Economy Booking', type='Booking'), target=Node(id='Booking Service Charge (Bsc)', type='Charge'), type='RELATED_TO'), Relationship(source=Node(id='Eva Worldwide Offices', type='Organization'), target=Node(id='Premium Economy Booking', type='Booking'), type='ISSUES'), Relationship(source=Node(id='Eva Website', type='Website'), target=Node(id='Premium Economy Booking', type='Booking'), type='ISSUES'), Relationship(source=Node(id='Award Tickets', type='Ticket'), target=Node(id='Upgrade Awards', type='Award'), type='RELATED_TO'), Relationship(source=Node(id='Eva Air Reservation And Ticketing Offices', type='Organization'), target=Node(id='Award Tickets', type='Ticket'), type='ISSUES'), Relationship(source=Node(id='Eva Air Reservation And Ticketing Offices', type='Organization'), target=Node(id='Upgrade Awards', type='Award'), type='ISSUES'), Relationship(source=Node(id='Economy Booking Class Code', type='Booking'), target=Node(id='Royal Laurel', type='Booking'), type='CAN_BE_UPGRADED_TO'), Relationship(source=Node(id='Economy Booking Class Code', type='Booking'), target=Node(id='Premium Laurel', type='Booking'), type='CAN_BE_UPGRADED_TO'), Relationship(source=Node(id='Travel Agents', type='Organization'), target=Node(id='Group Passengers', type='Group'), type='ISSUES'), Relationship(source=Node(id='Noto Peninsula Earthquakes', type='Event'), target=Node(id='Premium Economy Booking', type='Booking'), type='AFFECTS'), Relationship(source=Node(id='Jan 09, 2024', type='Date'), target=Node(id='Noto Peninsula Earthquakes', type='Event'), type='DATE_OF')]\n"
     ]
    }
   ],
   "source": [
    "\n",
    "llm = ChatOpenAI(\n",
    "    model=\"gpt-4-0125-preview\",\n",
    "    temperature=0,\n",
    "    max_tokens=2000,\n",
    ")\n",
    "\n",
    "# initialize graph transformer:\n",
    "llm_transformer = LLMGraphTransformer(\n",
    "    llm=llm,\n",
    ")\n",
    "\n",
    "policies_df = load_policies(start_index=start_index, limit=limit)\n",
    "gd = convert_to_graph_documents(document_df, llm_transformer=llm_transformer)\n",
    "print(len(gd[0].nodes), gd[0].nodes)\n",
    "print(len(gd[0].relationships), gd[0].relationships)"
   ]
  }
 ],
 "metadata": {
  "kernelspec": {
   "display_name": "nlp_airline_project-fCxuAmfF",
   "language": "python",
   "name": "python3"
  },
  "language_info": {
   "codemirror_mode": {
    "name": "ipython",
    "version": 3
   },
   "file_extension": ".py",
   "mimetype": "text/x-python",
   "name": "python",
   "nbconvert_exporter": "python",
   "pygments_lexer": "ipython3",
   "version": "3.11.2"
  }
 },
 "nbformat": 4,
 "nbformat_minor": 2
}
