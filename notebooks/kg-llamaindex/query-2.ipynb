{
 "cells": [
  {
   "cell_type": "code",
   "execution_count": 4,
   "metadata": {},
   "outputs": [
    {
     "name": "stdout",
     "output_type": "stream",
     "text": [
      "DEBUG:llama_index.core.storage.kvstore.simple_kvstore:Loading llama_index.core.storage.kvstore.simple_kvstore from ../../data/index/policies/air_france/docstore.json.\n",
      "DEBUG:fsspec.local:open file: /Users/pez/Projects/nlp_airline_project/notebooks/kg-llamaindex/../../data/index/policies/air_france/docstore.json\n"
     ]
    },
    {
     "name": "stdout",
     "output_type": "stream",
     "text": [
      "DEBUG:llama_index.core.storage.kvstore.simple_kvstore:Loading llama_index.core.storage.kvstore.simple_kvstore from ../../data/index/policies/air_france/index_store.json.\n",
      "DEBUG:fsspec.local:open file: /Users/pez/Projects/nlp_airline_project/notebooks/kg-llamaindex/../../data/index/policies/air_france/index_store.json\n",
      "WARNING:llama_index.core.graph_stores.simple:No existing llama_index.core.graph_stores.simple found at ../../data/index/policies/air_france/graph_store.json. Initializing a new graph_store from scratch. \n",
      "DEBUG:llama_index.core.vector_stores.simple:Loading llama_index.core.vector_stores.simple from ../../data/index/policies/air_france/image__vector_store.json.\n",
      "DEBUG:fsspec.local:open file: /Users/pez/Projects/nlp_airline_project/notebooks/kg-llamaindex/../../data/index/policies/air_france/image__vector_store.json\n",
      "DEBUG:llama_index.core.vector_stores.simple:Loading llama_index.core.vector_stores.simple from ../../data/index/policies/air_france/default__vector_store.json.\n",
      "DEBUG:fsspec.local:open file: /Users/pez/Projects/nlp_airline_project/notebooks/kg-llamaindex/../../data/index/policies/air_france/default__vector_store.json\n",
      "INFO:llama_index.core.indices.loading:Loading all indices.\n",
      "WARNING:llama_index.core.indices.knowledge_graph.base:Upgrading previously saved KG index to new storage format.\n"
     ]
    }
   ],
   "source": [
    "# hack to import modules from parent directories:\n",
    "import os\n",
    "import sys\n",
    "\n",
    "sys.path.insert(0, f\"../../\")\n",
    "\n",
    "import logging\n",
    "\n",
    "import openai\n",
    "from dotenv import load_dotenv\n",
    "from llama_index.core.settings import Settings\n",
    "from llama_index.core.text_splitter import SentenceSplitter\n",
    "from llama_index.llms.openai import OpenAI\n",
    "\n",
    "\n",
    "from config import load_graph_config\n",
    "from util.graph import load_graph_query_engine\n",
    "\n",
    "# prepare environment:\n",
    "load_dotenv()\n",
    "\n",
    "# prepare logger:\n",
    "logging.basicConfig(\n",
    "    stream=sys.stdout,\n",
    "    level=logging.DEBUG,\n",
    ")\n",
    "\n",
    "# prepare model:\n",
    "openai.api_key = os.environ[\"OPENAI_API_KEY\"]\n",
    "\n",
    "Settings.llm = OpenAI(model=\"gpt-3.5-turbo\")\n",
    "Settings.chunk_size = 256\n",
    "Settings.node_parser = SentenceSplitter(\n",
    "    chunk_size=200,\n",
    "    chunk_overlap=20,\n",
    "    paragraph_separator=\"\\n\\n\"\n",
    ")\n",
    "# Settings.embed_model = OpenAIEmbedding(model=\"text-embedding-3-small\")\n",
    "# Settings.node_parser = SentenceSplitter(chunk_size=512, chunk_overlap=20)\n",
    "# Settings.num_output = 512\n",
    "# Settings.context_window = 3900\n",
    "\n",
    "\n",
    "config = load_graph_config(\n",
    "    index_name=\"air_france\",\n",
    "    persist_dir=\"../../data/index/policies/air_france/\",\n",
    ")\n",
    "query_engine = load_graph_query_engine(config)"
   ]
  },
  {
   "cell_type": "code",
   "execution_count": 5,
   "metadata": {},
   "outputs": [
    {
     "name": "stdout",
     "output_type": "stream",
     "text": [
      "DEBUG:httpx:load_ssl_context verify=True cert=None trust_env=True http2=False\n",
      "DEBUG:httpx:load_verify_locations cafile='/Users/pez/.local/share/virtualenvs/nlp_airline_project-fCxuAmfF/lib/python3.11/site-packages/certifi/cacert.pem'\n",
      "DEBUG:openai._base_client:Request options: {'method': 'post', 'url': '/chat/completions', 'files': None, 'json_data': {'messages': [{'role': 'user', 'content': \"A question is provided below. Given the question, extract up to 10 keywords from the text. Focus on extracting the keywords that we can use to best lookup answers to the question. Avoid stopwords.\\n---------------------\\nTell me about baggage fees.\\n---------------------\\nProvide keywords in the following comma-separated format: 'KEYWORDS: <keywords>'\\n\"}], 'model': 'gpt-3.5-turbo', 'stream': False, 'temperature': 0.1}}\n",
      "DEBUG:openai._base_client:Sending HTTP Request: POST https://api.openai.com/v1/chat/completions\n",
      "DEBUG:httpcore.connection:connect_tcp.started host='api.openai.com' port=443 local_address=None timeout=60.0 socket_options=None\n",
      "DEBUG:httpcore.connection:connect_tcp.complete return_value=<httpcore._backends.sync.SyncStream object at 0x29ed80790>\n",
      "DEBUG:httpcore.connection:start_tls.started ssl_context=<ssl.SSLContext object at 0x119acbbf0> server_hostname='api.openai.com' timeout=60.0\n",
      "DEBUG:httpcore.connection:start_tls.complete return_value=<httpcore._backends.sync.SyncStream object at 0x29f7d3690>\n",
      "DEBUG:httpcore.http11:send_request_headers.started request=<Request [b'POST']>\n",
      "DEBUG:httpcore.http11:send_request_headers.complete\n",
      "DEBUG:httpcore.http11:send_request_body.started request=<Request [b'POST']>\n",
      "DEBUG:httpcore.http11:send_request_body.complete\n",
      "DEBUG:httpcore.http11:receive_response_headers.started request=<Request [b'POST']>\n",
      "DEBUG:httpcore.http11:receive_response_headers.complete return_value=(b'HTTP/1.1', 200, b'OK', [(b'Date', b'Sat, 11 May 2024 22:29:17 GMT'), (b'Content-Type', b'application/json'), (b'Transfer-Encoding', b'chunked'), (b'Connection', b'keep-alive'), (b'openai-organization', b'user-hrqyc9oyfn1jyrx5n6yy9lct'), (b'openai-processing-ms', b'199'), (b'openai-version', b'2020-10-01'), (b'strict-transport-security', b'max-age=15724800; includeSubDomains'), (b'x-ratelimit-limit-requests', b'10000'), (b'x-ratelimit-limit-tokens', b'60000'), (b'x-ratelimit-remaining-requests', b'7133'), (b'x-ratelimit-remaining-tokens', b'59895'), (b'x-ratelimit-reset-requests', b'6h52m44.298s'), (b'x-ratelimit-reset-tokens', b'105ms'), (b'x-request-id', b'req_18a56e0005f3c792a1cb15cd59e37528'), (b'CF-Cache-Status', b'DYNAMIC'), (b'Set-Cookie', b'__cf_bm=ztgRnabP6tfbMqVXHkK8lBs46HzV_7Jg2NEwv6D.oME-1715466557-1.0.1.1-6voElN8w6pgLIs9O17ciFOKx2LN2FB5Ynx19evXDemIUrihcZJjIG4VjXOqs1Z9CkqPpmv9Pxhk.8ChT1Oka5A; path=/; expires=Sat, 11-May-24 22:59:17 GMT; domain=.api.openai.com; HttpOnly; Secure; SameSite=None'), (b'Set-Cookie', b'_cfuvid=LsS8jZ3s7XD8rBrFIww9YkzBAE_7kJS9FiZ.xb193_Q-1715466557458-0.0.1.1-604800000; path=/; domain=.api.openai.com; HttpOnly; Secure; SameSite=None'), (b'Server', b'cloudflare'), (b'CF-RAY', b'88259b5e28b522ee-ORD'), (b'Content-Encoding', b'gzip'), (b'alt-svc', b'h3=\":443\"; ma=86400')])\n",
      "INFO:httpx:HTTP Request: POST https://api.openai.com/v1/chat/completions \"HTTP/1.1 200 OK\"\n",
      "DEBUG:httpcore.http11:receive_response_body.started request=<Request [b'POST']>\n",
      "DEBUG:httpcore.http11:receive_response_body.complete\n",
      "DEBUG:httpcore.http11:response_closed.started\n",
      "DEBUG:httpcore.http11:response_closed.complete\n",
      "DEBUG:openai._base_client:HTTP Response: POST https://api.openai.com/v1/chat/completions \"200 OK\" Headers([('date', 'Sat, 11 May 2024 22:29:17 GMT'), ('content-type', 'application/json'), ('transfer-encoding', 'chunked'), ('connection', 'keep-alive'), ('openai-organization', 'user-hrqyc9oyfn1jyrx5n6yy9lct'), ('openai-processing-ms', '199'), ('openai-version', '2020-10-01'), ('strict-transport-security', 'max-age=15724800; includeSubDomains'), ('x-ratelimit-limit-requests', '10000'), ('x-ratelimit-limit-tokens', '60000'), ('x-ratelimit-remaining-requests', '7133'), ('x-ratelimit-remaining-tokens', '59895'), ('x-ratelimit-reset-requests', '6h52m44.298s'), ('x-ratelimit-reset-tokens', '105ms'), ('x-request-id', 'req_18a56e0005f3c792a1cb15cd59e37528'), ('cf-cache-status', 'DYNAMIC'), ('set-cookie', '__cf_bm=ztgRnabP6tfbMqVXHkK8lBs46HzV_7Jg2NEwv6D.oME-1715466557-1.0.1.1-6voElN8w6pgLIs9O17ciFOKx2LN2FB5Ynx19evXDemIUrihcZJjIG4VjXOqs1Z9CkqPpmv9Pxhk.8ChT1Oka5A; path=/; expires=Sat, 11-May-24 22:59:17 GMT; domain=.api.openai.com; HttpOnly; Secure; SameSite=None'), ('set-cookie', '_cfuvid=LsS8jZ3s7XD8rBrFIww9YkzBAE_7kJS9FiZ.xb193_Q-1715466557458-0.0.1.1-604800000; path=/; domain=.api.openai.com; HttpOnly; Secure; SameSite=None'), ('server', 'cloudflare'), ('cf-ray', '88259b5e28b522ee-ORD'), ('content-encoding', 'gzip'), ('alt-svc', 'h3=\":443\"; ma=86400')])\n",
      "DEBUG:openai._base_client:request_id: req_18a56e0005f3c792a1cb15cd59e37528\n",
      "\u001b[1;3;32mExtracted keywords: ['baggage fees', 'fees', 'baggage']\n",
      "\u001b[0mDEBUG:llama_index.core.indices.knowledge_graph.retrievers:rel_map: {'baggage fees': []}\n",
      "DEBUG:llama_index.core.indices.knowledge_graph.retrievers:rel_map: {'fees': []}\n",
      "DEBUG:llama_index.core.indices.knowledge_graph.retrievers:rel_map: {'baggage': []}\n",
      "DEBUG:openai._base_client:Request options: {'method': 'post', 'url': '/embeddings', 'files': None, 'post_parser': <function Embeddings.create.<locals>.parser at 0x29f7f1e40>, 'json_data': {'input': ['Tell me about baggage fees.'], 'model': 'text-embedding-ada-002', 'encoding_format': 'base64'}}\n",
      "DEBUG:openai._base_client:Sending HTTP Request: POST https://api.openai.com/v1/embeddings\n",
      "DEBUG:httpcore.connection:close.started\n",
      "DEBUG:httpcore.connection:close.complete\n",
      "DEBUG:httpcore.connection:connect_tcp.started host='api.openai.com' port=443 local_address=None timeout=60.0 socket_options=None\n",
      "DEBUG:httpcore.connection:connect_tcp.complete return_value=<httpcore._backends.sync.SyncStream object at 0x29f24ee50>\n",
      "DEBUG:httpcore.connection:start_tls.started ssl_context=<ssl.SSLContext object at 0x29f38a840> server_hostname='api.openai.com' timeout=60.0\n",
      "DEBUG:httpcore.connection:start_tls.complete return_value=<httpcore._backends.sync.SyncStream object at 0x2997b85d0>\n",
      "DEBUG:httpcore.http11:send_request_headers.started request=<Request [b'POST']>\n",
      "DEBUG:httpcore.http11:send_request_headers.complete\n",
      "DEBUG:httpcore.http11:send_request_body.started request=<Request [b'POST']>\n",
      "DEBUG:httpcore.http11:send_request_body.complete\n",
      "DEBUG:httpcore.http11:receive_response_headers.started request=<Request [b'POST']>\n",
      "DEBUG:httpcore.http11:receive_response_headers.complete return_value=(b'HTTP/1.1', 200, b'OK', [(b'Date', b'Sat, 11 May 2024 22:29:17 GMT'), (b'Content-Type', b'application/json'), (b'Transfer-Encoding', b'chunked'), (b'Connection', b'keep-alive'), (b'access-control-allow-origin', b'*'), (b'openai-model', b'text-embedding-ada-002'), (b'openai-organization', b'user-hrqyc9oyfn1jyrx5n6yy9lct'), (b'openai-processing-ms', b'21'), (b'openai-version', b'2020-10-01'), (b'strict-transport-security', b'max-age=15724800; includeSubDomains'), (b'x-ratelimit-limit-requests', b'3000'), (b'x-ratelimit-limit-tokens', b'1000000'), (b'x-ratelimit-remaining-requests', b'2999'), (b'x-ratelimit-remaining-tokens', b'999994'), (b'x-ratelimit-reset-requests', b'20ms'), (b'x-ratelimit-reset-tokens', b'0s'), (b'x-request-id', b'req_5dc83df053f2cfe9a12eaa2e13565f14'), (b'CF-Cache-Status', b'DYNAMIC'), (b'Server', b'cloudflare'), (b'CF-RAY', b'88259b6118c12db6-ORD'), (b'Content-Encoding', b'gzip'), (b'alt-svc', b'h3=\":443\"; ma=86400')])\n",
      "INFO:httpx:HTTP Request: POST https://api.openai.com/v1/embeddings \"HTTP/1.1 200 OK\"\n",
      "DEBUG:httpcore.http11:receive_response_body.started request=<Request [b'POST']>\n",
      "DEBUG:httpcore.http11:receive_response_body.complete\n",
      "DEBUG:httpcore.http11:response_closed.started\n",
      "DEBUG:httpcore.http11:response_closed.complete\n",
      "DEBUG:openai._base_client:HTTP Response: POST https://api.openai.com/v1/embeddings \"200 OK\" Headers({'date': 'Sat, 11 May 2024 22:29:17 GMT', 'content-type': 'application/json', 'transfer-encoding': 'chunked', 'connection': 'keep-alive', 'access-control-allow-origin': '*', 'openai-model': 'text-embedding-ada-002', 'openai-organization': 'user-hrqyc9oyfn1jyrx5n6yy9lct', 'openai-processing-ms': '21', 'openai-version': '2020-10-01', 'strict-transport-security': 'max-age=15724800; includeSubDomains', 'x-ratelimit-limit-requests': '3000', 'x-ratelimit-limit-tokens': '1000000', 'x-ratelimit-remaining-requests': '2999', 'x-ratelimit-remaining-tokens': '999994', 'x-ratelimit-reset-requests': '20ms', 'x-ratelimit-reset-tokens': '0s', 'x-request-id': 'req_5dc83df053f2cfe9a12eaa2e13565f14', 'cf-cache-status': 'DYNAMIC', 'server': 'cloudflare', 'cf-ray': '88259b6118c12db6-ORD', 'content-encoding': 'gzip', 'alt-svc': 'h3=\":443\"; ma=86400'})\n",
      "DEBUG:openai._base_client:request_id: req_5dc83df053f2cfe9a12eaa2e13565f14\n",
      "DEBUG:llama_index.core.indices.knowledge_graph.retrievers:Found the following rel_texts+query similarites: [0.8920833027475299, 0.86041340025847]\n",
      "DEBUG:llama_index.core.indices.knowledge_graph.retrievers:Found the following top_k rel_texts: []\n",
      "INFO:llama_index.core.indices.knowledge_graph.retrievers:> Querying with idx: bf401666-3e7e-46cc-840f-e88bd563f85e: Have you chosen a Light fare? Check your text messages and emails ! If your f...\n",
      "INFO:llama_index.core.indices.knowledge_graph.retrievers:> Querying with idx: c3ddf6b0-ba85-49e0-84cb-407caee2ab7c: We may ask you to check in your hand baggage, free of charge.  \n",
      "Authorized pe...\n",
      "INFO:llama_index.core.indices.knowledge_graph.retrievers:> Querying with idx: 3e46a222-9c9d-4dd5-b412-da15cfb04ff4: Have you chosen a Light fare? Check your text messages and emails ! If your f...\n",
      "INFO:llama_index.core.indices.knowledge_graph.retrievers:> Querying with idx: 75e1bda5-815e-42d0-93fc-4af1df900d76: Have you chosen a Light fare? Check your text messages and emails ! If your f...\n",
      "INFO:llama_index.core.indices.knowledge_graph.retrievers:> Querying with idx: 7d5614b5-fb24-47b2-86ef-cf8fd2fbcf54: You may incur additional fees.  \n",
      "Hand baggage dimensions  \n",
      "The maximum dimens...\n",
      "INFO:llama_index.core.indices.knowledge_graph.retrievers:> Querying with idx: 093f0301-9688-4f96-abf5-ec00aad1fdde: Baggage checks will be enforced prior to boarding. If your hand baggage does ...\n",
      "INFO:llama_index.core.indices.knowledge_graph.retrievers:> Querying with idx: e03a1be2-42b5-48cc-8811-c40471b6f3c9: (including pockets, wheels, and handles). Not sure if your bag meets these di...\n",
      "INFO:llama_index.core.indices.knowledge_graph.retrievers:> Querying with idx: bb697f45-4a33-41ac-ad6f-c195eaed1e50: Have you chosen a Light fare? Check your text messages and emails ! If your f...\n",
      "INFO:llama_index.core.indices.knowledge_graph.retrievers:> Querying with idx: ca266b69-3a25-451b-9fd4-d76f5e119c79: (including pockets, wheels, and handles). Not sure if your bag meets these di...\n",
      "INFO:llama_index.core.indices.knowledge_graph.retrievers:> Querying with idx: 08a14a64-8d31-4741-a392-5be5d84c2277: Such package damages airport facilities and disrupts baggage transit. Any bag...\n",
      "\u001b[1;3;34mKG context:\n",
      "The following are knowledge sequence in max depth 4 in the form of directed graph like:\n",
      "`subject -[predicate]->, object, <-[predicate_next_hop]-, object_next_hop ...`\n",
      "('Baggage', 'Damages', 'Airport facilities')\n",
      "('Baggage', 'May incur', 'Additional fees')\n",
      "\u001b[0mDEBUG:openai._base_client:Request options: {'method': 'post', 'url': '/chat/completions', 'files': None, 'json_data': {'messages': [{'role': 'system', 'content': \"You are an expert Q&A system that is trusted around the world.\\nAlways answer the query using the provided context information, and not prior knowledge.\\nSome rules to follow:\\n1. Never directly reference the given context in your answer.\\n2. Avoid statements like 'Based on the context, ...' or 'The context information ...' or anything along those lines.\"}, {'role': 'user', 'content': \"Context information from multiple sources is below.\\n---------------------\\nairline: Air France\\npolicy: Restricted Items Policy\\ntopic: nan\\n\\nHave you chosen a Light fare? Check your text messages and emails\\xa0! If your flight is scheduled to be full or depending on the type of aircraft, we may ask you to check in your hand baggage, free of charge. Please keep all your personal belongings and valuables with you (travel documents, medical paperwork, electronic devices, etc.). We may ask you to check in your hand baggage, free of charge.  \\nAuthorized personal items  \\nSoft plastic bags and packaging made with rudimentary means (e.g., household stretch film) are not accepted. Such package damages airport facilities and disrupts baggage transit. Any baggage that is visibly damaged, poorly packed, or not in compliance will be refused.\\n\\nairline: Air France\\npolicy: Restricted Items Policy\\ntopic: nan\\n\\nWe may ask you to check in your hand baggage, free of charge.  \\nAuthorized personal items  \\nSoft plastic bags and packaging made with rudimentary means (e.g., household stretch film) are not accepted. Such package damages airport facilities and disrupts baggage transit. Any baggage that is visibly damaged, poorly packed, or not in compliance will be refused.  \\nAuthorized personal items  \\nSoft plastic bags and packaging made with rudimentary means (e.g., household stretch film) are not accepted. Such package damages airport facilities and disrupts baggage transit. Any baggage that is visibly damaged, poorly packed, or not in compliance will be refused.  \\nAuthorized personal items  \\nSoft plastic bags and packaging made with rudimentary means (e.g., household stretch film) are not accepted. Such package damages airport facilities and disrupts baggage transit.\\n\\nairline: Air France\\npolicy: Restricted Items Policy\\ntopic: nan\\n\\nYou may incur additional fees.  \\nHand baggage dimensions  \\nThe maximum dimensions of your hand baggage are: 55\\xa0x\\xa035\\xa0x\\xa025\\xa0cm/21.7 x 13.8 x 9.9 in. (including pockets, wheels, and handles). Not sure if your bag meets these dimension requirements? Air\\xa0France offers a range of tools for you to check your baggage dimensions. You will find them at the airport, baggage drop-off areas, and in check-in halls. Baggage checks will be enforced prior to boarding. If your hand baggage does not meet these criteria, you will be asked to place it in the hold. You may incur additional fees.\\n\\nairline: Air France\\npolicy: Restricted Items Policy\\ntopic: nan\\n\\nBaggage checks will be enforced prior to boarding. If your hand baggage does not meet these criteria, you will be asked to place it in the hold. You may incur additional fees.  \\nHand baggage dimensions  \\nThe maximum dimensions of your hand baggage are: 55\\xa0x\\xa035\\xa0x\\xa025\\xa0cm/21.7 x 13.8 x 9.9 in. (including pockets, wheels, and handles). Not sure if your bag meets these dimension requirements? Air\\xa0France offers a range of tools for you to check your baggage dimensions. You will find them at the airport, baggage drop-off areas, and in check-in halls. Baggage checks will be enforced prior to boarding. If your hand baggage does not meet these criteria, you will be asked to place it in the hold. You may incur additional fees.\\n\\nairline: Air France\\npolicy: Restricted Items Policy\\ntopic: nan\\n\\n(including pockets, wheels, and handles). Not sure if your bag meets these dimension requirements? Air\\xa0France offers a range of tools for you to check your baggage dimensions. You will find them at the airport, baggage drop-off areas, and in check-in halls. Baggage checks will be enforced prior to boarding. If your hand baggage does not meet these criteria, you will be asked to place it in the hold. You may incur additional fees.  \\nYour hand baggage weight  \\nIn the Economy or Premium Economy cabins, your hand baggage and personal items can weigh up to 12 kg (26.4 lb) in total. If you are traveling in the Business cabin or in La Première, your hand baggage and personal items can weigh up to 18 kg (40 lb) in total. Your cabin is shown on your ticket.\\n\\nairline: Air France\\npolicy: Restricted Items Policy\\ntopic: nan\\n\\nSuch package damages airport facilities and disrupts baggage transit. Any baggage that is visibly damaged, poorly packed, or not in compliance will be refused.\\nAuthorized personal items\\nSoft plastic bags and packaging made with rudimentary means (e.g., household stretch film) are not accepted. Such package damages airport facilities and disrupts baggage transit. Any baggage that is visibly damaged, poorly packed, or not in compliance will be refused.  \\nSoft plastic bags and packaging made with rudimentary means (e.g., household stretch film) are not accepted. Such package damages airport facilities and disrupts baggage transit. Any baggage that is visibly damaged, poorly packed, or not in compliance will be refused.\\n\\nThe following are knowledge sequence in max depth 4 in the form of directed graph like:\\n`subject -[predicate]->, object, <-[predicate_next_hop]-, object_next_hop ...`\\n('Baggage', 'Damages', 'Airport facilities')\\n('Baggage', 'May incur', 'Additional fees')\\n---------------------\\nGiven the information from multiple sources and not prior knowledge, answer the query.\\nQuery: Tell me about baggage fees.\\nAnswer: \"}], 'model': 'gpt-3.5-turbo', 'stream': False, 'temperature': 0.1}}\n",
      "DEBUG:openai._base_client:Sending HTTP Request: POST https://api.openai.com/v1/chat/completions\n",
      "DEBUG:httpcore.http11:send_request_headers.started request=<Request [b'POST']>\n",
      "DEBUG:httpcore.http11:send_request_headers.complete\n",
      "DEBUG:httpcore.http11:send_request_body.started request=<Request [b'POST']>\n",
      "DEBUG:httpcore.http11:send_request_body.complete\n",
      "DEBUG:httpcore.http11:receive_response_headers.started request=<Request [b'POST']>\n",
      "DEBUG:httpcore.http11:receive_response_headers.complete return_value=(b'HTTP/1.1', 200, b'OK', [(b'Date', b'Sat, 11 May 2024 22:29:19 GMT'), (b'Content-Type', b'application/json'), (b'Transfer-Encoding', b'chunked'), (b'Connection', b'keep-alive'), (b'openai-organization', b'user-hrqyc9oyfn1jyrx5n6yy9lct'), (b'openai-processing-ms', b'1635'), (b'openai-version', b'2020-10-01'), (b'strict-transport-security', b'max-age=15724800; includeSubDomains'), (b'x-ratelimit-limit-requests', b'10000'), (b'x-ratelimit-limit-tokens', b'60000'), (b'x-ratelimit-remaining-requests', b'7132'), (b'x-ratelimit-remaining-tokens', b'58583'), (b'x-ratelimit-reset-requests', b'6h52m52.225s'), (b'x-ratelimit-reset-tokens', b'1.417s'), (b'x-request-id', b'req_6f6833f453cc0477d1210653eaa21a2b'), (b'CF-Cache-Status', b'DYNAMIC'), (b'Server', b'cloudflare'), (b'CF-RAY', b'88259b629eae22ee-ORD'), (b'Content-Encoding', b'gzip'), (b'alt-svc', b'h3=\":443\"; ma=86400')])\n",
      "INFO:httpx:HTTP Request: POST https://api.openai.com/v1/chat/completions \"HTTP/1.1 200 OK\"\n",
      "DEBUG:httpcore.http11:receive_response_body.started request=<Request [b'POST']>\n",
      "DEBUG:httpcore.http11:receive_response_body.complete\n",
      "DEBUG:httpcore.http11:response_closed.started\n",
      "DEBUG:httpcore.http11:response_closed.complete\n",
      "DEBUG:openai._base_client:HTTP Response: POST https://api.openai.com/v1/chat/completions \"200 OK\" Headers({'date': 'Sat, 11 May 2024 22:29:19 GMT', 'content-type': 'application/json', 'transfer-encoding': 'chunked', 'connection': 'keep-alive', 'openai-organization': 'user-hrqyc9oyfn1jyrx5n6yy9lct', 'openai-processing-ms': '1635', 'openai-version': '2020-10-01', 'strict-transport-security': 'max-age=15724800; includeSubDomains', 'x-ratelimit-limit-requests': '10000', 'x-ratelimit-limit-tokens': '60000', 'x-ratelimit-remaining-requests': '7132', 'x-ratelimit-remaining-tokens': '58583', 'x-ratelimit-reset-requests': '6h52m52.225s', 'x-ratelimit-reset-tokens': '1.417s', 'x-request-id': 'req_6f6833f453cc0477d1210653eaa21a2b', 'cf-cache-status': 'DYNAMIC', 'server': 'cloudflare', 'cf-ray': '88259b629eae22ee-ORD', 'content-encoding': 'gzip', 'alt-svc': 'h3=\":443\"; ma=86400'})\n",
      "DEBUG:openai._base_client:request_id: req_6f6833f453cc0477d1210653eaa21a2b\n"
     ]
    },
    {
     "data": {
      "text/plain": [
       "Response(response='You may incur additional fees if your hand baggage does not meet the maximum dimensions specified by Air France, which are 55 x 35 x 25 cm/21.7 x 13.8 x 9.9 in. This could result in your baggage being placed in the hold and additional charges being applied. Additionally, the weight limit for hand baggage and personal items varies depending on the cabin class you are traveling in, with Economy and Premium Economy cabins allowing up to 12 kg (26.4 lb) and Business or La Première cabins allowing up to 18 kg (40 lb) in total weight.', source_nodes=[NodeWithScore(node=TextNode(id_='bf401666-3e7e-46cc-840f-e88bd563f85e', embedding=None, metadata={'airline': 'Air France', 'policy': 'Restricted Items Policy', 'topic': nan}, excluded_embed_metadata_keys=[], excluded_llm_metadata_keys=[], relationships={<NodeRelationship.SOURCE: '1'>: RelatedNodeInfo(node_id='policy_178', node_type=<ObjectType.DOCUMENT: '4'>, metadata={'airline': 'Air France', 'policy': 'Restricted Items Policy', 'topic': nan}, hash='a40f20e5e7092cc78925b6c878ba0709734c245b85eae96a5acf4ec4db6817ed'), <NodeRelationship.PREVIOUS: '2'>: RelatedNodeInfo(node_id='b64d3f60-389f-461c-9027-3e59fe50e3ff', node_type=<ObjectType.TEXT: '1'>, metadata={'airline': 'Air France', 'policy': 'Restricted Items Policy', 'topic': nan}, hash='a2e52254271f1e839b7a0a907bddff394a64db3ab55c9d78bb85e01215b5bf71'), <NodeRelationship.NEXT: '3'>: RelatedNodeInfo(node_id='0f326a3f-ee67-4bf1-bf9b-74a75e20badf', node_type=<ObjectType.TEXT: '1'>, metadata={}, hash='087828d64204118ad98377440238e6ee7de867528fd58c8cf6d8cae581dda40b')}, text='Have you chosen a Light fare? Check your text messages and emails\\xa0! If your flight is scheduled to be full or depending on the type of aircraft, we may ask you to check in your hand baggage, free of charge. Please keep all your personal belongings and valuables with you (travel documents, medical paperwork, electronic devices, etc.). We may ask you to check in your hand baggage, free of charge.  \\nAuthorized personal items  \\nSoft plastic bags and packaging made with rudimentary means (e.g., household stretch film) are not accepted. Such package damages airport facilities and disrupts baggage transit. Any baggage that is visibly damaged, poorly packed, or not in compliance will be refused.', start_char_idx=2123, end_char_idx=2819, text_template='{metadata_str}\\n\\n{content}', metadata_template='{key}: {value}', metadata_seperator='\\n'), score=1000.0), NodeWithScore(node=TextNode(id_='c3ddf6b0-ba85-49e0-84cb-407caee2ab7c', embedding=None, metadata={'airline': 'Air France', 'policy': 'Restricted Items Policy', 'topic': nan}, excluded_embed_metadata_keys=[], excluded_llm_metadata_keys=[], relationships={<NodeRelationship.SOURCE: '1'>: RelatedNodeInfo(node_id='policy_178', node_type=<ObjectType.DOCUMENT: '4'>, metadata={'airline': 'Air France', 'policy': 'Restricted Items Policy', 'topic': nan}, hash='a40f20e5e7092cc78925b6c878ba0709734c245b85eae96a5acf4ec4db6817ed'), <NodeRelationship.PREVIOUS: '2'>: RelatedNodeInfo(node_id='ff2f9e0d-8e3c-4359-9c51-9ae3561b6e55', node_type=<ObjectType.TEXT: '1'>, metadata={'airline': 'Air France', 'policy': 'Restricted Items Policy', 'topic': nan}, hash='61d4f2604a3ff50c29c12c3436dd33ad639772dcb84bfd625b83d725ca59bf8c'), <NodeRelationship.NEXT: '3'>: RelatedNodeInfo(node_id='08a14a64-8d31-4741-a392-5be5d84c2277', node_type=<ObjectType.TEXT: '1'>, metadata={}, hash='5a5704915aefbe23ca393440d1e0b56d9410c62f1f076c30bb98c9dd32f428cc')}, text='We may ask you to check in your hand baggage, free of charge.  \\nAuthorized personal items  \\nSoft plastic bags and packaging made with rudimentary means (e.g., household stretch film) are not accepted. Such package damages airport facilities and disrupts baggage transit. Any baggage that is visibly damaged, poorly packed, or not in compliance will be refused.  \\nAuthorized personal items  \\nSoft plastic bags and packaging made with rudimentary means (e.g., household stretch film) are not accepted. Such package damages airport facilities and disrupts baggage transit. Any baggage that is visibly damaged, poorly packed, or not in compliance will be refused.  \\nAuthorized personal items  \\nSoft plastic bags and packaging made with rudimentary means (e.g., household stretch film) are not accepted. Such package damages airport facilities and disrupts baggage transit.', start_char_idx=43989, end_char_idx=44857, text_template='{metadata_str}\\n\\n{content}', metadata_template='{key}: {value}', metadata_seperator='\\n'), score=1000.0), NodeWithScore(node=TextNode(id_='7d5614b5-fb24-47b2-86ef-cf8fd2fbcf54', embedding=None, metadata={'airline': 'Air France', 'policy': 'Restricted Items Policy', 'topic': nan}, excluded_embed_metadata_keys=[], excluded_llm_metadata_keys=[], relationships={<NodeRelationship.SOURCE: '1'>: RelatedNodeInfo(node_id='policy_178', node_type=<ObjectType.DOCUMENT: '4'>, metadata={'airline': 'Air France', 'policy': 'Restricted Items Policy', 'topic': nan}, hash='a40f20e5e7092cc78925b6c878ba0709734c245b85eae96a5acf4ec4db6817ed'), <NodeRelationship.PREVIOUS: '2'>: RelatedNodeInfo(node_id='093f0301-9688-4f96-abf5-ec00aad1fdde', node_type=<ObjectType.TEXT: '1'>, metadata={'airline': 'Air France', 'policy': 'Restricted Items Policy', 'topic': nan}, hash='3d1f944a9a80a3ce83b41e3397e6cd0fe50aa3a9be973690b297b80e48395827'), <NodeRelationship.NEXT: '3'>: RelatedNodeInfo(node_id='937ffc32-1b37-4a2f-a09b-257ac7786319', node_type=<ObjectType.TEXT: '1'>, metadata={}, hash='c7dd2a74e49671f918964bc874cd28c4edc5eb370961c380f86f0dfa00cf551c')}, text='You may incur additional fees.  \\nHand baggage dimensions  \\nThe maximum dimensions of your hand baggage are: 55\\xa0x\\xa035\\xa0x\\xa025\\xa0cm/21.7 x 13.8 x 9.9 in. (including pockets, wheels, and handles). Not sure if your bag meets these dimension requirements? Air\\xa0France offers a range of tools for you to check your baggage dimensions. You will find them at the airport, baggage drop-off areas, and in check-in halls. Baggage checks will be enforced prior to boarding. If your hand baggage does not meet these criteria, you will be asked to place it in the hold. You may incur additional fees.', start_char_idx=37060, end_char_idx=37639, text_template='{metadata_str}\\n\\n{content}', metadata_template='{key}: {value}', metadata_seperator='\\n'), score=1000.0), NodeWithScore(node=TextNode(id_='093f0301-9688-4f96-abf5-ec00aad1fdde', embedding=None, metadata={'airline': 'Air France', 'policy': 'Restricted Items Policy', 'topic': nan}, excluded_embed_metadata_keys=[], excluded_llm_metadata_keys=[], relationships={<NodeRelationship.SOURCE: '1'>: RelatedNodeInfo(node_id='policy_178', node_type=<ObjectType.DOCUMENT: '4'>, metadata={'airline': 'Air France', 'policy': 'Restricted Items Policy', 'topic': nan}, hash='a40f20e5e7092cc78925b6c878ba0709734c245b85eae96a5acf4ec4db6817ed'), <NodeRelationship.PREVIOUS: '2'>: RelatedNodeInfo(node_id='c538533f-8370-4e6a-ba1f-f36f391666fc', node_type=<ObjectType.TEXT: '1'>, metadata={'airline': 'Air France', 'policy': 'Restricted Items Policy', 'topic': nan}, hash='7971b19771768641f24eb73d8755902824fd9ae36db3259d2e49e0f4fcd8d774'), <NodeRelationship.NEXT: '3'>: RelatedNodeInfo(node_id='7d5614b5-fb24-47b2-86ef-cf8fd2fbcf54', node_type=<ObjectType.TEXT: '1'>, metadata={}, hash='602f856d666d63f6997bc1f783468a85c7b68c142088ad00652d0cda46ca70ba')}, text='Baggage checks will be enforced prior to boarding. If your hand baggage does not meet these criteria, you will be asked to place it in the hold. You may incur additional fees.  \\nHand baggage dimensions  \\nThe maximum dimensions of your hand baggage are: 55\\xa0x\\xa035\\xa0x\\xa025\\xa0cm/21.7 x 13.8 x 9.9 in. (including pockets, wheels, and handles). Not sure if your bag meets these dimension requirements? Air\\xa0France offers a range of tools for you to check your baggage dimensions. You will find them at the airport, baggage drop-off areas, and in check-in halls. Baggage checks will be enforced prior to boarding. If your hand baggage does not meet these criteria, you will be asked to place it in the hold. You may incur additional fees.', start_char_idx=36915, end_char_idx=37639, text_template='{metadata_str}\\n\\n{content}', metadata_template='{key}: {value}', metadata_seperator='\\n'), score=1000.0), NodeWithScore(node=TextNode(id_='e03a1be2-42b5-48cc-8811-c40471b6f3c9', embedding=None, metadata={'airline': 'Air France', 'policy': 'Restricted Items Policy', 'topic': nan}, excluded_embed_metadata_keys=[], excluded_llm_metadata_keys=[], relationships={<NodeRelationship.SOURCE: '1'>: RelatedNodeInfo(node_id='policy_178', node_type=<ObjectType.DOCUMENT: '4'>, metadata={'airline': 'Air France', 'policy': 'Restricted Items Policy', 'topic': nan}, hash='a40f20e5e7092cc78925b6c878ba0709734c245b85eae96a5acf4ec4db6817ed'), <NodeRelationship.PREVIOUS: '2'>: RelatedNodeInfo(node_id='4cd40af5-e6be-4503-a4cb-e0fb5ea518da', node_type=<ObjectType.TEXT: '1'>, metadata={'airline': 'Air France', 'policy': 'Restricted Items Policy', 'topic': nan}, hash='2bf6b60a9a05adf812e41b47d51618e283f36bb4eae48746094d28a89d396921'), <NodeRelationship.NEXT: '3'>: RelatedNodeInfo(node_id='a1f6176d-ef67-4ebe-bfd8-89003009851e', node_type=<ObjectType.TEXT: '1'>, metadata={}, hash='afd6ab95e77dce28d023c783250479a46b58850e0a6f1542aca1679137e8944e')}, text='(including pockets, wheels, and handles). Not sure if your bag meets these dimension requirements? Air\\xa0France offers a range of tools for you to check your baggage dimensions. You will find them at the airport, baggage drop-off areas, and in check-in halls. Baggage checks will be enforced prior to boarding. If your hand baggage does not meet these criteria, you will be asked to place it in the hold. You may incur additional fees.  \\nYour hand baggage weight  \\nIn the Economy or Premium Economy cabins, your hand baggage and personal items can weigh up to 12 kg (26.4 lb) in total. If you are traveling in the Business cabin or in La Première, your hand baggage and personal items can weigh up to 18 kg (40 lb) in total. Your cabin is shown on your ticket.', start_char_idx=1362, end_char_idx=2120, text_template='{metadata_str}\\n\\n{content}', metadata_template='{key}: {value}', metadata_seperator='\\n'), score=1000.0), NodeWithScore(node=TextNode(id_='08a14a64-8d31-4741-a392-5be5d84c2277', embedding=None, metadata={'airline': 'Air France', 'policy': 'Restricted Items Policy', 'topic': nan}, excluded_embed_metadata_keys=[], excluded_llm_metadata_keys=[], relationships={<NodeRelationship.SOURCE: '1'>: RelatedNodeInfo(node_id='policy_178', node_type=<ObjectType.DOCUMENT: '4'>, metadata={'airline': 'Air France', 'policy': 'Restricted Items Policy', 'topic': nan}, hash='a40f20e5e7092cc78925b6c878ba0709734c245b85eae96a5acf4ec4db6817ed'), <NodeRelationship.PREVIOUS: '2'>: RelatedNodeInfo(node_id='c3ddf6b0-ba85-49e0-84cb-407caee2ab7c', node_type=<ObjectType.TEXT: '1'>, metadata={'airline': 'Air France', 'policy': 'Restricted Items Policy', 'topic': nan}, hash='7d1ee66641dd2c37e3de9ef94e8213e9332d30cda5406e9428620bdac995f104'), <NodeRelationship.NEXT: '3'>: RelatedNodeInfo(node_id='48f1dc18-5d9d-48bf-888e-98d4e0643721', node_type=<ObjectType.TEXT: '1'>, metadata={}, hash='087828d64204118ad98377440238e6ee7de867528fd58c8cf6d8cae581dda40b')}, text='Such package damages airport facilities and disrupts baggage transit. Any baggage that is visibly damaged, poorly packed, or not in compliance will be refused.\\nAuthorized personal items\\nSoft plastic bags and packaging made with rudimentary means (e.g., household stretch film) are not accepted. Such package damages airport facilities and disrupts baggage transit. Any baggage that is visibly damaged, poorly packed, or not in compliance will be refused.  \\nSoft plastic bags and packaging made with rudimentary means (e.g., household stretch film) are not accepted. Such package damages airport facilities and disrupts baggage transit. Any baggage that is visibly damaged, poorly packed, or not in compliance will be refused.', start_char_idx=44788, end_char_idx=45513, text_template='{metadata_str}\\n\\n{content}', metadata_template='{key}: {value}', metadata_seperator='\\n'), score=1000.0), NodeWithScore(node=TextNode(id_='31de8dfc-f48e-4a58-bb52-cc35ee579f9e', embedding=None, metadata={'kg_rel_texts': [\"('Baggage', 'Damages', 'Airport facilities')\", \"('Baggage', 'May incur', 'Additional fees')\"], 'kg_rel_map': {'baggage fees': [], 'fees': [], 'baggage': []}}, excluded_embed_metadata_keys=['kg_rel_map', 'kg_rel_texts'], excluded_llm_metadata_keys=['kg_rel_map', 'kg_rel_texts'], relationships={}, text=\"The following are knowledge sequence in max depth 4 in the form of directed graph like:\\n`subject -[predicate]->, object, <-[predicate_next_hop]-, object_next_hop ...`\\n('Baggage', 'Damages', 'Airport facilities')\\n('Baggage', 'May incur', 'Additional fees')\", start_char_idx=None, end_char_idx=None, text_template='{metadata_str}\\n\\n{content}', metadata_template='{key}: {value}', metadata_seperator='\\n'), score=1000.0)], metadata={'bf401666-3e7e-46cc-840f-e88bd563f85e': {'airline': 'Air France', 'policy': 'Restricted Items Policy', 'topic': nan}, 'c3ddf6b0-ba85-49e0-84cb-407caee2ab7c': {'airline': 'Air France', 'policy': 'Restricted Items Policy', 'topic': nan}, '7d5614b5-fb24-47b2-86ef-cf8fd2fbcf54': {'airline': 'Air France', 'policy': 'Restricted Items Policy', 'topic': nan}, '093f0301-9688-4f96-abf5-ec00aad1fdde': {'airline': 'Air France', 'policy': 'Restricted Items Policy', 'topic': nan}, 'e03a1be2-42b5-48cc-8811-c40471b6f3c9': {'airline': 'Air France', 'policy': 'Restricted Items Policy', 'topic': nan}, '08a14a64-8d31-4741-a392-5be5d84c2277': {'airline': 'Air France', 'policy': 'Restricted Items Policy', 'topic': nan}, '31de8dfc-f48e-4a58-bb52-cc35ee579f9e': {'kg_rel_texts': [\"('Baggage', 'Damages', 'Airport facilities')\", \"('Baggage', 'May incur', 'Additional fees')\"], 'kg_rel_map': {'baggage fees': [], 'fees': [], 'baggage': []}}})"
      ]
     },
     "execution_count": 5,
     "metadata": {},
     "output_type": "execute_result"
    }
   ],
   "source": [
    "query_engine.query(\"Tell me about baggage fees.\")"
   ]
  },
  {
   "cell_type": "code",
   "execution_count": null,
   "metadata": {},
   "outputs": [],
   "source": []
  }
 ],
 "metadata": {
  "kernelspec": {
   "display_name": "nlp_airline_project-fCxuAmfF",
   "language": "python",
   "name": "python3"
  },
  "language_info": {
   "codemirror_mode": {
    "name": "ipython",
    "version": 3
   },
   "file_extension": ".py",
   "mimetype": "text/x-python",
   "name": "python",
   "nbconvert_exporter": "python",
   "pygments_lexer": "ipython3",
   "version": "3.11.2"
  }
 },
 "nbformat": 4,
 "nbformat_minor": 2
}
