{
 "cells": [
  {
   "cell_type": "code",
   "execution_count": 118,
   "metadata": {},
   "outputs": [],
   "source": [
    "import os\n",
    "import logging\n",
    "import sys\n",
    "\n",
    "import openai\n",
    "import pandas as pd\n",
    "from dotenv import load_dotenv\n",
    "from IPython.display import Markdown, display\n",
    "from llama_index.core import (\n",
    "    Document,\n",
    "    KnowledgeGraphIndex,\n",
    "    StorageContext,\n",
    ")\n",
    "from llama_index.core.query_engine import KnowledgeGraphQueryEngine\n",
    "from llama_index.core.settings import Settings\n",
    "from llama_index.core.text_splitter import SentenceSplitter\n",
    "from llama_index.core.query_engine import RetrieverQueryEngine\n",
    "from llama_index.core.retrievers import KnowledgeGraphRAGRetriever\n",
    "from llama_index.llms.openai import OpenAI\n",
    "from llama_index.graph_stores.nebula import NebulaGraphStore\n",
    "\n",
    "\n",
    "load_dotenv()\n",
    "\n",
    "logging.basicConfig(\n",
    "    stream=sys.stdout,\n",
    "    level=logging.DEBUG,\n",
    ")\n",
    "\n",
    "openai.api_key = os.environ[\"OPENAI_API_KEY\"]"
   ]
  },
  {
   "cell_type": "code",
   "execution_count": 119,
   "metadata": {},
   "outputs": [
    {
     "name": "stdout",
     "output_type": "stream",
     "text": [
      "The ngql extension is already loaded. To reload it, use:\n",
      "  %reload_ext ngql\n",
      "Connection Pool Created\n",
      "INFO:nebula3.logger:Get connection to ('127.0.0.1', 9669)\n"
     ]
    },
    {
     "data": {
      "text/html": [
       "<div>\n",
       "<style scoped>\n",
       "    .dataframe tbody tr th:only-of-type {\n",
       "        vertical-align: middle;\n",
       "    }\n",
       "\n",
       "    .dataframe tbody tr th {\n",
       "        vertical-align: top;\n",
       "    }\n",
       "\n",
       "    .dataframe thead th {\n",
       "        text-align: right;\n",
       "    }\n",
       "</style>\n",
       "<table border=\"1\" class=\"dataframe\">\n",
       "  <thead>\n",
       "    <tr style=\"text-align: right;\">\n",
       "      <th></th>\n",
       "      <th>Name</th>\n",
       "    </tr>\n",
       "  </thead>\n",
       "  <tbody>\n",
       "    <tr>\n",
       "      <th>0</th>\n",
       "      <td>llamaindex</td>\n",
       "    </tr>\n",
       "    <tr>\n",
       "      <th>1</th>\n",
       "      <td>policies</td>\n",
       "    </tr>\n",
       "    <tr>\n",
       "      <th>2</th>\n",
       "      <td>policies_2</td>\n",
       "    </tr>\n",
       "    <tr>\n",
       "      <th>3</th>\n",
       "      <td>policies_3</td>\n",
       "    </tr>\n",
       "    <tr>\n",
       "      <th>4</th>\n",
       "      <td>policies_aa</td>\n",
       "    </tr>\n",
       "  </tbody>\n",
       "</table>\n",
       "</div>"
      ],
      "text/plain": [
       "          Name\n",
       "0   llamaindex\n",
       "1     policies\n",
       "2   policies_2\n",
       "3   policies_3\n",
       "4  policies_aa"
      ]
     },
     "execution_count": 119,
     "metadata": {},
     "output_type": "execute_result"
    }
   ],
   "source": [
    "%load_ext ngql\n",
    "%ngql --address 127.0.0.1 --port 9669 --user root --password nebula"
   ]
  },
  {
   "cell_type": "code",
   "execution_count": 120,
   "metadata": {},
   "outputs": [
    {
     "name": "stdout",
     "output_type": "stream",
     "text": [
      "INFO:nebula3.logger:Get connection to ('127.0.0.1', 9669)\n",
      "INFO:nebula3.logger:Get connection to ('127.0.0.1', 9669)\n"
     ]
    },
    {
     "data": {
      "text/html": [
       "<div>\n",
       "<style scoped>\n",
       "    .dataframe tbody tr th:only-of-type {\n",
       "        vertical-align: middle;\n",
       "    }\n",
       "\n",
       "    .dataframe tbody tr th {\n",
       "        vertical-align: top;\n",
       "    }\n",
       "\n",
       "    .dataframe thead th {\n",
       "        text-align: right;\n",
       "    }\n",
       "</style>\n",
       "<table border=\"1\" class=\"dataframe\">\n",
       "  <thead>\n",
       "    <tr style=\"text-align: right;\">\n",
       "      <th></th>\n",
       "      <th>e</th>\n",
       "    </tr>\n",
       "  </thead>\n",
       "  <tbody>\n",
       "    <tr>\n",
       "      <th>0</th>\n",
       "      <td>(\"100 - 160 wh\")-[:relationship@-8438811214395...</td>\n",
       "    </tr>\n",
       "    <tr>\n",
       "      <th>1</th>\n",
       "      <td>(\"100 - 160 wh\")-[:relationship@13461996532723...</td>\n",
       "    </tr>\n",
       "    <tr>\n",
       "      <th>2</th>\n",
       "      <td>(\"160 - 300 wh\")-[:relationship@-8438811214395...</td>\n",
       "    </tr>\n",
       "    <tr>\n",
       "      <th>3</th>\n",
       "      <td>(\"160 - 300 wh\")-[:relationship@13461996532723...</td>\n",
       "    </tr>\n",
       "    <tr>\n",
       "      <th>4</th>\n",
       "      <td>(\"1st bag fee\")-[:relationship@-84388112143955...</td>\n",
       "    </tr>\n",
       "    <tr>\n",
       "      <th>...</th>\n",
       "      <td>...</td>\n",
       "    </tr>\n",
       "    <tr>\n",
       "      <th>776</th>\n",
       "      <td>(\"You\")-[:relationship@7869679751083147176{nam...</td>\n",
       "    </tr>\n",
       "    <tr>\n",
       "      <th>777</th>\n",
       "      <td>(\"You\")-[:relationship@8622192678635854172{nam...</td>\n",
       "    </tr>\n",
       "    <tr>\n",
       "      <th>778</th>\n",
       "      <td>(\"You can travel with\")-[:relationship@-128523...</td>\n",
       "    </tr>\n",
       "    <tr>\n",
       "      <th>779</th>\n",
       "      <td>(\"Your bag\")-[:relationship@-45884617147977354...</td>\n",
       "    </tr>\n",
       "    <tr>\n",
       "      <th>780</th>\n",
       "      <td>(\"Your flight\")-[:relationship@124423333725828...</td>\n",
       "    </tr>\n",
       "  </tbody>\n",
       "</table>\n",
       "<p>781 rows × 1 columns</p>\n",
       "</div>"
      ],
      "text/plain": [
       "                                                     e\n",
       "0    (\"100 - 160 wh\")-[:relationship@-8438811214395...\n",
       "1    (\"100 - 160 wh\")-[:relationship@13461996532723...\n",
       "2    (\"160 - 300 wh\")-[:relationship@-8438811214395...\n",
       "3    (\"160 - 300 wh\")-[:relationship@13461996532723...\n",
       "4    (\"1st bag fee\")-[:relationship@-84388112143955...\n",
       "..                                                 ...\n",
       "776  (\"You\")-[:relationship@7869679751083147176{nam...\n",
       "777  (\"You\")-[:relationship@8622192678635854172{nam...\n",
       "778  (\"You can travel with\")-[:relationship@-128523...\n",
       "779  (\"Your bag\")-[:relationship@-45884617147977354...\n",
       "780  (\"Your flight\")-[:relationship@124423333725828...\n",
       "\n",
       "[781 rows x 1 columns]"
      ]
     },
     "execution_count": 120,
     "metadata": {},
     "output_type": "execute_result"
    }
   ],
   "source": [
    "%ngql USE policies_aa;\n",
    "%ngql MATCH ()-[e]->() RETURN e LIMIT 10000;"
   ]
  },
  {
   "cell_type": "code",
   "execution_count": 121,
   "metadata": {},
   "outputs": [],
   "source": [
    "space_name = \"policies_aa\"\n",
    "edge_types, rel_prop_names = [\"relationship\"], [\n",
    "    \"name\"\n",
    "]  # default, could be omit if create from an empty kg\n",
    "tags = [\"entity\"]  # default, could be omit if create from an empty kg\n",
    "\n",
    "graph_store = NebulaGraphStore(\n",
    "    space_name=space_name,\n",
    "    edge_types=edge_types,\n",
    "    rel_prop_names=rel_prop_names,\n",
    "    tags=tags,\n",
    ")\n",
    "storage_context = StorageContext.from_defaults(graph_store=graph_store)\n",
    "\n",
    "llm = OpenAI(temperature=0, model=\"gpt-4-turbo\") #  model=\"gpt-3.5-turbo\")\n",
    "\n",
    "graph_rag_retriever = KnowledgeGraphRAGRetriever(\n",
    "    storage_context=storage_context,\n",
    "    llm=llm,\n",
    "    verbose=True,\n",
    ")\n",
    "\n",
    "query_engine = RetrieverQueryEngine.from_args(\n",
    "    graph_rag_retriever\n",
    ")"
   ]
  },
  {
   "cell_type": "code",
   "execution_count": 122,
   "metadata": {},
   "outputs": [
    {
     "name": "stdout",
     "output_type": "stream",
     "text": [
      "INFO:httpx:HTTP Request: POST https://api.openai.com/v1/chat/completions \"HTTP/1.1 200 OK\"\n",
      "INFO:httpx:HTTP Request: POST https://api.openai.com/v1/chat/completions \"HTTP/1.1 200 OK\"\n",
      "INFO:httpx:HTTP Request: POST https://api.openai.com/v1/chat/completions \"HTTP/1.1 200 OK\"\n"
     ]
    },
    {
     "data": {
      "text/markdown": [
       "<b>American Airlines has various policies and regulations regarding items that can be flown with, including restrictions on certain items like spray cans, butane fuel, propane tanks, CO2 cartridges, self-inflating rafts, and recreational oxygen. They also have policies related to carry-on bags, checked bags, and portable electronic devices containing lithium batteries. Additionally, American Airlines offers complimentary bags and has a policy for restricted items.</b>"
      ],
      "text/plain": [
       "<IPython.core.display.Markdown object>"
      ]
     },
     "metadata": {},
     "output_type": "display_data"
    }
   ],
   "source": [
    "response = query_engine.query(\"Tell me about American Airlines?\")\n",
    "display(Markdown(f\"<b>{response}</b>\"))"
   ]
  },
  {
   "cell_type": "code",
   "execution_count": 123,
   "metadata": {},
   "outputs": [
    {
     "name": "stdout",
     "output_type": "stream",
     "text": [
      "INFO:httpx:HTTP Request: POST https://api.openai.com/v1/chat/completions \"HTTP/1.1 200 OK\"\n",
      "INFO:httpx:HTTP Request: POST https://api.openai.com/v1/chat/completions \"HTTP/1.1 200 OK\"\n",
      "INFO:llama_index.core.indices.knowledge_graph.retrievers:> No knowledge sequence extracted from entities.\n",
      "INFO:llama_index.core.indices.knowledge_graph.retrievers:> No knowledge sequence extracted from entities.\n"
     ]
    },
    {
     "data": {
      "text/markdown": [
       "<b>Empty Response</b>"
      ],
      "text/plain": [
       "<IPython.core.display.Markdown object>"
      ]
     },
     "metadata": {},
     "output_type": "display_data"
    }
   ],
   "source": [
    "response = query_engine.query(\"Can I travel with pets?\")\n",
    "display(Markdown(f\"<b>{response}</b>\"))"
   ]
  },
  {
   "cell_type": "code",
   "execution_count": 116,
   "metadata": {},
   "outputs": [
    {
     "name": "stdout",
     "output_type": "stream",
     "text": [
      "INFO:httpx:HTTP Request: POST https://api.openai.com/v1/chat/completions \"HTTP/1.1 200 OK\"\n",
      "INFO:httpx:HTTP Request: POST https://api.openai.com/v1/chat/completions \"HTTP/1.1 200 OK\"\n",
      "INFO:httpx:HTTP Request: POST https://api.openai.com/v1/chat/completions \"HTTP/1.1 200 OK\"\n"
     ]
    },
    {
     "data": {
      "text/plain": [
       "Response(response='American Airlines has policies related to various aspects of air travel, such as restricted items, checked bag allowances, and basic economy travel. They also have specific policies for travel to certain regions like Panama and South America, as well as seasonal travel restrictions. Additionally, American Airlines enforces policies regarding delayed bags, gasoline-powered tools, and what items are allowed to be flown with.', source_nodes=[NodeWithScore(node=TextNode(id_='b728a61c-6129-4eac-ba79-abb79651285b', embedding=None, metadata={'kg_rel_map': {'American{name: American}': ['American{name: American} -[relationship:{name: Does not allow}]-> Transport marijuana on flights{name: Transport marijuana on flights}'], 'Airline{name: Airline}': ['Airline{name: Airline} <-[relationship:{name: Applies to}]- Policy{name: Policy} -[relationship:{name: Includes}]-> Optional fees{name: Optional fees}', 'Airline{name: Airline} <-[relationship:{name: Applies to}]- Policy{name: Policy} -[relationship:{name: Includes}]-> Checked bag policy{name: Checked bag policy}', 'Airline{name: Airline} <-[relationship:{name: Applies to}]- Policy{name: Policy} -[relationship:{name: Includes}]-> 1 extra free checked bag{name: 1 extra free checked bag}', 'Airline{name: Airline} <-[relationship:{name: Applies to}]- Policy{name: Policy} -[relationship:{name: Applies to}]-> Tickets{name: Tickets}', 'Airline{name: Airline} <-[relationship:{name: Applies to}]- Policy{name: Policy} -[relationship:{name: Applies to}]-> Gasoline-powered tools{name: Gasoline-powered tools}', 'Airline{name: Airline} <-[relationship:{name: Applies to}]- Policy{name: Policy} -[relationship:{name: Applies to}]-> Delayed bags{name: Delayed bags}', 'Airline{name: Airline} <-[relationship:{name: Applies to}]- Policy{name: Policy} -[relationship:{name: Applies to}]-> Customers flying basic economy{name: Customers flying basic economy}', 'Airline{name: Airline} <-[relationship:{name: Applies to}]- Policy{name: Policy} -[relationship:{name: Applies to}]-> What can you fly with{name: What can you fly with}', 'Airline{name: Airline} <-[relationship:{name: Applies to}]- Policy{name: Policy} -[relationship:{name: Applies to}]-> Basic economy travel{name: Basic economy travel}', 'Airline{name: Airline} <-[relationship:{name: Applies to}]- Policy{name: Policy} -[relationship:{name: Applies to}]-> All regions{name: All regions}', 'Airline{name: Airline} <-[relationship:{name: Applies to}]- Policy{name: Policy} -[relationship:{name: Will be made in}]-> Accordance with{name: Accordance with}', 'Airline{name: Airline} <-[relationship:{name: Applies to}]- Policy{name: Policy} -[relationship:{name: Covers}]-> Delayed bags{name: Delayed bags}', 'Airline{name: Airline} <-[relationship:{name: Applies to}]- Policy{name: Policy} -[relationship:{name: Applies for}]-> Travel to / from panama and south america{name: Travel to / from panama and south america}', 'Airline{name: Airline} <-[relationship:{name: Applies to}]- Policy{name: Policy} -[relationship:{name: Includes}]-> Restricted items{name: Restricted items}', 'Airline{name: Airline} <-[relationship:{name: Applies to}]- Policy{name: Policy} -[relationship:{name: Applies for}]-> Transatlantic basic economy travel{name: Transatlantic basic economy travel}', 'Airline{name: Airline} <-[relationship:{name: Applies to}]- Policy{name: Policy} -[relationship:{name: Applies seasonally for}]-> Travel from november 16 – january 9{name: Travel from november 16 – january 9}', 'Airline{name: Airline} <-[relationship:{name: Applies to}]- Policy{name: Policy} -[relationship:{name: Impacts}]-> Schedule{name: Schedule}', 'Airline{name: Airline} <-[relationship:{name: Applies to}]- Policy{name: Policy} -[relationship:{name: Is about}]-> What can you fly with{name: What can you fly with}', 'Airline{name: Airline} <-[relationship:{name: Applies to}]- Policy{name: Policy} -[relationship:{name: Is about}]-> Delayed bags{name: Delayed bags}', 'Airline{name: Airline} <-[relationship:{name: Applies to}]- Policy{name: Policy} -[relationship:{name: Is about}]-> Checked bag allowances{name: Checked bag allowances}', 'Airline{name: Airline} <-[relationship:{name: Applies to}]- Policy{name: Policy} <-[relationship:{name: Restricted items policy}]- Airline{name: Airline}', 'Airline{name: Airline} <-[relationship:{name: Applies to}]- Policy{name: Policy} -[relationship:{name: Applies to}]-> Travel to cuba{name: Travel to cuba}', 'Airline{name: Airline} -[relationship:{name: Restricted items policy}]-> Policy{name: Policy} -[relationship:{name: Topic}]-> What can you fly with{name: What can you fly with}', 'Airline{name: Airline} -[relationship:{name: Restricted items policy}]-> Policy{name: Policy} -[relationship:{name: Includes}]-> Oversize and overweight bags{name: Oversize and overweight bags}', 'Airline{name: Airline} <-[relationship:{name: Applies to}]- Policy{name: Policy} -[relationship:{name: Topic}]-> Delayed bags{name: Delayed bags}', 'Airline{name: Airline} -[relationship:{name: Restricted items policy}]-> Policy{name: Policy} -[relationship:{name: Includes}]-> Delayed or damaged bags{name: Delayed or damaged bags}', 'Airline{name: Airline} -[relationship:{name: Restricted items policy}]-> Policy{name: Policy} -[relationship:{name: Includes}]-> Checked bag policy{name: Checked bag policy}', 'Airline{name: Airline} -[relationship:{name: Restricted items policy}]-> Policy{name: Policy} -[relationship:{name: Includes}]-> Bag limitations{name: Bag limitations}', 'Airline{name: Airline} -[relationship:{name: Restricted items policy}]-> Policy{name: Policy} -[relationship:{name: Applies to}]-> Main cabin{name: Main cabin}']}, 'kg_rel_text': ['American{name: American} -[relationship:{name: Does not allow}]-> Transport marijuana on flights{name: Transport marijuana on flights}', 'Airline{name: Airline} <-[relationship:{name: Applies to}]- Policy{name: Policy} -[relationship:{name: Includes}]-> Optional fees{name: Optional fees}', 'Airline{name: Airline} <-[relationship:{name: Applies to}]- Policy{name: Policy} -[relationship:{name: Includes}]-> Checked bag policy{name: Checked bag policy}', 'Airline{name: Airline} <-[relationship:{name: Applies to}]- Policy{name: Policy} -[relationship:{name: Includes}]-> 1 extra free checked bag{name: 1 extra free checked bag}', 'Airline{name: Airline} <-[relationship:{name: Applies to}]- Policy{name: Policy} -[relationship:{name: Applies to}]-> Tickets{name: Tickets}', 'Airline{name: Airline} <-[relationship:{name: Applies to}]- Policy{name: Policy} -[relationship:{name: Applies to}]-> Gasoline-powered tools{name: Gasoline-powered tools}', 'Airline{name: Airline} <-[relationship:{name: Applies to}]- Policy{name: Policy} -[relationship:{name: Applies to}]-> Delayed bags{name: Delayed bags}', 'Airline{name: Airline} <-[relationship:{name: Applies to}]- Policy{name: Policy} -[relationship:{name: Applies to}]-> Customers flying basic economy{name: Customers flying basic economy}', 'Airline{name: Airline} <-[relationship:{name: Applies to}]- Policy{name: Policy} -[relationship:{name: Applies to}]-> What can you fly with{name: What can you fly with}', 'Airline{name: Airline} <-[relationship:{name: Applies to}]- Policy{name: Policy} -[relationship:{name: Applies to}]-> Basic economy travel{name: Basic economy travel}', 'Airline{name: Airline} <-[relationship:{name: Applies to}]- Policy{name: Policy} -[relationship:{name: Applies to}]-> All regions{name: All regions}', 'Airline{name: Airline} <-[relationship:{name: Applies to}]- Policy{name: Policy} -[relationship:{name: Will be made in}]-> Accordance with{name: Accordance with}', 'Airline{name: Airline} <-[relationship:{name: Applies to}]- Policy{name: Policy} -[relationship:{name: Covers}]-> Delayed bags{name: Delayed bags}', 'Airline{name: Airline} <-[relationship:{name: Applies to}]- Policy{name: Policy} -[relationship:{name: Applies for}]-> Travel to / from panama and south america{name: Travel to / from panama and south america}', 'Airline{name: Airline} <-[relationship:{name: Applies to}]- Policy{name: Policy} -[relationship:{name: Includes}]-> Restricted items{name: Restricted items}', 'Airline{name: Airline} <-[relationship:{name: Applies to}]- Policy{name: Policy} -[relationship:{name: Applies for}]-> Transatlantic basic economy travel{name: Transatlantic basic economy travel}', 'Airline{name: Airline} <-[relationship:{name: Applies to}]- Policy{name: Policy} -[relationship:{name: Applies seasonally for}]-> Travel from november 16 – january 9{name: Travel from november 16 – january 9}', 'Airline{name: Airline} <-[relationship:{name: Applies to}]- Policy{name: Policy} -[relationship:{name: Impacts}]-> Schedule{name: Schedule}', 'Airline{name: Airline} <-[relationship:{name: Applies to}]- Policy{name: Policy} -[relationship:{name: Is about}]-> What can you fly with{name: What can you fly with}', 'Airline{name: Airline} <-[relationship:{name: Applies to}]- Policy{name: Policy} -[relationship:{name: Is about}]-> Delayed bags{name: Delayed bags}', 'Airline{name: Airline} <-[relationship:{name: Applies to}]- Policy{name: Policy} -[relationship:{name: Is about}]-> Checked bag allowances{name: Checked bag allowances}', 'Airline{name: Airline} <-[relationship:{name: Applies to}]- Policy{name: Policy} <-[relationship:{name: Restricted items policy}]- Airline{name: Airline}', 'Airline{name: Airline} <-[relationship:{name: Applies to}]- Policy{name: Policy} -[relationship:{name: Applies to}]-> Travel to cuba{name: Travel to cuba}', 'Airline{name: Airline} -[relationship:{name: Restricted items policy}]-> Policy{name: Policy} -[relationship:{name: Topic}]-> What can you fly with{name: What can you fly with}', 'Airline{name: Airline} -[relationship:{name: Restricted items policy}]-> Policy{name: Policy} -[relationship:{name: Includes}]-> Oversize and overweight bags{name: Oversize and overweight bags}', 'Airline{name: Airline} <-[relationship:{name: Applies to}]- Policy{name: Policy} -[relationship:{name: Topic}]-> Delayed bags{name: Delayed bags}', 'Airline{name: Airline} -[relationship:{name: Restricted items policy}]-> Policy{name: Policy} -[relationship:{name: Includes}]-> Delayed or damaged bags{name: Delayed or damaged bags}', 'Airline{name: Airline} -[relationship:{name: Restricted items policy}]-> Policy{name: Policy} -[relationship:{name: Includes}]-> Checked bag policy{name: Checked bag policy}', 'Airline{name: Airline} -[relationship:{name: Restricted items policy}]-> Policy{name: Policy} -[relationship:{name: Includes}]-> Bag limitations{name: Bag limitations}', 'Airline{name: Airline} -[relationship:{name: Restricted items policy}]-> Policy{name: Policy} -[relationship:{name: Applies to}]-> Main cabin{name: Main cabin}'], 'kg_schema': {'schema': \"Node properties: [{'tag': 'entity', 'properties': [('name', 'string')]}]\\nEdge properties: [{'edge': 'relationship', 'properties': [('name', 'string')]}]\\nRelationships: ['(:entity)-[:relationship]->(:entity)']\\n\"}}, excluded_embed_metadata_keys=['kg_rel_map', 'kg_rel_text', 'kg_schema'], excluded_llm_metadata_keys=['kg_rel_map', 'kg_rel_text', 'kg_schema'], relationships={}, text='The following are knowledge sequence in max depth 2 in the form of directed graph like:\\n`subject -[predicate]->, object, <-[predicate_next_hop]-, object_next_hop ...` extracted based on key entities as subject:\\nAmerican{name: American} -[relationship:{name: Does not allow}]-> Transport marijuana on flights{name: Transport marijuana on flights}\\nAirline{name: Airline} <-[relationship:{name: Applies to}]- Policy{name: Policy} -[relationship:{name: Includes}]-> Optional fees{name: Optional fees}\\nAirline{name: Airline} <-[relationship:{name: Applies to}]- Policy{name: Policy} -[relationship:{name: Includes}]-> Checked bag policy{name: Checked bag policy}\\nAirline{name: Airline} <-[relationship:{name: Applies to}]- Policy{name: Policy} -[relationship:{name: Includes}]-> 1 extra free checked bag{name: 1 extra free checked bag}\\nAirline{name: Airline} <-[relationship:{name: Applies to}]- Policy{name: Policy} -[relationship:{name: Applies to}]-> Tickets{name: Tickets}\\nAirline{name: Airline} <-[relationship:{name: Applies to}]- Policy{name: Policy} -[relationship:{name: Applies to}]-> Gasoline-powered tools{name: Gasoline-powered tools}\\nAirline{name: Airline} <-[relationship:{name: Applies to}]- Policy{name: Policy} -[relationship:{name: Applies to}]-> Delayed bags{name: Delayed bags}\\nAirline{name: Airline} <-[relationship:{name: Applies to}]- Policy{name: Policy} -[relationship:{name: Applies to}]-> Customers flying basic economy{name: Customers flying basic economy}\\nAirline{name: Airline} <-[relationship:{name: Applies to}]- Policy{name: Policy} -[relationship:{name: Applies to}]-> What can you fly with{name: What can you fly with}\\nAirline{name: Airline} <-[relationship:{name: Applies to}]- Policy{name: Policy} -[relationship:{name: Applies to}]-> Basic economy travel{name: Basic economy travel}\\nAirline{name: Airline} <-[relationship:{name: Applies to}]- Policy{name: Policy} -[relationship:{name: Applies to}]-> All regions{name: All regions}\\nAirline{name: Airline} <-[relationship:{name: Applies to}]- Policy{name: Policy} -[relationship:{name: Will be made in}]-> Accordance with{name: Accordance with}\\nAirline{name: Airline} <-[relationship:{name: Applies to}]- Policy{name: Policy} -[relationship:{name: Covers}]-> Delayed bags{name: Delayed bags}\\nAirline{name: Airline} <-[relationship:{name: Applies to}]- Policy{name: Policy} -[relationship:{name: Applies for}]-> Travel to / from panama and south america{name: Travel to / from panama and south america}\\nAirline{name: Airline} <-[relationship:{name: Applies to}]- Policy{name: Policy} -[relationship:{name: Includes}]-> Restricted items{name: Restricted items}\\nAirline{name: Airline} <-[relationship:{name: Applies to}]- Policy{name: Policy} -[relationship:{name: Applies for}]-> Transatlantic basic economy travel{name: Transatlantic basic economy travel}\\nAirline{name: Airline} <-[relationship:{name: Applies to}]- Policy{name: Policy} -[relationship:{name: Applies seasonally for}]-> Travel from november 16 – january 9{name: Travel from november 16 – january 9}\\nAirline{name: Airline} <-[relationship:{name: Applies to}]- Policy{name: Policy} -[relationship:{name: Impacts}]-> Schedule{name: Schedule}\\nAirline{name: Airline} <-[relationship:{name: Applies to}]- Policy{name: Policy} -[relationship:{name: Is about}]-> What can you fly with{name: What can you fly with}\\nAirline{name: Airline} <-[relationship:{name: Applies to}]- Policy{name: Policy} -[relationship:{name: Is about}]-> Delayed bags{name: Delayed bags}\\nAirline{name: Airline} <-[relationship:{name: Applies to}]- Policy{name: Policy} -[relationship:{name: Is about}]-> Checked bag allowances{name: Checked bag allowances}\\nAirline{name: Airline} <-[relationship:{name: Applies to}]- Policy{name: Policy} <-[relationship:{name: Restricted items policy}]- Airline{name: Airline}\\nAirline{name: Airline} <-[relationship:{name: Applies to}]- Policy{name: Policy} -[relationship:{name: Applies to}]-> Travel to cuba{name: Travel to cuba}\\nAirline{name: Airline} -[relationship:{name: Restricted items policy}]-> Policy{name: Policy} -[relationship:{name: Topic}]-> What can you fly with{name: What can you fly with}\\nAirline{name: Airline} -[relationship:{name: Restricted items policy}]-> Policy{name: Policy} -[relationship:{name: Includes}]-> Oversize and overweight bags{name: Oversize and overweight bags}\\nAirline{name: Airline} <-[relationship:{name: Applies to}]- Policy{name: Policy} -[relationship:{name: Topic}]-> Delayed bags{name: Delayed bags}\\nAirline{name: Airline} -[relationship:{name: Restricted items policy}]-> Policy{name: Policy} -[relationship:{name: Includes}]-> Delayed or damaged bags{name: Delayed or damaged bags}\\nAirline{name: Airline} -[relationship:{name: Restricted items policy}]-> Policy{name: Policy} -[relationship:{name: Includes}]-> Checked bag policy{name: Checked bag policy}\\nAirline{name: Airline} -[relationship:{name: Restricted items policy}]-> Policy{name: Policy} -[relationship:{name: Includes}]-> Bag limitations{name: Bag limitations}\\nAirline{name: Airline} -[relationship:{name: Restricted items policy}]-> Policy{name: Policy} -[relationship:{name: Applies to}]-> Main cabin{name: Main cabin}', start_char_idx=None, end_char_idx=None, text_template='{metadata_str}\\n\\n{content}', metadata_template='{key}: {value}', metadata_seperator='\\n'), score=None)], metadata={'b728a61c-6129-4eac-ba79-abb79651285b': {'kg_rel_map': {'American{name: American}': ['American{name: American} -[relationship:{name: Does not allow}]-> Transport marijuana on flights{name: Transport marijuana on flights}'], 'Airline{name: Airline}': ['Airline{name: Airline} <-[relationship:{name: Applies to}]- Policy{name: Policy} -[relationship:{name: Includes}]-> Optional fees{name: Optional fees}', 'Airline{name: Airline} <-[relationship:{name: Applies to}]- Policy{name: Policy} -[relationship:{name: Includes}]-> Checked bag policy{name: Checked bag policy}', 'Airline{name: Airline} <-[relationship:{name: Applies to}]- Policy{name: Policy} -[relationship:{name: Includes}]-> 1 extra free checked bag{name: 1 extra free checked bag}', 'Airline{name: Airline} <-[relationship:{name: Applies to}]- Policy{name: Policy} -[relationship:{name: Applies to}]-> Tickets{name: Tickets}', 'Airline{name: Airline} <-[relationship:{name: Applies to}]- Policy{name: Policy} -[relationship:{name: Applies to}]-> Gasoline-powered tools{name: Gasoline-powered tools}', 'Airline{name: Airline} <-[relationship:{name: Applies to}]- Policy{name: Policy} -[relationship:{name: Applies to}]-> Delayed bags{name: Delayed bags}', 'Airline{name: Airline} <-[relationship:{name: Applies to}]- Policy{name: Policy} -[relationship:{name: Applies to}]-> Customers flying basic economy{name: Customers flying basic economy}', 'Airline{name: Airline} <-[relationship:{name: Applies to}]- Policy{name: Policy} -[relationship:{name: Applies to}]-> What can you fly with{name: What can you fly with}', 'Airline{name: Airline} <-[relationship:{name: Applies to}]- Policy{name: Policy} -[relationship:{name: Applies to}]-> Basic economy travel{name: Basic economy travel}', 'Airline{name: Airline} <-[relationship:{name: Applies to}]- Policy{name: Policy} -[relationship:{name: Applies to}]-> All regions{name: All regions}', 'Airline{name: Airline} <-[relationship:{name: Applies to}]- Policy{name: Policy} -[relationship:{name: Will be made in}]-> Accordance with{name: Accordance with}', 'Airline{name: Airline} <-[relationship:{name: Applies to}]- Policy{name: Policy} -[relationship:{name: Covers}]-> Delayed bags{name: Delayed bags}', 'Airline{name: Airline} <-[relationship:{name: Applies to}]- Policy{name: Policy} -[relationship:{name: Applies for}]-> Travel to / from panama and south america{name: Travel to / from panama and south america}', 'Airline{name: Airline} <-[relationship:{name: Applies to}]- Policy{name: Policy} -[relationship:{name: Includes}]-> Restricted items{name: Restricted items}', 'Airline{name: Airline} <-[relationship:{name: Applies to}]- Policy{name: Policy} -[relationship:{name: Applies for}]-> Transatlantic basic economy travel{name: Transatlantic basic economy travel}', 'Airline{name: Airline} <-[relationship:{name: Applies to}]- Policy{name: Policy} -[relationship:{name: Applies seasonally for}]-> Travel from november 16 – january 9{name: Travel from november 16 – january 9}', 'Airline{name: Airline} <-[relationship:{name: Applies to}]- Policy{name: Policy} -[relationship:{name: Impacts}]-> Schedule{name: Schedule}', 'Airline{name: Airline} <-[relationship:{name: Applies to}]- Policy{name: Policy} -[relationship:{name: Is about}]-> What can you fly with{name: What can you fly with}', 'Airline{name: Airline} <-[relationship:{name: Applies to}]- Policy{name: Policy} -[relationship:{name: Is about}]-> Delayed bags{name: Delayed bags}', 'Airline{name: Airline} <-[relationship:{name: Applies to}]- Policy{name: Policy} -[relationship:{name: Is about}]-> Checked bag allowances{name: Checked bag allowances}', 'Airline{name: Airline} <-[relationship:{name: Applies to}]- Policy{name: Policy} <-[relationship:{name: Restricted items policy}]- Airline{name: Airline}', 'Airline{name: Airline} <-[relationship:{name: Applies to}]- Policy{name: Policy} -[relationship:{name: Applies to}]-> Travel to cuba{name: Travel to cuba}', 'Airline{name: Airline} -[relationship:{name: Restricted items policy}]-> Policy{name: Policy} -[relationship:{name: Topic}]-> What can you fly with{name: What can you fly with}', 'Airline{name: Airline} -[relationship:{name: Restricted items policy}]-> Policy{name: Policy} -[relationship:{name: Includes}]-> Oversize and overweight bags{name: Oversize and overweight bags}', 'Airline{name: Airline} <-[relationship:{name: Applies to}]- Policy{name: Policy} -[relationship:{name: Topic}]-> Delayed bags{name: Delayed bags}', 'Airline{name: Airline} -[relationship:{name: Restricted items policy}]-> Policy{name: Policy} -[relationship:{name: Includes}]-> Delayed or damaged bags{name: Delayed or damaged bags}', 'Airline{name: Airline} -[relationship:{name: Restricted items policy}]-> Policy{name: Policy} -[relationship:{name: Includes}]-> Checked bag policy{name: Checked bag policy}', 'Airline{name: Airline} -[relationship:{name: Restricted items policy}]-> Policy{name: Policy} -[relationship:{name: Includes}]-> Bag limitations{name: Bag limitations}', 'Airline{name: Airline} -[relationship:{name: Restricted items policy}]-> Policy{name: Policy} -[relationship:{name: Applies to}]-> Main cabin{name: Main cabin}']}, 'kg_rel_text': ['American{name: American} -[relationship:{name: Does not allow}]-> Transport marijuana on flights{name: Transport marijuana on flights}', 'Airline{name: Airline} <-[relationship:{name: Applies to}]- Policy{name: Policy} -[relationship:{name: Includes}]-> Optional fees{name: Optional fees}', 'Airline{name: Airline} <-[relationship:{name: Applies to}]- Policy{name: Policy} -[relationship:{name: Includes}]-> Checked bag policy{name: Checked bag policy}', 'Airline{name: Airline} <-[relationship:{name: Applies to}]- Policy{name: Policy} -[relationship:{name: Includes}]-> 1 extra free checked bag{name: 1 extra free checked bag}', 'Airline{name: Airline} <-[relationship:{name: Applies to}]- Policy{name: Policy} -[relationship:{name: Applies to}]-> Tickets{name: Tickets}', 'Airline{name: Airline} <-[relationship:{name: Applies to}]- Policy{name: Policy} -[relationship:{name: Applies to}]-> Gasoline-powered tools{name: Gasoline-powered tools}', 'Airline{name: Airline} <-[relationship:{name: Applies to}]- Policy{name: Policy} -[relationship:{name: Applies to}]-> Delayed bags{name: Delayed bags}', 'Airline{name: Airline} <-[relationship:{name: Applies to}]- Policy{name: Policy} -[relationship:{name: Applies to}]-> Customers flying basic economy{name: Customers flying basic economy}', 'Airline{name: Airline} <-[relationship:{name: Applies to}]- Policy{name: Policy} -[relationship:{name: Applies to}]-> What can you fly with{name: What can you fly with}', 'Airline{name: Airline} <-[relationship:{name: Applies to}]- Policy{name: Policy} -[relationship:{name: Applies to}]-> Basic economy travel{name: Basic economy travel}', 'Airline{name: Airline} <-[relationship:{name: Applies to}]- Policy{name: Policy} -[relationship:{name: Applies to}]-> All regions{name: All regions}', 'Airline{name: Airline} <-[relationship:{name: Applies to}]- Policy{name: Policy} -[relationship:{name: Will be made in}]-> Accordance with{name: Accordance with}', 'Airline{name: Airline} <-[relationship:{name: Applies to}]- Policy{name: Policy} -[relationship:{name: Covers}]-> Delayed bags{name: Delayed bags}', 'Airline{name: Airline} <-[relationship:{name: Applies to}]- Policy{name: Policy} -[relationship:{name: Applies for}]-> Travel to / from panama and south america{name: Travel to / from panama and south america}', 'Airline{name: Airline} <-[relationship:{name: Applies to}]- Policy{name: Policy} -[relationship:{name: Includes}]-> Restricted items{name: Restricted items}', 'Airline{name: Airline} <-[relationship:{name: Applies to}]- Policy{name: Policy} -[relationship:{name: Applies for}]-> Transatlantic basic economy travel{name: Transatlantic basic economy travel}', 'Airline{name: Airline} <-[relationship:{name: Applies to}]- Policy{name: Policy} -[relationship:{name: Applies seasonally for}]-> Travel from november 16 – january 9{name: Travel from november 16 – january 9}', 'Airline{name: Airline} <-[relationship:{name: Applies to}]- Policy{name: Policy} -[relationship:{name: Impacts}]-> Schedule{name: Schedule}', 'Airline{name: Airline} <-[relationship:{name: Applies to}]- Policy{name: Policy} -[relationship:{name: Is about}]-> What can you fly with{name: What can you fly with}', 'Airline{name: Airline} <-[relationship:{name: Applies to}]- Policy{name: Policy} -[relationship:{name: Is about}]-> Delayed bags{name: Delayed bags}', 'Airline{name: Airline} <-[relationship:{name: Applies to}]- Policy{name: Policy} -[relationship:{name: Is about}]-> Checked bag allowances{name: Checked bag allowances}', 'Airline{name: Airline} <-[relationship:{name: Applies to}]- Policy{name: Policy} <-[relationship:{name: Restricted items policy}]- Airline{name: Airline}', 'Airline{name: Airline} <-[relationship:{name: Applies to}]- Policy{name: Policy} -[relationship:{name: Applies to}]-> Travel to cuba{name: Travel to cuba}', 'Airline{name: Airline} -[relationship:{name: Restricted items policy}]-> Policy{name: Policy} -[relationship:{name: Topic}]-> What can you fly with{name: What can you fly with}', 'Airline{name: Airline} -[relationship:{name: Restricted items policy}]-> Policy{name: Policy} -[relationship:{name: Includes}]-> Oversize and overweight bags{name: Oversize and overweight bags}', 'Airline{name: Airline} <-[relationship:{name: Applies to}]- Policy{name: Policy} -[relationship:{name: Topic}]-> Delayed bags{name: Delayed bags}', 'Airline{name: Airline} -[relationship:{name: Restricted items policy}]-> Policy{name: Policy} -[relationship:{name: Includes}]-> Delayed or damaged bags{name: Delayed or damaged bags}', 'Airline{name: Airline} -[relationship:{name: Restricted items policy}]-> Policy{name: Policy} -[relationship:{name: Includes}]-> Checked bag policy{name: Checked bag policy}', 'Airline{name: Airline} -[relationship:{name: Restricted items policy}]-> Policy{name: Policy} -[relationship:{name: Includes}]-> Bag limitations{name: Bag limitations}', 'Airline{name: Airline} -[relationship:{name: Restricted items policy}]-> Policy{name: Policy} -[relationship:{name: Applies to}]-> Main cabin{name: Main cabin}'], 'kg_schema': {'schema': \"Node properties: [{'tag': 'entity', 'properties': [('name', 'string')]}]\\nEdge properties: [{'edge': 'relationship', 'properties': [('name', 'string')]}]\\nRelationships: ['(:entity)-[:relationship]->(:entity)']\\n\"}}})"
      ]
     },
     "execution_count": 116,
     "metadata": {},
     "output_type": "execute_result"
    }
   ],
   "source": [
    "query_engine.query(\"Tell me about American Airlines\")"
   ]
  },
  {
   "cell_type": "code",
   "execution_count": 47,
   "metadata": {},
   "outputs": [
    {
     "name": "stdout",
     "output_type": "stream",
     "text": [
      "Lithium batteries are a type of battery that is intended for personal use and is commonly found in devices such as laptops. They are also known to be individually protected and are often included in carry-on bags for safety reasons. Additionally, lithium batteries have various types such as lithium-ion, lithium polymer, and lithium iron phosphate.\n"
     ]
    }
   ],
   "source": [
    "print(query_engine.query(\"Tell me about Lithium batteries\"))"
   ]
  },
  {
   "cell_type": "code",
   "execution_count": 64,
   "metadata": {},
   "outputs": [],
   "source": [
    "nodes = graph_rag_retriever.retrieve(\"Tell me about Lithium batteries\")"
   ]
  },
  {
   "cell_type": "code",
   "execution_count": 63,
   "metadata": {},
   "outputs": [
    {
     "name": "stdout",
     "output_type": "stream",
     "text": [
      "The following are knowledge sequence in max depth 2 in the form of directed graph like:\n",
      "`subject -[predicate]->, object, <-[predicate_next_hop]-, object_next_hop ...` extracted based on key entities as subject:\n",
      "Lithium{name: Lithium} <-[relationship:{relationship: Containing}]- Devices{name: Devices} -[relationship:{relationship: Are not intended for}]-> Personal use{name: Personal use}\n",
      "Lithium{name: Lithium} <-[relationship:{relationship: Contain}]- Cells{name: Cells} -[relationship:{relationship: Are intended for}]-> Personal use{name: Personal use}\n",
      "Lithium{name: Lithium} <-[relationship:{relationship: Containing}]- Devices{name: Devices} -[relationship:{relationship: Containing}]-> Cells{name: Cells}\n",
      "Lithium{name: Lithium} -[relationship:{relationship: Is type of}]-> Battery{name: Battery} -[relationship:{relationship: Is}]-> Protected{name: Protected}\n",
      "Lithium{name: Lithium} -[relationship:{relationship: Is type of}]-> Battery{name: Battery} -[relationship:{relationship: Is}]-> Lithium battery acceptance policy{name: Lithium battery acceptance policy}\n",
      "Lithium{name: Lithium} <-[relationship:{relationship: Contain}]- Cells{name: Cells}\n",
      "Lithium{name: Lithium} <-[relationship:{relationship: Containing}]- Devices{name: Devices} -[relationship:{relationship: Are safely packaged in}]-> Carry-on only bags{name: Carry-on only bags}\n",
      "Lithium{name: Lithium} -[relationship:{relationship: Is type of}]-> Battery{name: Battery} <-[relationship:{relationship: Is type of}]- Zinc air{name: Zinc air}\n",
      "Lithium{name: Lithium} -[relationship:{relationship: Is type of}]-> Battery{name: Battery} <-[relationship:{relationship: Is type of}]- Nickel-metal hydride{name: Nickel-metal hydride}\n",
      "Lithium{name: Lithium} -[relationship:{relationship: Is type of}]-> Battery{name: Battery} <-[relationship:{relationship: Is type of}]- Carbon zinc{name: Carbon zinc}\n",
      "Lithium{name: Lithium} -[relationship:{relationship: Is type of}]-> Battery{name: Battery} <-[relationship:{relationship: Is type of}]- Aa{name: Aa}\n",
      "Lithium{name: Lithium} -[relationship:{relationship: Is type of}]-> Battery{name: Battery}\n",
      "Lithium{name: Lithium} <-[relationship:{relationship: Containing}]- Devices{name: Devices}\n",
      "Lithium{name: Lithium} -[relationship:{relationship: Is type of}]-> Battery{name: Battery} <-[relationship:{relationship: Is type of}]- 9-volt{name: 9-volt}\n",
      "Lithium{name: Lithium} <-[relationship:{relationship: Containing}]- Devices{name: Devices} <-[relationship:{relationship: Remove from}]- Batteries{name: Batteries}\n",
      "Lithium{name: Lithium} -[relationship:{relationship: Is type of}]-> Battery{name: Battery} -[relationship:{relationship: Is in}]-> Carry-on bag{name: Carry-on bag}\n",
      "Lithium{name: Lithium} <-[relationship:{relationship: Containing}]- Devices{name: Devices} <-[relationship:{relationship: Should remove from}]- Batteries{name: Batteries}\n",
      "Lithium{name: Lithium} -[relationship:{relationship: Is type of}]-> Battery{name: Battery} -[relationship:{relationship: Is}]-> Individually protected{name: Individually protected}\n",
      "Lithium{name: Lithium} -[relationship:{relationship: Is type of}]-> Battery{name: Battery} <-[relationship:{relationship: Is type of}]- C{name: C}\n",
      "Lithium{name: Lithium} -[relationship:{relationship: Is type of}]-> Battery{name: Battery} <-[relationship:{relationship: Is type of}]- D{name: D}\n",
      "Lithium{name: Lithium} <-[relationship:{relationship: Containing}]- Devices{name: Devices} -[relationship:{relationship: Not intended for}]-> Personal use{name: Personal use}\n",
      "Lithium{name: Lithium} <-[relationship:{relationship: Containing}]- Devices{name: Devices} -[relationship:{relationship: Are safely packaged in}]-> Carry-on bag{name: Carry-on bag}\n",
      "Lithium{name: Lithium} -[relationship:{relationship: Is type of}]-> Battery{name: Battery} <-[relationship:{relationship: Is type of}]- Aaa{name: Aaa}\n",
      "Lithium{name: Lithium} -[relationship:{relationship: Is type of}]-> Battery{name: Battery} <-[relationship:{relationship: Is type of}]- Alkaline{name: Alkaline}\n",
      "Lithium{name: Lithium} -[relationship:{relationship: Is type of}]-> Battery{name: Battery} <-[relationship:{relationship: Is type of}]- Silver oxide{name: Silver oxide}\n",
      "Lithium{name: Lithium} <-[relationship:{relationship: Containing}]- Devices{name: Devices} -[relationship:{relationship: Put in}]-> Carry-on{name: Carry-on}\n",
      "Lithium{name: Lithium} <-[relationship:{relationship: Containing}]- Devices{name: Devices} -[relationship:{relationship: Intended for}]-> Personal use{name: Personal use}\n",
      "Lithium{name: Lithium} -[relationship:{relationship: Is type of}]-> Battery{name: Battery} <-[relationship:{relationship: Is type of}]- Nickel-cadmium{name: Nickel-cadmium}\n",
      "Lithium{name: Lithium} <-[relationship:{relationship: Containing}]- Devices{name: Devices} <-[relationship:{relationship: Must be removed from}]- Batteries{name: Batteries}\n",
      "Lithium{name: Lithium} <-[relationship:{relationship: Containing}]- Devices{name: Devices} -[relationship:{relationship: Include}]-> Laptop computer{name: Laptop computer}\n"
     ]
    }
   ],
   "source": [
    "print(nodes[0].text)"
   ]
  },
  {
   "cell_type": "code",
   "execution_count": 57,
   "metadata": {},
   "outputs": [
    {
     "data": {
      "text/plain": [
       "{'kg_rel_map': {'Lithium{name: Lithium}': ['Lithium{name: Lithium} <-[relationship:{relationship: Containing}]- Devices{name: Devices} -[relationship:{relationship: Are not intended for}]-> Personal use{name: Personal use}',\n",
       "   'Lithium{name: Lithium} <-[relationship:{relationship: Contain}]- Cells{name: Cells} -[relationship:{relationship: Are intended for}]-> Personal use{name: Personal use}',\n",
       "   'Lithium{name: Lithium} <-[relationship:{relationship: Containing}]- Devices{name: Devices} -[relationship:{relationship: Containing}]-> Cells{name: Cells}',\n",
       "   'Lithium{name: Lithium} -[relationship:{relationship: Is type of}]-> Battery{name: Battery} -[relationship:{relationship: Is}]-> Protected{name: Protected}',\n",
       "   'Lithium{name: Lithium} -[relationship:{relationship: Is type of}]-> Battery{name: Battery} -[relationship:{relationship: Is}]-> Lithium battery acceptance policy{name: Lithium battery acceptance policy}',\n",
       "   'Lithium{name: Lithium} <-[relationship:{relationship: Contain}]- Cells{name: Cells}',\n",
       "   'Lithium{name: Lithium} <-[relationship:{relationship: Containing}]- Devices{name: Devices} -[relationship:{relationship: Are safely packaged in}]-> Carry-on only bags{name: Carry-on only bags}',\n",
       "   'Lithium{name: Lithium} -[relationship:{relationship: Is type of}]-> Battery{name: Battery} <-[relationship:{relationship: Is type of}]- Zinc air{name: Zinc air}',\n",
       "   'Lithium{name: Lithium} -[relationship:{relationship: Is type of}]-> Battery{name: Battery} <-[relationship:{relationship: Is type of}]- Nickel-metal hydride{name: Nickel-metal hydride}',\n",
       "   'Lithium{name: Lithium} -[relationship:{relationship: Is type of}]-> Battery{name: Battery} <-[relationship:{relationship: Is type of}]- Carbon zinc{name: Carbon zinc}',\n",
       "   'Lithium{name: Lithium} -[relationship:{relationship: Is type of}]-> Battery{name: Battery} <-[relationship:{relationship: Is type of}]- Aa{name: Aa}',\n",
       "   'Lithium{name: Lithium} -[relationship:{relationship: Is type of}]-> Battery{name: Battery}',\n",
       "   'Lithium{name: Lithium} <-[relationship:{relationship: Containing}]- Devices{name: Devices}',\n",
       "   'Lithium{name: Lithium} -[relationship:{relationship: Is type of}]-> Battery{name: Battery} <-[relationship:{relationship: Is type of}]- 9-volt{name: 9-volt}',\n",
       "   'Lithium{name: Lithium} <-[relationship:{relationship: Containing}]- Devices{name: Devices} <-[relationship:{relationship: Remove from}]- Batteries{name: Batteries}',\n",
       "   'Lithium{name: Lithium} -[relationship:{relationship: Is type of}]-> Battery{name: Battery} -[relationship:{relationship: Is in}]-> Carry-on bag{name: Carry-on bag}',\n",
       "   'Lithium{name: Lithium} <-[relationship:{relationship: Containing}]- Devices{name: Devices} <-[relationship:{relationship: Should remove from}]- Batteries{name: Batteries}',\n",
       "   'Lithium{name: Lithium} -[relationship:{relationship: Is type of}]-> Battery{name: Battery} -[relationship:{relationship: Is}]-> Individually protected{name: Individually protected}',\n",
       "   'Lithium{name: Lithium} -[relationship:{relationship: Is type of}]-> Battery{name: Battery} <-[relationship:{relationship: Is type of}]- C{name: C}',\n",
       "   'Lithium{name: Lithium} -[relationship:{relationship: Is type of}]-> Battery{name: Battery} <-[relationship:{relationship: Is type of}]- D{name: D}',\n",
       "   'Lithium{name: Lithium} <-[relationship:{relationship: Containing}]- Devices{name: Devices} -[relationship:{relationship: Not intended for}]-> Personal use{name: Personal use}',\n",
       "   'Lithium{name: Lithium} <-[relationship:{relationship: Containing}]- Devices{name: Devices} -[relationship:{relationship: Are safely packaged in}]-> Carry-on bag{name: Carry-on bag}',\n",
       "   'Lithium{name: Lithium} -[relationship:{relationship: Is type of}]-> Battery{name: Battery} <-[relationship:{relationship: Is type of}]- Aaa{name: Aaa}',\n",
       "   'Lithium{name: Lithium} -[relationship:{relationship: Is type of}]-> Battery{name: Battery} <-[relationship:{relationship: Is type of}]- Alkaline{name: Alkaline}',\n",
       "   'Lithium{name: Lithium} -[relationship:{relationship: Is type of}]-> Battery{name: Battery} <-[relationship:{relationship: Is type of}]- Silver oxide{name: Silver oxide}',\n",
       "   'Lithium{name: Lithium} <-[relationship:{relationship: Containing}]- Devices{name: Devices} -[relationship:{relationship: Put in}]-> Carry-on{name: Carry-on}',\n",
       "   'Lithium{name: Lithium} <-[relationship:{relationship: Containing}]- Devices{name: Devices} -[relationship:{relationship: Intended for}]-> Personal use{name: Personal use}',\n",
       "   'Lithium{name: Lithium} -[relationship:{relationship: Is type of}]-> Battery{name: Battery} <-[relationship:{relationship: Is type of}]- Nickel-cadmium{name: Nickel-cadmium}',\n",
       "   'Lithium{name: Lithium} <-[relationship:{relationship: Containing}]- Devices{name: Devices} <-[relationship:{relationship: Must be removed from}]- Batteries{name: Batteries}',\n",
       "   'Lithium{name: Lithium} <-[relationship:{relationship: Containing}]- Devices{name: Devices} -[relationship:{relationship: Include}]-> Laptop computer{name: Laptop computer}']},\n",
       " 'kg_rel_text': ['Lithium{name: Lithium} <-[relationship:{relationship: Containing}]- Devices{name: Devices} -[relationship:{relationship: Are not intended for}]-> Personal use{name: Personal use}',\n",
       "  'Lithium{name: Lithium} <-[relationship:{relationship: Contain}]- Cells{name: Cells} -[relationship:{relationship: Are intended for}]-> Personal use{name: Personal use}',\n",
       "  'Lithium{name: Lithium} <-[relationship:{relationship: Containing}]- Devices{name: Devices} -[relationship:{relationship: Containing}]-> Cells{name: Cells}',\n",
       "  'Lithium{name: Lithium} -[relationship:{relationship: Is type of}]-> Battery{name: Battery} -[relationship:{relationship: Is}]-> Protected{name: Protected}',\n",
       "  'Lithium{name: Lithium} -[relationship:{relationship: Is type of}]-> Battery{name: Battery} -[relationship:{relationship: Is}]-> Lithium battery acceptance policy{name: Lithium battery acceptance policy}',\n",
       "  'Lithium{name: Lithium} <-[relationship:{relationship: Contain}]- Cells{name: Cells}',\n",
       "  'Lithium{name: Lithium} <-[relationship:{relationship: Containing}]- Devices{name: Devices} -[relationship:{relationship: Are safely packaged in}]-> Carry-on only bags{name: Carry-on only bags}',\n",
       "  'Lithium{name: Lithium} -[relationship:{relationship: Is type of}]-> Battery{name: Battery} <-[relationship:{relationship: Is type of}]- Zinc air{name: Zinc air}',\n",
       "  'Lithium{name: Lithium} -[relationship:{relationship: Is type of}]-> Battery{name: Battery} <-[relationship:{relationship: Is type of}]- Nickel-metal hydride{name: Nickel-metal hydride}',\n",
       "  'Lithium{name: Lithium} -[relationship:{relationship: Is type of}]-> Battery{name: Battery} <-[relationship:{relationship: Is type of}]- Carbon zinc{name: Carbon zinc}',\n",
       "  'Lithium{name: Lithium} -[relationship:{relationship: Is type of}]-> Battery{name: Battery} <-[relationship:{relationship: Is type of}]- Aa{name: Aa}',\n",
       "  'Lithium{name: Lithium} -[relationship:{relationship: Is type of}]-> Battery{name: Battery}',\n",
       "  'Lithium{name: Lithium} <-[relationship:{relationship: Containing}]- Devices{name: Devices}',\n",
       "  'Lithium{name: Lithium} -[relationship:{relationship: Is type of}]-> Battery{name: Battery} <-[relationship:{relationship: Is type of}]- 9-volt{name: 9-volt}',\n",
       "  'Lithium{name: Lithium} <-[relationship:{relationship: Containing}]- Devices{name: Devices} <-[relationship:{relationship: Remove from}]- Batteries{name: Batteries}',\n",
       "  'Lithium{name: Lithium} -[relationship:{relationship: Is type of}]-> Battery{name: Battery} -[relationship:{relationship: Is in}]-> Carry-on bag{name: Carry-on bag}',\n",
       "  'Lithium{name: Lithium} <-[relationship:{relationship: Containing}]- Devices{name: Devices} <-[relationship:{relationship: Should remove from}]- Batteries{name: Batteries}',\n",
       "  'Lithium{name: Lithium} -[relationship:{relationship: Is type of}]-> Battery{name: Battery} -[relationship:{relationship: Is}]-> Individually protected{name: Individually protected}',\n",
       "  'Lithium{name: Lithium} -[relationship:{relationship: Is type of}]-> Battery{name: Battery} <-[relationship:{relationship: Is type of}]- C{name: C}',\n",
       "  'Lithium{name: Lithium} -[relationship:{relationship: Is type of}]-> Battery{name: Battery} <-[relationship:{relationship: Is type of}]- D{name: D}',\n",
       "  'Lithium{name: Lithium} <-[relationship:{relationship: Containing}]- Devices{name: Devices} -[relationship:{relationship: Not intended for}]-> Personal use{name: Personal use}',\n",
       "  'Lithium{name: Lithium} <-[relationship:{relationship: Containing}]- Devices{name: Devices} -[relationship:{relationship: Are safely packaged in}]-> Carry-on bag{name: Carry-on bag}',\n",
       "  'Lithium{name: Lithium} -[relationship:{relationship: Is type of}]-> Battery{name: Battery} <-[relationship:{relationship: Is type of}]- Aaa{name: Aaa}',\n",
       "  'Lithium{name: Lithium} -[relationship:{relationship: Is type of}]-> Battery{name: Battery} <-[relationship:{relationship: Is type of}]- Alkaline{name: Alkaline}',\n",
       "  'Lithium{name: Lithium} -[relationship:{relationship: Is type of}]-> Battery{name: Battery} <-[relationship:{relationship: Is type of}]- Silver oxide{name: Silver oxide}',\n",
       "  'Lithium{name: Lithium} <-[relationship:{relationship: Containing}]- Devices{name: Devices} -[relationship:{relationship: Put in}]-> Carry-on{name: Carry-on}',\n",
       "  'Lithium{name: Lithium} <-[relationship:{relationship: Containing}]- Devices{name: Devices} -[relationship:{relationship: Intended for}]-> Personal use{name: Personal use}',\n",
       "  'Lithium{name: Lithium} -[relationship:{relationship: Is type of}]-> Battery{name: Battery} <-[relationship:{relationship: Is type of}]- Nickel-cadmium{name: Nickel-cadmium}',\n",
       "  'Lithium{name: Lithium} <-[relationship:{relationship: Containing}]- Devices{name: Devices} <-[relationship:{relationship: Must be removed from}]- Batteries{name: Batteries}',\n",
       "  'Lithium{name: Lithium} <-[relationship:{relationship: Containing}]- Devices{name: Devices} -[relationship:{relationship: Include}]-> Laptop computer{name: Laptop computer}'],\n",
       " 'kg_schema': {'schema': \"Node properties: [{'tag': 'entity', 'properties': [('name', 'string')]}]\\nEdge properties: [{'edge': 'relationship', 'properties': [('relationship', 'string')]}]\\nRelationships: ['(:entity)-[:relationship]->(:entity)']\\n\"}}"
      ]
     },
     "execution_count": 57,
     "metadata": {},
     "output_type": "execute_result"
    }
   ],
   "source": [
    "nodes[0].metadata"
   ]
  },
  {
   "cell_type": "code",
   "execution_count": 69,
   "metadata": {},
   "outputs": [
    {
     "name": "stdout",
     "output_type": "stream",
     "text": [
      "Yes, Lithium batteries are allowed in your carry-on.\n",
      "[NodeWithScore(node=TextNode(id_='21ec8a76-3bfd-4355-bd5f-04129b150f43', embedding=None, metadata={'kg_rel_map': {'Lithium-ion batteries{name: Lithium-ion batteries}': ['Lithium-ion batteries{name: Lithium-ion batteries} <-[relationship:{relationship: Allows}]- Airline{name: Airline} -[relationship:{relationship: Pay for}]-> Checked bags online{name: Checked bags online}', 'Lithium-ion batteries{name: Lithium-ion batteries} <-[relationship:{relationship: Allows}]- Airline{name: Airline} -[relationship:{relationship: Issued within/between}]-> U.s. (including hi/ak{name: U.s. (including hi/ak}', 'Lithium-ion batteries{name: Lithium-ion batteries} <-[relationship:{relationship: Allows}]- Airline{name: Airline} -[relationship:{relationship: Allows}]-> Watches for travel{name: Watches for travel}', 'Lithium-ion batteries{name: Lithium-ion batteries} <-[relationship:{relationship: Allows}]- Airline{name: Airline} -[relationship:{relationship: Allows}]-> Up to 2 spare batteries{name: Up to 2 spare batteries}', 'Lithium-ion batteries{name: Lithium-ion batteries} <-[relationship:{relationship: Allows}]- Airline{name: Airline} -[relationship:{relationship: Allows}]-> Safety/disposable razors in carry-on bag{name: Safety/disposable razors in carry-on bag}', 'Lithium-ion batteries{name: Lithium-ion batteries} <-[relationship:{relationship: Allows}]- Airline{name: Airline} -[relationship:{relationship: Allows}]-> Plastic cutlery in carry-on bag{name: Plastic cutlery in carry-on bag}', 'Lithium-ion batteries{name: Lithium-ion batteries} <-[relationship:{relationship: Allows}]- Airline{name: Airline} -[relationship:{relationship: Allows}]-> Notebook computers for travel{name: Notebook computers for travel}', 'Lithium-ion batteries{name: Lithium-ion batteries} <-[relationship:{relationship: Allows}]- Airline{name: Airline} -[relationship:{relationship: Allows}]-> Max of 2 bags{name: Max of 2 bags}', 'Lithium-ion batteries{name: Lithium-ion batteries} <-[relationship:{relationship: Allows}]- Airline{name: Airline} -[relationship:{relationship: Allows}]-> Lithium metal batteries{name: Lithium metal batteries}', 'Lithium-ion batteries{name: Lithium-ion batteries} <-[relationship:{relationship: Allows}]- Airline{name: Airline} -[relationship:{relationship: Allows}]-> Duty-free liquids{name: Duty-free liquids}', 'Lithium-ion batteries{name: Lithium-ion batteries} <-[relationship:{relationship: Allows}]- Airline{name: Airline} -[relationship:{relationship: Allows}]-> Check up to 3 bags{name: Check up to 3 bags}', 'Lithium-ion batteries{name: Lithium-ion batteries} <-[relationship:{relationship: Allows}]- Airline{name: Airline} -[relationship:{relationship: Allows}]-> Carry-on bags{name: Carry-on bags}', 'Lithium-ion batteries{name: Lithium-ion batteries} <-[relationship:{relationship: Allows}]- Airline{name: Airline} -[relationship:{relationship: Allows}]-> Camcorders for travel{name: Camcorders for travel}', 'Lithium-ion batteries{name: Lithium-ion batteries} <-[relationship:{relationship: Allows}]- Airline{name: Airline} -[relationship:{relationship: Allows}]-> Calculators for travel{name: Calculators for travel}', 'Lithium-ion batteries{name: Lithium-ion batteries} <-[relationship:{relationship: Allows}]- Airline{name: Airline} -[relationship:{relationship: Travel to}]-> Transatlantic{name: Transatlantic}', 'Lithium-ion batteries{name: Lithium-ion batteries} <-[relationship:{relationship: Allows}]- Airline{name: Airline} -[relationship:{relationship: Travel to}]-> South america{name: South america}', 'Lithium-ion batteries{name: Lithium-ion batteries} <-[relationship:{relationship: Allows}]- Airline{name: Airline} -[relationship:{relationship: Travel to}]-> Panama{name: Panama}', 'Lithium-ion batteries{name: Lithium-ion batteries} <-[relationship:{relationship: Allows}]- Airline{name: Airline} -[relationship:{relationship: Checks}]-> Bags{name: Bags}', 'Lithium-ion batteries{name: Lithium-ion batteries} <-[relationship:{relationship: Allows}]- Airline{name: Airline} -[relationship:{relationship: Is}]-> What can you fly with{name: What can you fly with}', 'Lithium-ion batteries{name: Lithium-ion batteries} <-[relationship:{relationship: Allows}]- Airline{name: Airline} -[relationship:{relationship: Is}]-> Type of cuba{name: Type of cuba}', 'Lithium-ion batteries{name: Lithium-ion batteries} <-[relationship:{relationship: Allows}]- Airline{name: Airline} -[relationship:{relationship: Impacts}]-> Schedule{name: Schedule}', \"Lithium-ion batteries{name: Lithium-ion batteries} <-[relationship:{relationship: Allows}]- Airline{name: Airline} -[relationship:{relationship: Can help}]-> If your region isn't listed{name: If your region isn't listed}\", 'Lithium-ion batteries{name: Lithium-ion batteries} <-[relationship:{relationship: Allows}]- Airline{name: Airline} -[relationship:{relationship: Visit}]-> Customer service faqs{name: Customer service faqs}', 'Lithium-ion batteries{name: Lithium-ion batteries} <-[relationship:{relationship: Allows}]- Airline{name: Airline} -[relationship:{relationship: Paid online}]-> $35{name: $35}', 'Lithium-ion batteries{name: Lithium-ion batteries} <-[relationship:{relationship: Allows}]- Airline{name: Airline} -[relationship:{relationship: Within}]-> Select markets{name: Select markets}', 'Lithium-ion batteries{name: Lithium-ion batteries} <-[relationship:{relationship: Allows}]- Airline{name: Airline} -[relationship:{relationship: Within}]-> 3 bags{name: 3 bags}', 'Lithium-ion batteries{name: Lithium-ion batteries} <-[relationship:{relationship: Allows}]- Airline{name: Airline} -[relationship:{relationship: Founded in}]-> 1982{name: 1982}', 'Lithium-ion batteries{name: Lithium-ion batteries} <-[relationship:{relationship: Allows}]- Airline{name: Airline} -[relationship:{relationship: Through check}]-> Bags{name: Bags}', 'Lithium-ion batteries{name: Lithium-ion batteries} <-[relationship:{relationship: Allows}]- Airline{name: Airline} -[relationship:{relationship: Includes}]-> South america{name: South america}', 'Lithium-ion batteries{name: Lithium-ion batteries} <-[relationship:{relationship: Allows}]- Airline{name: Airline} -[relationship:{relationship: Includes}]-> Main plus{name: Main plus}']}, 'kg_rel_text': ['Lithium-ion batteries{name: Lithium-ion batteries} <-[relationship:{relationship: Allows}]- Airline{name: Airline} -[relationship:{relationship: Pay for}]-> Checked bags online{name: Checked bags online}', 'Lithium-ion batteries{name: Lithium-ion batteries} <-[relationship:{relationship: Allows}]- Airline{name: Airline} -[relationship:{relationship: Issued within/between}]-> U.s. (including hi/ak{name: U.s. (including hi/ak}', 'Lithium-ion batteries{name: Lithium-ion batteries} <-[relationship:{relationship: Allows}]- Airline{name: Airline} -[relationship:{relationship: Allows}]-> Watches for travel{name: Watches for travel}', 'Lithium-ion batteries{name: Lithium-ion batteries} <-[relationship:{relationship: Allows}]- Airline{name: Airline} -[relationship:{relationship: Allows}]-> Up to 2 spare batteries{name: Up to 2 spare batteries}', 'Lithium-ion batteries{name: Lithium-ion batteries} <-[relationship:{relationship: Allows}]- Airline{name: Airline} -[relationship:{relationship: Allows}]-> Safety/disposable razors in carry-on bag{name: Safety/disposable razors in carry-on bag}', 'Lithium-ion batteries{name: Lithium-ion batteries} <-[relationship:{relationship: Allows}]- Airline{name: Airline} -[relationship:{relationship: Allows}]-> Plastic cutlery in carry-on bag{name: Plastic cutlery in carry-on bag}', 'Lithium-ion batteries{name: Lithium-ion batteries} <-[relationship:{relationship: Allows}]- Airline{name: Airline} -[relationship:{relationship: Allows}]-> Notebook computers for travel{name: Notebook computers for travel}', 'Lithium-ion batteries{name: Lithium-ion batteries} <-[relationship:{relationship: Allows}]- Airline{name: Airline} -[relationship:{relationship: Allows}]-> Max of 2 bags{name: Max of 2 bags}', 'Lithium-ion batteries{name: Lithium-ion batteries} <-[relationship:{relationship: Allows}]- Airline{name: Airline} -[relationship:{relationship: Allows}]-> Lithium metal batteries{name: Lithium metal batteries}', 'Lithium-ion batteries{name: Lithium-ion batteries} <-[relationship:{relationship: Allows}]- Airline{name: Airline} -[relationship:{relationship: Allows}]-> Duty-free liquids{name: Duty-free liquids}', 'Lithium-ion batteries{name: Lithium-ion batteries} <-[relationship:{relationship: Allows}]- Airline{name: Airline} -[relationship:{relationship: Allows}]-> Check up to 3 bags{name: Check up to 3 bags}', 'Lithium-ion batteries{name: Lithium-ion batteries} <-[relationship:{relationship: Allows}]- Airline{name: Airline} -[relationship:{relationship: Allows}]-> Carry-on bags{name: Carry-on bags}', 'Lithium-ion batteries{name: Lithium-ion batteries} <-[relationship:{relationship: Allows}]- Airline{name: Airline} -[relationship:{relationship: Allows}]-> Camcorders for travel{name: Camcorders for travel}', 'Lithium-ion batteries{name: Lithium-ion batteries} <-[relationship:{relationship: Allows}]- Airline{name: Airline} -[relationship:{relationship: Allows}]-> Calculators for travel{name: Calculators for travel}', 'Lithium-ion batteries{name: Lithium-ion batteries} <-[relationship:{relationship: Allows}]- Airline{name: Airline} -[relationship:{relationship: Travel to}]-> Transatlantic{name: Transatlantic}', 'Lithium-ion batteries{name: Lithium-ion batteries} <-[relationship:{relationship: Allows}]- Airline{name: Airline} -[relationship:{relationship: Travel to}]-> South america{name: South america}', 'Lithium-ion batteries{name: Lithium-ion batteries} <-[relationship:{relationship: Allows}]- Airline{name: Airline} -[relationship:{relationship: Travel to}]-> Panama{name: Panama}', 'Lithium-ion batteries{name: Lithium-ion batteries} <-[relationship:{relationship: Allows}]- Airline{name: Airline} -[relationship:{relationship: Checks}]-> Bags{name: Bags}', 'Lithium-ion batteries{name: Lithium-ion batteries} <-[relationship:{relationship: Allows}]- Airline{name: Airline} -[relationship:{relationship: Is}]-> What can you fly with{name: What can you fly with}', 'Lithium-ion batteries{name: Lithium-ion batteries} <-[relationship:{relationship: Allows}]- Airline{name: Airline} -[relationship:{relationship: Is}]-> Type of cuba{name: Type of cuba}', 'Lithium-ion batteries{name: Lithium-ion batteries} <-[relationship:{relationship: Allows}]- Airline{name: Airline} -[relationship:{relationship: Impacts}]-> Schedule{name: Schedule}', \"Lithium-ion batteries{name: Lithium-ion batteries} <-[relationship:{relationship: Allows}]- Airline{name: Airline} -[relationship:{relationship: Can help}]-> If your region isn't listed{name: If your region isn't listed}\", 'Lithium-ion batteries{name: Lithium-ion batteries} <-[relationship:{relationship: Allows}]- Airline{name: Airline} -[relationship:{relationship: Visit}]-> Customer service faqs{name: Customer service faqs}', 'Lithium-ion batteries{name: Lithium-ion batteries} <-[relationship:{relationship: Allows}]- Airline{name: Airline} -[relationship:{relationship: Paid online}]-> $35{name: $35}', 'Lithium-ion batteries{name: Lithium-ion batteries} <-[relationship:{relationship: Allows}]- Airline{name: Airline} -[relationship:{relationship: Within}]-> Select markets{name: Select markets}', 'Lithium-ion batteries{name: Lithium-ion batteries} <-[relationship:{relationship: Allows}]- Airline{name: Airline} -[relationship:{relationship: Within}]-> 3 bags{name: 3 bags}', 'Lithium-ion batteries{name: Lithium-ion batteries} <-[relationship:{relationship: Allows}]- Airline{name: Airline} -[relationship:{relationship: Founded in}]-> 1982{name: 1982}', 'Lithium-ion batteries{name: Lithium-ion batteries} <-[relationship:{relationship: Allows}]- Airline{name: Airline} -[relationship:{relationship: Through check}]-> Bags{name: Bags}', 'Lithium-ion batteries{name: Lithium-ion batteries} <-[relationship:{relationship: Allows}]- Airline{name: Airline} -[relationship:{relationship: Includes}]-> South america{name: South america}', 'Lithium-ion batteries{name: Lithium-ion batteries} <-[relationship:{relationship: Allows}]- Airline{name: Airline} -[relationship:{relationship: Includes}]-> Main plus{name: Main plus}'], 'kg_schema': {'schema': \"Node properties: [{'tag': 'entity', 'properties': [('name', 'string')]}]\\nEdge properties: [{'edge': 'relationship', 'properties': [('relationship', 'string')]}]\\nRelationships: ['(:entity)-[:relationship]->(:entity)']\\n\"}}, excluded_embed_metadata_keys=['kg_rel_map', 'kg_rel_text', 'kg_schema'], excluded_llm_metadata_keys=['kg_rel_map', 'kg_rel_text', 'kg_schema'], relationships={}, text=\"The following are knowledge sequence in max depth 2 in the form of directed graph like:\\n`subject -[predicate]->, object, <-[predicate_next_hop]-, object_next_hop ...` extracted based on key entities as subject:\\nLithium-ion batteries{name: Lithium-ion batteries} <-[relationship:{relationship: Allows}]- Airline{name: Airline} -[relationship:{relationship: Pay for}]-> Checked bags online{name: Checked bags online}\\nLithium-ion batteries{name: Lithium-ion batteries} <-[relationship:{relationship: Allows}]- Airline{name: Airline} -[relationship:{relationship: Issued within/between}]-> U.s. (including hi/ak{name: U.s. (including hi/ak}\\nLithium-ion batteries{name: Lithium-ion batteries} <-[relationship:{relationship: Allows}]- Airline{name: Airline} -[relationship:{relationship: Allows}]-> Watches for travel{name: Watches for travel}\\nLithium-ion batteries{name: Lithium-ion batteries} <-[relationship:{relationship: Allows}]- Airline{name: Airline} -[relationship:{relationship: Allows}]-> Up to 2 spare batteries{name: Up to 2 spare batteries}\\nLithium-ion batteries{name: Lithium-ion batteries} <-[relationship:{relationship: Allows}]- Airline{name: Airline} -[relationship:{relationship: Allows}]-> Safety/disposable razors in carry-on bag{name: Safety/disposable razors in carry-on bag}\\nLithium-ion batteries{name: Lithium-ion batteries} <-[relationship:{relationship: Allows}]- Airline{name: Airline} -[relationship:{relationship: Allows}]-> Plastic cutlery in carry-on bag{name: Plastic cutlery in carry-on bag}\\nLithium-ion batteries{name: Lithium-ion batteries} <-[relationship:{relationship: Allows}]- Airline{name: Airline} -[relationship:{relationship: Allows}]-> Notebook computers for travel{name: Notebook computers for travel}\\nLithium-ion batteries{name: Lithium-ion batteries} <-[relationship:{relationship: Allows}]- Airline{name: Airline} -[relationship:{relationship: Allows}]-> Max of 2 bags{name: Max of 2 bags}\\nLithium-ion batteries{name: Lithium-ion batteries} <-[relationship:{relationship: Allows}]- Airline{name: Airline} -[relationship:{relationship: Allows}]-> Lithium metal batteries{name: Lithium metal batteries}\\nLithium-ion batteries{name: Lithium-ion batteries} <-[relationship:{relationship: Allows}]- Airline{name: Airline} -[relationship:{relationship: Allows}]-> Duty-free liquids{name: Duty-free liquids}\\nLithium-ion batteries{name: Lithium-ion batteries} <-[relationship:{relationship: Allows}]- Airline{name: Airline} -[relationship:{relationship: Allows}]-> Check up to 3 bags{name: Check up to 3 bags}\\nLithium-ion batteries{name: Lithium-ion batteries} <-[relationship:{relationship: Allows}]- Airline{name: Airline} -[relationship:{relationship: Allows}]-> Carry-on bags{name: Carry-on bags}\\nLithium-ion batteries{name: Lithium-ion batteries} <-[relationship:{relationship: Allows}]- Airline{name: Airline} -[relationship:{relationship: Allows}]-> Camcorders for travel{name: Camcorders for travel}\\nLithium-ion batteries{name: Lithium-ion batteries} <-[relationship:{relationship: Allows}]- Airline{name: Airline} -[relationship:{relationship: Allows}]-> Calculators for travel{name: Calculators for travel}\\nLithium-ion batteries{name: Lithium-ion batteries} <-[relationship:{relationship: Allows}]- Airline{name: Airline} -[relationship:{relationship: Travel to}]-> Transatlantic{name: Transatlantic}\\nLithium-ion batteries{name: Lithium-ion batteries} <-[relationship:{relationship: Allows}]- Airline{name: Airline} -[relationship:{relationship: Travel to}]-> South america{name: South america}\\nLithium-ion batteries{name: Lithium-ion batteries} <-[relationship:{relationship: Allows}]- Airline{name: Airline} -[relationship:{relationship: Travel to}]-> Panama{name: Panama}\\nLithium-ion batteries{name: Lithium-ion batteries} <-[relationship:{relationship: Allows}]- Airline{name: Airline} -[relationship:{relationship: Checks}]-> Bags{name: Bags}\\nLithium-ion batteries{name: Lithium-ion batteries} <-[relationship:{relationship: Allows}]- Airline{name: Airline} -[relationship:{relationship: Is}]-> What can you fly with{name: What can you fly with}\\nLithium-ion batteries{name: Lithium-ion batteries} <-[relationship:{relationship: Allows}]- Airline{name: Airline} -[relationship:{relationship: Is}]-> Type of cuba{name: Type of cuba}\\nLithium-ion batteries{name: Lithium-ion batteries} <-[relationship:{relationship: Allows}]- Airline{name: Airline} -[relationship:{relationship: Impacts}]-> Schedule{name: Schedule}\\nLithium-ion batteries{name: Lithium-ion batteries} <-[relationship:{relationship: Allows}]- Airline{name: Airline} -[relationship:{relationship: Can help}]-> If your region isn't listed{name: If your region isn't listed}\\nLithium-ion batteries{name: Lithium-ion batteries} <-[relationship:{relationship: Allows}]- Airline{name: Airline} -[relationship:{relationship: Visit}]-> Customer service faqs{name: Customer service faqs}\\nLithium-ion batteries{name: Lithium-ion batteries} <-[relationship:{relationship: Allows}]- Airline{name: Airline} -[relationship:{relationship: Paid online}]-> $35{name: $35}\\nLithium-ion batteries{name: Lithium-ion batteries} <-[relationship:{relationship: Allows}]- Airline{name: Airline} -[relationship:{relationship: Within}]-> Select markets{name: Select markets}\\nLithium-ion batteries{name: Lithium-ion batteries} <-[relationship:{relationship: Allows}]- Airline{name: Airline} -[relationship:{relationship: Within}]-> 3 bags{name: 3 bags}\\nLithium-ion batteries{name: Lithium-ion batteries} <-[relationship:{relationship: Allows}]- Airline{name: Airline} -[relationship:{relationship: Founded in}]-> 1982{name: 1982}\\nLithium-ion batteries{name: Lithium-ion batteries} <-[relationship:{relationship: Allows}]- Airline{name: Airline} -[relationship:{relationship: Through check}]-> Bags{name: Bags}\\nLithium-ion batteries{name: Lithium-ion batteries} <-[relationship:{relationship: Allows}]- Airline{name: Airline} -[relationship:{relationship: Includes}]-> South america{name: South america}\\nLithium-ion batteries{name: Lithium-ion batteries} <-[relationship:{relationship: Allows}]- Airline{name: Airline} -[relationship:{relationship: Includes}]-> Main plus{name: Main plus}\", start_char_idx=None, end_char_idx=None, text_template='{metadata_str}\\n\\n{content}', metadata_template='{key}: {value}', metadata_seperator='\\n'), score=None)]\n"
     ]
    }
   ],
   "source": [
    "query = query_engine.query(\"Are Lithium batteries allowed in my carry-on?\")\n",
    "print(query.response)\n",
    "print(query.source_nodes)"
   ]
  },
  {
   "cell_type": "code",
   "execution_count": 70,
   "metadata": {},
   "outputs": [
    {
     "name": "stdout",
     "output_type": "stream",
     "text": [
      "Yes, Lithium batteries are allowed in carry-on baggage when flying American Airlines.\n",
      "[NodeWithScore(node=TextNode(id_='b6b12fb5-3063-4ee4-8c45-9ccb8b0203cc', embedding=None, metadata={'kg_rel_map': {'American{name: American}': ['American{name: American} <-[relationship:{relationship: Is}]- App{name: App} -[relationship:{relationship: Is}]-> Mobile{name: Mobile}', 'American{name: American} <-[relationship:{relationship: Is}]- App{name: App} -[relationship:{relationship: Choose}]-> Flight{name: Flight}', 'American{name: American} <-[relationship:{relationship: Is}]- App{name: App} <-[relationship:{relationship: Check-in}]- Bags{name: Bags}', \"American{name: American} <-[relationship:{relationship: Is}]- App{name: App} <-[relationship:{relationship: Don't have}]- App{name: App}\", 'American{name: American} -[relationship:{relationship: Marketed}]-> Itineraries{name: Itineraries} <-[relationship:{relationship: Markets and operates}]- American airlines{name: American airlines}', 'American{name: American} -[relationship:{relationship: Marketed}]-> Itineraries{name: Itineraries} <-[relationship:{relationship: Marketed and operated}]- American{name: American}', 'American{name: American} -[relationship:{relationship: Marketed}]-> Itineraries{name: Itineraries} <-[relationship:{relationship: Operated}]- American{name: American}', 'American{name: American} -[relationship:{relationship: Marketed and operated}]-> Itineraries{name: Itineraries} <-[relationship:{relationship: On}]- Traveling{name: Traveling}', 'American{name: American} -[relationship:{relationship: Marketed and operated}]-> Itineraries{name: Itineraries} <-[relationship:{relationship: Operate}]- American airlines{name: American airlines}', 'American{name: American} -[relationship:{relationship: Operated}]-> Itineraries{name: Itineraries} -[relationship:{relationship: Are}]-> Marketed and operated by american airlines{name: Marketed and operated by american airlines}', 'American{name: American} -[relationship:{relationship: Operated}]-> Itineraries{name: Itineraries} <-[relationship:{relationship: Markets and operates}]- American airlines{name: American airlines}', 'American{name: American} -[relationship:{relationship: Marketed and operated}]-> Itineraries{name: Itineraries} <-[relationship:{relationship: Marketed}]- American{name: American}', 'American{name: American} -[relationship:{relationship: Operated}]-> Itineraries{name: Itineraries} <-[relationship:{relationship: Marketed}]- American{name: American}', 'American{name: American} -[relationship:{relationship: Operated}]-> Itineraries{name: Itineraries} <-[relationship:{relationship: Marketed and operated}]- American{name: American}', 'American{name: American} -[relationship:{relationship: Operated}]-> Itineraries{name: Itineraries} <-[relationship:{relationship: Operate}]- American airlines{name: American airlines}', 'American{name: American} -[relationship:{relationship: Open}]-> App{name: App} -[relationship:{relationship: Is}]-> Mobile{name: Mobile}', 'American{name: American} -[relationship:{relationship: Open}]-> App{name: App} -[relationship:{relationship: Is}]-> American{name: American}', 'American{name: American} -[relationship:{relationship: Open}]-> App{name: App} -[relationship:{relationship: View}]-> Trip changes{name: Trip changes}', 'American{name: American} -[relationship:{relationship: Open}]-> App{name: App} -[relationship:{relationship: Choose}]-> Flight{name: Flight}', \"American{name: American} -[relationship:{relationship: Open}]-> App{name: App} <-[relationship:{relationship: Don't have}]- App{name: App}\", 'American{name: American} <-[relationship:{relationship: Is}]- App{name: App}', 'American{name: American} -[relationship:{relationship: Operated}]-> Itineraries{name: Itineraries}', 'American{name: American} -[relationship:{relationship: Open}]-> App{name: App}'], 'Lithium{name: Lithium}': ['Lithium{name: Lithium} <-[relationship:{relationship: Containing}]- Devices{name: Devices} -[relationship:{relationship: Are not intended for}]-> Personal use{name: Personal use}', 'Lithium{name: Lithium} <-[relationship:{relationship: Containing}]- Devices{name: Devices} -[relationship:{relationship: Spares for}]-> Personal use{name: Personal use}', 'Lithium{name: Lithium} <-[relationship:{relationship: Containing}]- Devices{name: Devices} -[relationship:{relationship: Spares for}]-> Intended{name: Intended}', 'Lithium{name: Lithium} <-[relationship:{relationship: Containing}]- Devices{name: Devices} -[relationship:{relationship: Are}]-> Intended for personal use{name: Intended for personal use}', 'Lithium{name: Lithium} <-[relationship:{relationship: Containing}]- Devices{name: Devices} -[relationship:{relationship: Containing}]-> Spares{name: Spares}', 'Lithium{name: Lithium} <-[relationship:{relationship: Containing}]- Devices{name: Devices} -[relationship:{relationship: Containing}]-> Cells or batteries{name: Cells or batteries}', 'Lithium{name: Lithium} <-[relationship:{relationship: Containing}]- Devices{name: Devices} -[relationship:{relationship: Containing}]-> Cells{name: Cells}']}, 'kg_rel_text': ['American{name: American} <-[relationship:{relationship: Is}]- App{name: App} -[relationship:{relationship: Is}]-> Mobile{name: Mobile}', 'American{name: American} <-[relationship:{relationship: Is}]- App{name: App} -[relationship:{relationship: Choose}]-> Flight{name: Flight}', 'American{name: American} <-[relationship:{relationship: Is}]- App{name: App} <-[relationship:{relationship: Check-in}]- Bags{name: Bags}', \"American{name: American} <-[relationship:{relationship: Is}]- App{name: App} <-[relationship:{relationship: Don't have}]- App{name: App}\", 'American{name: American} -[relationship:{relationship: Marketed}]-> Itineraries{name: Itineraries} <-[relationship:{relationship: Markets and operates}]- American airlines{name: American airlines}', 'American{name: American} -[relationship:{relationship: Marketed}]-> Itineraries{name: Itineraries} <-[relationship:{relationship: Marketed and operated}]- American{name: American}', 'American{name: American} -[relationship:{relationship: Marketed}]-> Itineraries{name: Itineraries} <-[relationship:{relationship: Operated}]- American{name: American}', 'American{name: American} -[relationship:{relationship: Marketed and operated}]-> Itineraries{name: Itineraries} <-[relationship:{relationship: On}]- Traveling{name: Traveling}', 'American{name: American} -[relationship:{relationship: Marketed and operated}]-> Itineraries{name: Itineraries} <-[relationship:{relationship: Operate}]- American airlines{name: American airlines}', 'American{name: American} -[relationship:{relationship: Operated}]-> Itineraries{name: Itineraries} -[relationship:{relationship: Are}]-> Marketed and operated by american airlines{name: Marketed and operated by american airlines}', 'American{name: American} -[relationship:{relationship: Operated}]-> Itineraries{name: Itineraries} <-[relationship:{relationship: Markets and operates}]- American airlines{name: American airlines}', 'American{name: American} -[relationship:{relationship: Marketed and operated}]-> Itineraries{name: Itineraries} <-[relationship:{relationship: Marketed}]- American{name: American}', 'American{name: American} -[relationship:{relationship: Operated}]-> Itineraries{name: Itineraries} <-[relationship:{relationship: Marketed}]- American{name: American}', 'American{name: American} -[relationship:{relationship: Operated}]-> Itineraries{name: Itineraries} <-[relationship:{relationship: Marketed and operated}]- American{name: American}', 'American{name: American} -[relationship:{relationship: Operated}]-> Itineraries{name: Itineraries} <-[relationship:{relationship: Operate}]- American airlines{name: American airlines}', 'American{name: American} -[relationship:{relationship: Open}]-> App{name: App} -[relationship:{relationship: Is}]-> Mobile{name: Mobile}', 'American{name: American} -[relationship:{relationship: Open}]-> App{name: App} -[relationship:{relationship: Is}]-> American{name: American}', 'American{name: American} -[relationship:{relationship: Open}]-> App{name: App} -[relationship:{relationship: View}]-> Trip changes{name: Trip changes}', 'American{name: American} -[relationship:{relationship: Open}]-> App{name: App} -[relationship:{relationship: Choose}]-> Flight{name: Flight}', \"American{name: American} -[relationship:{relationship: Open}]-> App{name: App} <-[relationship:{relationship: Don't have}]- App{name: App}\", 'American{name: American} <-[relationship:{relationship: Is}]- App{name: App}', 'American{name: American} -[relationship:{relationship: Operated}]-> Itineraries{name: Itineraries}', 'American{name: American} -[relationship:{relationship: Open}]-> App{name: App}', 'Lithium{name: Lithium} <-[relationship:{relationship: Containing}]- Devices{name: Devices} -[relationship:{relationship: Are not intended for}]-> Personal use{name: Personal use}', 'Lithium{name: Lithium} <-[relationship:{relationship: Containing}]- Devices{name: Devices} -[relationship:{relationship: Spares for}]-> Personal use{name: Personal use}', 'Lithium{name: Lithium} <-[relationship:{relationship: Containing}]- Devices{name: Devices} -[relationship:{relationship: Spares for}]-> Intended{name: Intended}', 'Lithium{name: Lithium} <-[relationship:{relationship: Containing}]- Devices{name: Devices} -[relationship:{relationship: Are}]-> Intended for personal use{name: Intended for personal use}', 'Lithium{name: Lithium} <-[relationship:{relationship: Containing}]- Devices{name: Devices} -[relationship:{relationship: Containing}]-> Spares{name: Spares}', 'Lithium{name: Lithium} <-[relationship:{relationship: Containing}]- Devices{name: Devices} -[relationship:{relationship: Containing}]-> Cells or batteries{name: Cells or batteries}', 'Lithium{name: Lithium} <-[relationship:{relationship: Containing}]- Devices{name: Devices} -[relationship:{relationship: Containing}]-> Cells{name: Cells}'], 'kg_schema': {'schema': \"Node properties: [{'tag': 'entity', 'properties': [('name', 'string')]}]\\nEdge properties: [{'edge': 'relationship', 'properties': [('relationship', 'string')]}]\\nRelationships: ['(:entity)-[:relationship]->(:entity)']\\n\"}}, excluded_embed_metadata_keys=['kg_rel_map', 'kg_rel_text', 'kg_schema'], excluded_llm_metadata_keys=['kg_rel_map', 'kg_rel_text', 'kg_schema'], relationships={}, text=\"The following are knowledge sequence in max depth 2 in the form of directed graph like:\\n`subject -[predicate]->, object, <-[predicate_next_hop]-, object_next_hop ...` extracted based on key entities as subject:\\nAmerican{name: American} <-[relationship:{relationship: Is}]- App{name: App} -[relationship:{relationship: Is}]-> Mobile{name: Mobile}\\nAmerican{name: American} <-[relationship:{relationship: Is}]- App{name: App} -[relationship:{relationship: Choose}]-> Flight{name: Flight}\\nAmerican{name: American} <-[relationship:{relationship: Is}]- App{name: App} <-[relationship:{relationship: Check-in}]- Bags{name: Bags}\\nAmerican{name: American} <-[relationship:{relationship: Is}]- App{name: App} <-[relationship:{relationship: Don't have}]- App{name: App}\\nAmerican{name: American} -[relationship:{relationship: Marketed}]-> Itineraries{name: Itineraries} <-[relationship:{relationship: Markets and operates}]- American airlines{name: American airlines}\\nAmerican{name: American} -[relationship:{relationship: Marketed}]-> Itineraries{name: Itineraries} <-[relationship:{relationship: Marketed and operated}]- American{name: American}\\nAmerican{name: American} -[relationship:{relationship: Marketed}]-> Itineraries{name: Itineraries} <-[relationship:{relationship: Operated}]- American{name: American}\\nAmerican{name: American} -[relationship:{relationship: Marketed and operated}]-> Itineraries{name: Itineraries} <-[relationship:{relationship: On}]- Traveling{name: Traveling}\\nAmerican{name: American} -[relationship:{relationship: Marketed and operated}]-> Itineraries{name: Itineraries} <-[relationship:{relationship: Operate}]- American airlines{name: American airlines}\\nAmerican{name: American} -[relationship:{relationship: Operated}]-> Itineraries{name: Itineraries} -[relationship:{relationship: Are}]-> Marketed and operated by american airlines{name: Marketed and operated by american airlines}\\nAmerican{name: American} -[relationship:{relationship: Operated}]-> Itineraries{name: Itineraries} <-[relationship:{relationship: Markets and operates}]- American airlines{name: American airlines}\\nAmerican{name: American} -[relationship:{relationship: Marketed and operated}]-> Itineraries{name: Itineraries} <-[relationship:{relationship: Marketed}]- American{name: American}\\nAmerican{name: American} -[relationship:{relationship: Operated}]-> Itineraries{name: Itineraries} <-[relationship:{relationship: Marketed}]- American{name: American}\\nAmerican{name: American} -[relationship:{relationship: Operated}]-> Itineraries{name: Itineraries} <-[relationship:{relationship: Marketed and operated}]- American{name: American}\\nAmerican{name: American} -[relationship:{relationship: Operated}]-> Itineraries{name: Itineraries} <-[relationship:{relationship: Operate}]- American airlines{name: American airlines}\\nAmerican{name: American} -[relationship:{relationship: Open}]-> App{name: App} -[relationship:{relationship: Is}]-> Mobile{name: Mobile}\\nAmerican{name: American} -[relationship:{relationship: Open}]-> App{name: App} -[relationship:{relationship: Is}]-> American{name: American}\\nAmerican{name: American} -[relationship:{relationship: Open}]-> App{name: App} -[relationship:{relationship: View}]-> Trip changes{name: Trip changes}\\nAmerican{name: American} -[relationship:{relationship: Open}]-> App{name: App} -[relationship:{relationship: Choose}]-> Flight{name: Flight}\\nAmerican{name: American} -[relationship:{relationship: Open}]-> App{name: App} <-[relationship:{relationship: Don't have}]- App{name: App}\\nAmerican{name: American} <-[relationship:{relationship: Is}]- App{name: App}\\nAmerican{name: American} -[relationship:{relationship: Operated}]-> Itineraries{name: Itineraries}\\nAmerican{name: American} -[relationship:{relationship: Open}]-> App{name: App}\\nLithium{name: Lithium} <-[relationship:{relationship: Containing}]- Devices{name: Devices} -[relationship:{relationship: Are not intended for}]-> Personal use{name: Personal use}\\nLithium{name: Lithium} <-[relationship:{relationship: Containing}]- Devices{name: Devices} -[relationship:{relationship: Spares for}]-> Personal use{name: Personal use}\\nLithium{name: Lithium} <-[relationship:{relationship: Containing}]- Devices{name: Devices} -[relationship:{relationship: Spares for}]-> Intended{name: Intended}\\nLithium{name: Lithium} <-[relationship:{relationship: Containing}]- Devices{name: Devices} -[relationship:{relationship: Are}]-> Intended for personal use{name: Intended for personal use}\\nLithium{name: Lithium} <-[relationship:{relationship: Containing}]- Devices{name: Devices} -[relationship:{relationship: Containing}]-> Spares{name: Spares}\\nLithium{name: Lithium} <-[relationship:{relationship: Containing}]- Devices{name: Devices} -[relationship:{relationship: Containing}]-> Cells or batteries{name: Cells or batteries}\\nLithium{name: Lithium} <-[relationship:{relationship: Containing}]- Devices{name: Devices} -[relationship:{relationship: Containing}]-> Cells{name: Cells}\", start_char_idx=None, end_char_idx=None, text_template='{metadata_str}\\n\\n{content}', metadata_template='{key}: {value}', metadata_seperator='\\n'), score=None)]\n"
     ]
    }
   ],
   "source": [
    "query = query_engine.query(\"I'm flying American Airlines. Are Lithium batteries allowed in my carry-on?\")\n",
    "print(query.response)\n",
    "print(query.source_nodes)"
   ]
  },
  {
   "cell_type": "code",
   "execution_count": 74,
   "metadata": {},
   "outputs": [
    {
     "data": {
      "text/plain": [
       "{'node': {'id_': 'b6b12fb5-3063-4ee4-8c45-9ccb8b0203cc',\n",
       "  'embedding': None,\n",
       "  'metadata': {'kg_rel_map': {'American{name: American}': ['American{name: American} <-[relationship:{relationship: Is}]- App{name: App} -[relationship:{relationship: Is}]-> Mobile{name: Mobile}',\n",
       "     'American{name: American} <-[relationship:{relationship: Is}]- App{name: App} -[relationship:{relationship: Choose}]-> Flight{name: Flight}',\n",
       "     'American{name: American} <-[relationship:{relationship: Is}]- App{name: App} <-[relationship:{relationship: Check-in}]- Bags{name: Bags}',\n",
       "     \"American{name: American} <-[relationship:{relationship: Is}]- App{name: App} <-[relationship:{relationship: Don't have}]- App{name: App}\",\n",
       "     'American{name: American} -[relationship:{relationship: Marketed}]-> Itineraries{name: Itineraries} <-[relationship:{relationship: Markets and operates}]- American airlines{name: American airlines}',\n",
       "     'American{name: American} -[relationship:{relationship: Marketed}]-> Itineraries{name: Itineraries} <-[relationship:{relationship: Marketed and operated}]- American{name: American}',\n",
       "     'American{name: American} -[relationship:{relationship: Marketed}]-> Itineraries{name: Itineraries} <-[relationship:{relationship: Operated}]- American{name: American}',\n",
       "     'American{name: American} -[relationship:{relationship: Marketed and operated}]-> Itineraries{name: Itineraries} <-[relationship:{relationship: On}]- Traveling{name: Traveling}',\n",
       "     'American{name: American} -[relationship:{relationship: Marketed and operated}]-> Itineraries{name: Itineraries} <-[relationship:{relationship: Operate}]- American airlines{name: American airlines}',\n",
       "     'American{name: American} -[relationship:{relationship: Operated}]-> Itineraries{name: Itineraries} -[relationship:{relationship: Are}]-> Marketed and operated by american airlines{name: Marketed and operated by american airlines}',\n",
       "     'American{name: American} -[relationship:{relationship: Operated}]-> Itineraries{name: Itineraries} <-[relationship:{relationship: Markets and operates}]- American airlines{name: American airlines}',\n",
       "     'American{name: American} -[relationship:{relationship: Marketed and operated}]-> Itineraries{name: Itineraries} <-[relationship:{relationship: Marketed}]- American{name: American}',\n",
       "     'American{name: American} -[relationship:{relationship: Operated}]-> Itineraries{name: Itineraries} <-[relationship:{relationship: Marketed}]- American{name: American}',\n",
       "     'American{name: American} -[relationship:{relationship: Operated}]-> Itineraries{name: Itineraries} <-[relationship:{relationship: Marketed and operated}]- American{name: American}',\n",
       "     'American{name: American} -[relationship:{relationship: Operated}]-> Itineraries{name: Itineraries} <-[relationship:{relationship: Operate}]- American airlines{name: American airlines}',\n",
       "     'American{name: American} -[relationship:{relationship: Open}]-> App{name: App} -[relationship:{relationship: Is}]-> Mobile{name: Mobile}',\n",
       "     'American{name: American} -[relationship:{relationship: Open}]-> App{name: App} -[relationship:{relationship: Is}]-> American{name: American}',\n",
       "     'American{name: American} -[relationship:{relationship: Open}]-> App{name: App} -[relationship:{relationship: View}]-> Trip changes{name: Trip changes}',\n",
       "     'American{name: American} -[relationship:{relationship: Open}]-> App{name: App} -[relationship:{relationship: Choose}]-> Flight{name: Flight}',\n",
       "     \"American{name: American} -[relationship:{relationship: Open}]-> App{name: App} <-[relationship:{relationship: Don't have}]- App{name: App}\",\n",
       "     'American{name: American} <-[relationship:{relationship: Is}]- App{name: App}',\n",
       "     'American{name: American} -[relationship:{relationship: Operated}]-> Itineraries{name: Itineraries}',\n",
       "     'American{name: American} -[relationship:{relationship: Open}]-> App{name: App}'],\n",
       "    'Lithium{name: Lithium}': ['Lithium{name: Lithium} <-[relationship:{relationship: Containing}]- Devices{name: Devices} -[relationship:{relationship: Are not intended for}]-> Personal use{name: Personal use}',\n",
       "     'Lithium{name: Lithium} <-[relationship:{relationship: Containing}]- Devices{name: Devices} -[relationship:{relationship: Spares for}]-> Personal use{name: Personal use}',\n",
       "     'Lithium{name: Lithium} <-[relationship:{relationship: Containing}]- Devices{name: Devices} -[relationship:{relationship: Spares for}]-> Intended{name: Intended}',\n",
       "     'Lithium{name: Lithium} <-[relationship:{relationship: Containing}]- Devices{name: Devices} -[relationship:{relationship: Are}]-> Intended for personal use{name: Intended for personal use}',\n",
       "     'Lithium{name: Lithium} <-[relationship:{relationship: Containing}]- Devices{name: Devices} -[relationship:{relationship: Containing}]-> Spares{name: Spares}',\n",
       "     'Lithium{name: Lithium} <-[relationship:{relationship: Containing}]- Devices{name: Devices} -[relationship:{relationship: Containing}]-> Cells or batteries{name: Cells or batteries}',\n",
       "     'Lithium{name: Lithium} <-[relationship:{relationship: Containing}]- Devices{name: Devices} -[relationship:{relationship: Containing}]-> Cells{name: Cells}']},\n",
       "   'kg_rel_text': ['American{name: American} <-[relationship:{relationship: Is}]- App{name: App} -[relationship:{relationship: Is}]-> Mobile{name: Mobile}',\n",
       "    'American{name: American} <-[relationship:{relationship: Is}]- App{name: App} -[relationship:{relationship: Choose}]-> Flight{name: Flight}',\n",
       "    'American{name: American} <-[relationship:{relationship: Is}]- App{name: App} <-[relationship:{relationship: Check-in}]- Bags{name: Bags}',\n",
       "    \"American{name: American} <-[relationship:{relationship: Is}]- App{name: App} <-[relationship:{relationship: Don't have}]- App{name: App}\",\n",
       "    'American{name: American} -[relationship:{relationship: Marketed}]-> Itineraries{name: Itineraries} <-[relationship:{relationship: Markets and operates}]- American airlines{name: American airlines}',\n",
       "    'American{name: American} -[relationship:{relationship: Marketed}]-> Itineraries{name: Itineraries} <-[relationship:{relationship: Marketed and operated}]- American{name: American}',\n",
       "    'American{name: American} -[relationship:{relationship: Marketed}]-> Itineraries{name: Itineraries} <-[relationship:{relationship: Operated}]- American{name: American}',\n",
       "    'American{name: American} -[relationship:{relationship: Marketed and operated}]-> Itineraries{name: Itineraries} <-[relationship:{relationship: On}]- Traveling{name: Traveling}',\n",
       "    'American{name: American} -[relationship:{relationship: Marketed and operated}]-> Itineraries{name: Itineraries} <-[relationship:{relationship: Operate}]- American airlines{name: American airlines}',\n",
       "    'American{name: American} -[relationship:{relationship: Operated}]-> Itineraries{name: Itineraries} -[relationship:{relationship: Are}]-> Marketed and operated by american airlines{name: Marketed and operated by american airlines}',\n",
       "    'American{name: American} -[relationship:{relationship: Operated}]-> Itineraries{name: Itineraries} <-[relationship:{relationship: Markets and operates}]- American airlines{name: American airlines}',\n",
       "    'American{name: American} -[relationship:{relationship: Marketed and operated}]-> Itineraries{name: Itineraries} <-[relationship:{relationship: Marketed}]- American{name: American}',\n",
       "    'American{name: American} -[relationship:{relationship: Operated}]-> Itineraries{name: Itineraries} <-[relationship:{relationship: Marketed}]- American{name: American}',\n",
       "    'American{name: American} -[relationship:{relationship: Operated}]-> Itineraries{name: Itineraries} <-[relationship:{relationship: Marketed and operated}]- American{name: American}',\n",
       "    'American{name: American} -[relationship:{relationship: Operated}]-> Itineraries{name: Itineraries} <-[relationship:{relationship: Operate}]- American airlines{name: American airlines}',\n",
       "    'American{name: American} -[relationship:{relationship: Open}]-> App{name: App} -[relationship:{relationship: Is}]-> Mobile{name: Mobile}',\n",
       "    'American{name: American} -[relationship:{relationship: Open}]-> App{name: App} -[relationship:{relationship: Is}]-> American{name: American}',\n",
       "    'American{name: American} -[relationship:{relationship: Open}]-> App{name: App} -[relationship:{relationship: View}]-> Trip changes{name: Trip changes}',\n",
       "    'American{name: American} -[relationship:{relationship: Open}]-> App{name: App} -[relationship:{relationship: Choose}]-> Flight{name: Flight}',\n",
       "    \"American{name: American} -[relationship:{relationship: Open}]-> App{name: App} <-[relationship:{relationship: Don't have}]- App{name: App}\",\n",
       "    'American{name: American} <-[relationship:{relationship: Is}]- App{name: App}',\n",
       "    'American{name: American} -[relationship:{relationship: Operated}]-> Itineraries{name: Itineraries}',\n",
       "    'American{name: American} -[relationship:{relationship: Open}]-> App{name: App}',\n",
       "    'Lithium{name: Lithium} <-[relationship:{relationship: Containing}]- Devices{name: Devices} -[relationship:{relationship: Are not intended for}]-> Personal use{name: Personal use}',\n",
       "    'Lithium{name: Lithium} <-[relationship:{relationship: Containing}]- Devices{name: Devices} -[relationship:{relationship: Spares for}]-> Personal use{name: Personal use}',\n",
       "    'Lithium{name: Lithium} <-[relationship:{relationship: Containing}]- Devices{name: Devices} -[relationship:{relationship: Spares for}]-> Intended{name: Intended}',\n",
       "    'Lithium{name: Lithium} <-[relationship:{relationship: Containing}]- Devices{name: Devices} -[relationship:{relationship: Are}]-> Intended for personal use{name: Intended for personal use}',\n",
       "    'Lithium{name: Lithium} <-[relationship:{relationship: Containing}]- Devices{name: Devices} -[relationship:{relationship: Containing}]-> Spares{name: Spares}',\n",
       "    'Lithium{name: Lithium} <-[relationship:{relationship: Containing}]- Devices{name: Devices} -[relationship:{relationship: Containing}]-> Cells or batteries{name: Cells or batteries}',\n",
       "    'Lithium{name: Lithium} <-[relationship:{relationship: Containing}]- Devices{name: Devices} -[relationship:{relationship: Containing}]-> Cells{name: Cells}'],\n",
       "   'kg_schema': {'schema': \"Node properties: [{'tag': 'entity', 'properties': [('name', 'string')]}]\\nEdge properties: [{'edge': 'relationship', 'properties': [('relationship', 'string')]}]\\nRelationships: ['(:entity)-[:relationship]->(:entity)']\\n\"}},\n",
       "  'excluded_embed_metadata_keys': ['kg_rel_map', 'kg_rel_text', 'kg_schema'],\n",
       "  'excluded_llm_metadata_keys': ['kg_rel_map', 'kg_rel_text', 'kg_schema'],\n",
       "  'relationships': {},\n",
       "  'text': \"The following are knowledge sequence in max depth 2 in the form of directed graph like:\\n`subject -[predicate]->, object, <-[predicate_next_hop]-, object_next_hop ...` extracted based on key entities as subject:\\nAmerican{name: American} <-[relationship:{relationship: Is}]- App{name: App} -[relationship:{relationship: Is}]-> Mobile{name: Mobile}\\nAmerican{name: American} <-[relationship:{relationship: Is}]- App{name: App} -[relationship:{relationship: Choose}]-> Flight{name: Flight}\\nAmerican{name: American} <-[relationship:{relationship: Is}]- App{name: App} <-[relationship:{relationship: Check-in}]- Bags{name: Bags}\\nAmerican{name: American} <-[relationship:{relationship: Is}]- App{name: App} <-[relationship:{relationship: Don't have}]- App{name: App}\\nAmerican{name: American} -[relationship:{relationship: Marketed}]-> Itineraries{name: Itineraries} <-[relationship:{relationship: Markets and operates}]- American airlines{name: American airlines}\\nAmerican{name: American} -[relationship:{relationship: Marketed}]-> Itineraries{name: Itineraries} <-[relationship:{relationship: Marketed and operated}]- American{name: American}\\nAmerican{name: American} -[relationship:{relationship: Marketed}]-> Itineraries{name: Itineraries} <-[relationship:{relationship: Operated}]- American{name: American}\\nAmerican{name: American} -[relationship:{relationship: Marketed and operated}]-> Itineraries{name: Itineraries} <-[relationship:{relationship: On}]- Traveling{name: Traveling}\\nAmerican{name: American} -[relationship:{relationship: Marketed and operated}]-> Itineraries{name: Itineraries} <-[relationship:{relationship: Operate}]- American airlines{name: American airlines}\\nAmerican{name: American} -[relationship:{relationship: Operated}]-> Itineraries{name: Itineraries} -[relationship:{relationship: Are}]-> Marketed and operated by american airlines{name: Marketed and operated by american airlines}\\nAmerican{name: American} -[relationship:{relationship: Operated}]-> Itineraries{name: Itineraries} <-[relationship:{relationship: Markets and operates}]- American airlines{name: American airlines}\\nAmerican{name: American} -[relationship:{relationship: Marketed and operated}]-> Itineraries{name: Itineraries} <-[relationship:{relationship: Marketed}]- American{name: American}\\nAmerican{name: American} -[relationship:{relationship: Operated}]-> Itineraries{name: Itineraries} <-[relationship:{relationship: Marketed}]- American{name: American}\\nAmerican{name: American} -[relationship:{relationship: Operated}]-> Itineraries{name: Itineraries} <-[relationship:{relationship: Marketed and operated}]- American{name: American}\\nAmerican{name: American} -[relationship:{relationship: Operated}]-> Itineraries{name: Itineraries} <-[relationship:{relationship: Operate}]- American airlines{name: American airlines}\\nAmerican{name: American} -[relationship:{relationship: Open}]-> App{name: App} -[relationship:{relationship: Is}]-> Mobile{name: Mobile}\\nAmerican{name: American} -[relationship:{relationship: Open}]-> App{name: App} -[relationship:{relationship: Is}]-> American{name: American}\\nAmerican{name: American} -[relationship:{relationship: Open}]-> App{name: App} -[relationship:{relationship: View}]-> Trip changes{name: Trip changes}\\nAmerican{name: American} -[relationship:{relationship: Open}]-> App{name: App} -[relationship:{relationship: Choose}]-> Flight{name: Flight}\\nAmerican{name: American} -[relationship:{relationship: Open}]-> App{name: App} <-[relationship:{relationship: Don't have}]- App{name: App}\\nAmerican{name: American} <-[relationship:{relationship: Is}]- App{name: App}\\nAmerican{name: American} -[relationship:{relationship: Operated}]-> Itineraries{name: Itineraries}\\nAmerican{name: American} -[relationship:{relationship: Open}]-> App{name: App}\\nLithium{name: Lithium} <-[relationship:{relationship: Containing}]- Devices{name: Devices} -[relationship:{relationship: Are not intended for}]-> Personal use{name: Personal use}\\nLithium{name: Lithium} <-[relationship:{relationship: Containing}]- Devices{name: Devices} -[relationship:{relationship: Spares for}]-> Personal use{name: Personal use}\\nLithium{name: Lithium} <-[relationship:{relationship: Containing}]- Devices{name: Devices} -[relationship:{relationship: Spares for}]-> Intended{name: Intended}\\nLithium{name: Lithium} <-[relationship:{relationship: Containing}]- Devices{name: Devices} -[relationship:{relationship: Are}]-> Intended for personal use{name: Intended for personal use}\\nLithium{name: Lithium} <-[relationship:{relationship: Containing}]- Devices{name: Devices} -[relationship:{relationship: Containing}]-> Spares{name: Spares}\\nLithium{name: Lithium} <-[relationship:{relationship: Containing}]- Devices{name: Devices} -[relationship:{relationship: Containing}]-> Cells or batteries{name: Cells or batteries}\\nLithium{name: Lithium} <-[relationship:{relationship: Containing}]- Devices{name: Devices} -[relationship:{relationship: Containing}]-> Cells{name: Cells}\",\n",
       "  'start_char_idx': None,\n",
       "  'end_char_idx': None,\n",
       "  'text_template': '{metadata_str}\\n\\n{content}',\n",
       "  'metadata_template': '{key}: {value}',\n",
       "  'metadata_seperator': '\\n',\n",
       "  'class_name': 'TextNode'},\n",
       " 'score': None,\n",
       " 'class_name': 'NodeWithScore'}"
      ]
     },
     "execution_count": 74,
     "metadata": {},
     "output_type": "execute_result"
    }
   ],
   "source": [
    "query.source_nodes[0].dict()"
   ]
  },
  {
   "cell_type": "code",
   "execution_count": 83,
   "metadata": {},
   "outputs": [],
   "source": [
    "# thanks! https://github.com/run-llama/llama_index/issues/11034\n",
    "from llama_index.core.query_engine import KnowledgeGraphQueryEngine\n",
    "from llama_index.legacy.query_engine.knowledge_graph_query_engine import DEFAULT_NEO4J_NL2CYPHER_PROMPT\n",
    "    \n",
    "nl2kg_query_engine = KnowledgeGraphQueryEngine(\n",
    "    storage_context=storage_context,\n",
    "    verbose=True,\n",
    "    refresh_schema=True,\n",
    "    graph_query_synthesis_prompt=DEFAULT_NEO4J_NL2CYPHER_PROMPT,\n",
    "    llm=llm,\n",
    ")"
   ]
  },
  {
   "cell_type": "code",
   "execution_count": 87,
   "metadata": {},
   "outputs": [
    {
     "name": "stdout",
     "output_type": "stream",
     "text": [
      "\u001b[1;3;33mGraph Store Query:\n",
      "MATCH (e1:entity {name: \"Lithium batteries\"})-[:relationship {relationship: \"allowed in\"}]->(e2:entity {name: \"carry-on\"}) RETURN e1, e2\n",
      "\u001b[0m\u001b[1;3;33mGraph Store Response:\n",
      "{'e1': [], 'e2': []}\n",
      "\u001b[0m\u001b[1;3;32mFinal Response: The information available does not specify whether lithium batteries are allowed in carry-on luggage.\n",
      "\u001b[0mThe Cypher Query is:\n"
     ]
    },
    {
     "data": {
      "text/markdown": [
       "\n",
       "```cypher\n",
       "```cypher\n",
       "MATCH (e1:entity {name: \"Lithium batteries\"})-[:relationship {relationship: \"allowed in\"}]->(e2:entity {name: \"carry-on\"})\n",
       "RETURN e1, e2\n",
       "```\n",
       "```\n"
      ],
      "text/plain": [
       "<IPython.core.display.Markdown object>"
      ]
     },
     "metadata": {},
     "output_type": "display_data"
    },
    {
     "name": "stdout",
     "output_type": "stream",
     "text": [
      "[ERROR]:\n",
      " Query Failed:\n",
      " SyntaxError: syntax error near ```cypher'\n",
      "The Answer is:\n"
     ]
    },
    {
     "data": {
      "text/markdown": [
       "<b>The information available does not specify whether lithium batteries are allowed in carry-on luggage.</b>"
      ],
      "text/plain": [
       "<IPython.core.display.Markdown object>"
      ]
     },
     "metadata": {},
     "output_type": "display_data"
    }
   ],
   "source": [
    "question = \"Are Lithium batteries allowed in my carry-on?\"\n",
    "\n",
    "response_nl2kg = nl2kg_query_engine.query(question)\n",
    "\n",
    "# Cypher:\n",
    "print(\"The Cypher Query is:\")\n",
    "query_string = nl2kg_query_engine.generate_query(question)\n",
    "display(\n",
    "    Markdown(\n",
    "        f\"\"\"\n",
    "```cypher\n",
    "{query_string}\n",
    "```\n",
    "\"\"\"\n",
    "    )\n",
    ")\n",
    "\n",
    "%ngql {query_string}\n",
    "\n",
    "# Answer:\n",
    "print(\"The Answer is:\")\n",
    "display(Markdown(f\"<b>{response_nl2kg}</b>\"))"
   ]
  },
  {
   "cell_type": "code",
   "execution_count": null,
   "metadata": {},
   "outputs": [],
   "source": [
    "question = \"I'm flying American Airlines. Are Lithium batteries allowed in my carry-on?\"\n",
    "\n",
    "response_nl2kg = nl2kg_query_engine.query(question)\n",
    "\n",
    "# Cypher:\n",
    "print(\"The Cypher Query is:\")\n",
    "query_string = nl2kg_query_engine.generate_query(question)\n",
    "display(\n",
    "    Markdown(\n",
    "        f\"\"\"\n",
    "```cypher\n",
    "{query_string}\n",
    "```\n",
    "\"\"\"\n",
    "    )\n",
    ")\n",
    "\n",
    "%ngql {query_string}\n",
    "\n",
    "# Answer:\n",
    "print(\"The Answer is:\")\n",
    "display(Markdown(f\"<b>{response_nl2kg}</b>\"))"
   ]
  },
  {
   "cell_type": "code",
   "execution_count": 95,
   "metadata": {},
   "outputs": [],
   "source": [
    "query_engine = RetrieverQueryEngine.from_args(\n",
    "    graph_rag_retriever,\n",
    "    # response_mode=\"tree_summarize\",\n",
    "    verbose=True,\n",
    ")"
   ]
  },
  {
   "cell_type": "code",
   "execution_count": 96,
   "metadata": {},
   "outputs": [
    {
     "data": {
      "text/markdown": [
       "<b>Yes, Lithium batteries are allowed in carry-on bags when flying American Airlines.</b>"
      ],
      "text/plain": [
       "<IPython.core.display.Markdown object>"
      ]
     },
     "metadata": {},
     "output_type": "display_data"
    }
   ],
   "source": [
    "question = \"I'm flying American Airlines. Are Lithium batteries allowed in my carry-on?\"\n",
    "response = query_engine.query(question)\n",
    "display(Markdown(f\"<b>{response}</b>\"))"
   ]
  },
  {
   "cell_type": "code",
   "execution_count": 97,
   "metadata": {},
   "outputs": [],
   "source": [
    "graph_rag_retriever_with_nl2graphquery = KnowledgeGraphRAGRetriever(\n",
    "    storage_context=storage_context,\n",
    "    llm=llm,\n",
    "    verbose=True,\n",
    "    with_nl2graphquery=True,\n",
    ")\n",
    "\n",
    "query_engine_with_nl2graphquery = RetrieverQueryEngine.from_args(\n",
    "    graph_rag_retriever_with_nl2graphquery,\n",
    ")"
   ]
  },
  {
   "cell_type": "code",
   "execution_count": 98,
   "metadata": {},
   "outputs": [
    {
     "data": {
      "text/markdown": [
       "<b>Lithium batteries are a type of battery that is intended for personal use and is commonly found in various devices such as laptops. They are also known to be individually protected and are often safely packaged in carry-on bags. Additionally, lithium batteries have different variations like lithium-ion, lithium polymer, and lithium iron phosphate batteries.</b>"
      ],
      "text/plain": [
       "<IPython.core.display.Markdown object>"
      ]
     },
     "metadata": {},
     "output_type": "display_data"
    }
   ],
   "source": [
    "response = query_engine_with_nl2graphquery.query(\"Tell me about Lithium batteries\")\n",
    "\n",
    "display(Markdown(f\"<b>{response}</b>\"))"
   ]
  },
  {
   "cell_type": "code",
   "execution_count": 99,
   "metadata": {},
   "outputs": [
    {
     "data": {
      "text/plain": [
       "{'f3abcb05-31cd-4fe2-a0f1-be22eab6b675': {'kg_rel_map': {'Lithium{name: Lithium}': ['Lithium{name: Lithium} <-[relationship:{relationship: Containing}]- Devices{name: Devices} -[relationship:{relationship: Are not intended for}]-> Personal use{name: Personal use}',\n",
       "    'Lithium{name: Lithium} <-[relationship:{relationship: Contain}]- Cells{name: Cells} -[relationship:{relationship: Are intended for}]-> Personal use{name: Personal use}',\n",
       "    'Lithium{name: Lithium} <-[relationship:{relationship: Containing}]- Devices{name: Devices} -[relationship:{relationship: Containing}]-> Cells{name: Cells}',\n",
       "    'Lithium{name: Lithium} -[relationship:{relationship: Is type of}]-> Battery{name: Battery} -[relationship:{relationship: Is}]-> Protected{name: Protected}',\n",
       "    'Lithium{name: Lithium} -[relationship:{relationship: Is type of}]-> Battery{name: Battery} -[relationship:{relationship: Is}]-> Lithium battery acceptance policy{name: Lithium battery acceptance policy}',\n",
       "    'Lithium{name: Lithium} <-[relationship:{relationship: Contain}]- Cells{name: Cells}',\n",
       "    'Lithium{name: Lithium} <-[relationship:{relationship: Containing}]- Devices{name: Devices} -[relationship:{relationship: Are safely packaged in}]-> Carry-on only bags{name: Carry-on only bags}',\n",
       "    'Lithium{name: Lithium} -[relationship:{relationship: Is type of}]-> Battery{name: Battery} <-[relationship:{relationship: Is type of}]- Zinc air{name: Zinc air}',\n",
       "    'Lithium{name: Lithium} -[relationship:{relationship: Is type of}]-> Battery{name: Battery} <-[relationship:{relationship: Is type of}]- Nickel-metal hydride{name: Nickel-metal hydride}',\n",
       "    'Lithium{name: Lithium} -[relationship:{relationship: Is type of}]-> Battery{name: Battery} <-[relationship:{relationship: Is type of}]- Carbon zinc{name: Carbon zinc}',\n",
       "    'Lithium{name: Lithium} -[relationship:{relationship: Is type of}]-> Battery{name: Battery} <-[relationship:{relationship: Is type of}]- Aa{name: Aa}',\n",
       "    'Lithium{name: Lithium} -[relationship:{relationship: Is type of}]-> Battery{name: Battery}',\n",
       "    'Lithium{name: Lithium} <-[relationship:{relationship: Containing}]- Devices{name: Devices}',\n",
       "    'Lithium{name: Lithium} -[relationship:{relationship: Is type of}]-> Battery{name: Battery} <-[relationship:{relationship: Is type of}]- 9-volt{name: 9-volt}',\n",
       "    'Lithium{name: Lithium} <-[relationship:{relationship: Containing}]- Devices{name: Devices} <-[relationship:{relationship: Remove from}]- Batteries{name: Batteries}',\n",
       "    'Lithium{name: Lithium} -[relationship:{relationship: Is type of}]-> Battery{name: Battery} -[relationship:{relationship: Is in}]-> Carry-on bag{name: Carry-on bag}',\n",
       "    'Lithium{name: Lithium} <-[relationship:{relationship: Containing}]- Devices{name: Devices} <-[relationship:{relationship: Should remove from}]- Batteries{name: Batteries}',\n",
       "    'Lithium{name: Lithium} -[relationship:{relationship: Is type of}]-> Battery{name: Battery} -[relationship:{relationship: Is}]-> Individually protected{name: Individually protected}',\n",
       "    'Lithium{name: Lithium} -[relationship:{relationship: Is type of}]-> Battery{name: Battery} <-[relationship:{relationship: Is type of}]- C{name: C}',\n",
       "    'Lithium{name: Lithium} -[relationship:{relationship: Is type of}]-> Battery{name: Battery} <-[relationship:{relationship: Is type of}]- D{name: D}',\n",
       "    'Lithium{name: Lithium} <-[relationship:{relationship: Containing}]- Devices{name: Devices} -[relationship:{relationship: Not intended for}]-> Personal use{name: Personal use}',\n",
       "    'Lithium{name: Lithium} <-[relationship:{relationship: Containing}]- Devices{name: Devices} -[relationship:{relationship: Are safely packaged in}]-> Carry-on bag{name: Carry-on bag}',\n",
       "    'Lithium{name: Lithium} -[relationship:{relationship: Is type of}]-> Battery{name: Battery} <-[relationship:{relationship: Is type of}]- Aaa{name: Aaa}',\n",
       "    'Lithium{name: Lithium} -[relationship:{relationship: Is type of}]-> Battery{name: Battery} <-[relationship:{relationship: Is type of}]- Alkaline{name: Alkaline}',\n",
       "    'Lithium{name: Lithium} -[relationship:{relationship: Is type of}]-> Battery{name: Battery} <-[relationship:{relationship: Is type of}]- Silver oxide{name: Silver oxide}',\n",
       "    'Lithium{name: Lithium} <-[relationship:{relationship: Containing}]- Devices{name: Devices} -[relationship:{relationship: Put in}]-> Carry-on{name: Carry-on}',\n",
       "    'Lithium{name: Lithium} <-[relationship:{relationship: Containing}]- Devices{name: Devices} -[relationship:{relationship: Intended for}]-> Personal use{name: Personal use}',\n",
       "    'Lithium{name: Lithium} -[relationship:{relationship: Is type of}]-> Battery{name: Battery} <-[relationship:{relationship: Is type of}]- Nickel-cadmium{name: Nickel-cadmium}',\n",
       "    'Lithium{name: Lithium} <-[relationship:{relationship: Containing}]- Devices{name: Devices} <-[relationship:{relationship: Must be removed from}]- Batteries{name: Batteries}',\n",
       "    'Lithium{name: Lithium} <-[relationship:{relationship: Containing}]- Devices{name: Devices} -[relationship:{relationship: Include}]-> Laptop computer{name: Laptop computer}']},\n",
       "  'kg_rel_text': ['Lithium{name: Lithium} <-[relationship:{relationship: Containing}]- Devices{name: Devices} -[relationship:{relationship: Are not intended for}]-> Personal use{name: Personal use}',\n",
       "   'Lithium{name: Lithium} <-[relationship:{relationship: Contain}]- Cells{name: Cells} -[relationship:{relationship: Are intended for}]-> Personal use{name: Personal use}',\n",
       "   'Lithium{name: Lithium} <-[relationship:{relationship: Containing}]- Devices{name: Devices} -[relationship:{relationship: Containing}]-> Cells{name: Cells}',\n",
       "   'Lithium{name: Lithium} -[relationship:{relationship: Is type of}]-> Battery{name: Battery} -[relationship:{relationship: Is}]-> Protected{name: Protected}',\n",
       "   'Lithium{name: Lithium} -[relationship:{relationship: Is type of}]-> Battery{name: Battery} -[relationship:{relationship: Is}]-> Lithium battery acceptance policy{name: Lithium battery acceptance policy}',\n",
       "   'Lithium{name: Lithium} <-[relationship:{relationship: Contain}]- Cells{name: Cells}',\n",
       "   'Lithium{name: Lithium} <-[relationship:{relationship: Containing}]- Devices{name: Devices} -[relationship:{relationship: Are safely packaged in}]-> Carry-on only bags{name: Carry-on only bags}',\n",
       "   'Lithium{name: Lithium} -[relationship:{relationship: Is type of}]-> Battery{name: Battery} <-[relationship:{relationship: Is type of}]- Zinc air{name: Zinc air}',\n",
       "   'Lithium{name: Lithium} -[relationship:{relationship: Is type of}]-> Battery{name: Battery} <-[relationship:{relationship: Is type of}]- Nickel-metal hydride{name: Nickel-metal hydride}',\n",
       "   'Lithium{name: Lithium} -[relationship:{relationship: Is type of}]-> Battery{name: Battery} <-[relationship:{relationship: Is type of}]- Carbon zinc{name: Carbon zinc}',\n",
       "   'Lithium{name: Lithium} -[relationship:{relationship: Is type of}]-> Battery{name: Battery} <-[relationship:{relationship: Is type of}]- Aa{name: Aa}',\n",
       "   'Lithium{name: Lithium} -[relationship:{relationship: Is type of}]-> Battery{name: Battery}',\n",
       "   'Lithium{name: Lithium} <-[relationship:{relationship: Containing}]- Devices{name: Devices}',\n",
       "   'Lithium{name: Lithium} -[relationship:{relationship: Is type of}]-> Battery{name: Battery} <-[relationship:{relationship: Is type of}]- 9-volt{name: 9-volt}',\n",
       "   'Lithium{name: Lithium} <-[relationship:{relationship: Containing}]- Devices{name: Devices} <-[relationship:{relationship: Remove from}]- Batteries{name: Batteries}',\n",
       "   'Lithium{name: Lithium} -[relationship:{relationship: Is type of}]-> Battery{name: Battery} -[relationship:{relationship: Is in}]-> Carry-on bag{name: Carry-on bag}',\n",
       "   'Lithium{name: Lithium} <-[relationship:{relationship: Containing}]- Devices{name: Devices} <-[relationship:{relationship: Should remove from}]- Batteries{name: Batteries}',\n",
       "   'Lithium{name: Lithium} -[relationship:{relationship: Is type of}]-> Battery{name: Battery} -[relationship:{relationship: Is}]-> Individually protected{name: Individually protected}',\n",
       "   'Lithium{name: Lithium} -[relationship:{relationship: Is type of}]-> Battery{name: Battery} <-[relationship:{relationship: Is type of}]- C{name: C}',\n",
       "   'Lithium{name: Lithium} -[relationship:{relationship: Is type of}]-> Battery{name: Battery} <-[relationship:{relationship: Is type of}]- D{name: D}',\n",
       "   'Lithium{name: Lithium} <-[relationship:{relationship: Containing}]- Devices{name: Devices} -[relationship:{relationship: Not intended for}]-> Personal use{name: Personal use}',\n",
       "   'Lithium{name: Lithium} <-[relationship:{relationship: Containing}]- Devices{name: Devices} -[relationship:{relationship: Are safely packaged in}]-> Carry-on bag{name: Carry-on bag}',\n",
       "   'Lithium{name: Lithium} -[relationship:{relationship: Is type of}]-> Battery{name: Battery} <-[relationship:{relationship: Is type of}]- Aaa{name: Aaa}',\n",
       "   'Lithium{name: Lithium} -[relationship:{relationship: Is type of}]-> Battery{name: Battery} <-[relationship:{relationship: Is type of}]- Alkaline{name: Alkaline}',\n",
       "   'Lithium{name: Lithium} -[relationship:{relationship: Is type of}]-> Battery{name: Battery} <-[relationship:{relationship: Is type of}]- Silver oxide{name: Silver oxide}',\n",
       "   'Lithium{name: Lithium} <-[relationship:{relationship: Containing}]- Devices{name: Devices} -[relationship:{relationship: Put in}]-> Carry-on{name: Carry-on}',\n",
       "   'Lithium{name: Lithium} <-[relationship:{relationship: Containing}]- Devices{name: Devices} -[relationship:{relationship: Intended for}]-> Personal use{name: Personal use}',\n",
       "   'Lithium{name: Lithium} -[relationship:{relationship: Is type of}]-> Battery{name: Battery} <-[relationship:{relationship: Is type of}]- Nickel-cadmium{name: Nickel-cadmium}',\n",
       "   'Lithium{name: Lithium} <-[relationship:{relationship: Containing}]- Devices{name: Devices} <-[relationship:{relationship: Must be removed from}]- Batteries{name: Batteries}',\n",
       "   'Lithium{name: Lithium} <-[relationship:{relationship: Containing}]- Devices{name: Devices} -[relationship:{relationship: Include}]-> Laptop computer{name: Laptop computer}'],\n",
       "  'kg_schema': {'schema': \"Node properties: [{'tag': 'entity', 'properties': [('name', 'string')]}]\\nEdge properties: [{'edge': 'relationship', 'properties': [('relationship', 'string')]}]\\nRelationships: ['(:entity)-[:relationship]->(:entity)']\\n\"}}}"
      ]
     },
     "execution_count": 99,
     "metadata": {},
     "output_type": "execute_result"
    }
   ],
   "source": [
    "response.metadata"
   ]
  },
  {
   "cell_type": "code",
   "execution_count": 103,
   "metadata": {},
   "outputs": [
    {
     "name": "stdout",
     "output_type": "stream",
     "text": [
      "WARNING:llama_index.core.indices.knowledge_graph.retrievers:Error in retrieving from nl2graphquery: 'NoneType' object has no attribute 'kwargs'\n",
      "INFO:httpx:HTTP Request: POST https://api.openai.com/v1/chat/completions \"HTTP/1.1 200 OK\"\n",
      "INFO:httpx:HTTP Request: POST https://api.openai.com/v1/chat/completions \"HTTP/1.1 200 OK\"\n",
      "INFO:httpx:HTTP Request: POST https://api.openai.com/v1/chat/completions \"HTTP/1.1 200 OK\"\n"
     ]
    },
    {
     "data": {
      "text/markdown": [
       "<b>American Airlines is marketed and operated by American. Itineraries are marketed and operated by American Airlines. American Airlines is also associated with Philz, which is involved in various processes like verification, resolution, reimbursement, and decision-making.</b>"
      ],
      "text/plain": [
       "<IPython.core.display.Markdown object>"
      ]
     },
     "metadata": {},
     "output_type": "display_data"
    }
   ],
   "source": [
    "response = query_engine_with_nl2graphquery.query(\"Tell me about American Airlines\")\n",
    "\n",
    "display(Markdown(f\"<b>{response}</b>\"))"
   ]
  },
  {
   "cell_type": "code",
   "execution_count": 101,
   "metadata": {},
   "outputs": [
    {
     "data": {
      "text/plain": [
       "{'74bb504c-a363-49c8-a950-5ea45c43ddbe': {'kg_rel_map': {'American{name: American}': ['American{name: American} <-[relationship:{relationship: Is}]- App{name: App} -[relationship:{relationship: Set up}]-> Push notifications{name: Push notifications}',\n",
       "    'American{name: American} <-[relationship:{relationship: Is}]- App{name: App} <-[relationship:{relationship: On}]- Check-in{name: Check-in}',\n",
       "    \"American{name: American} <-[relationship:{relationship: Is}]- App{name: App} <-[relationship:{relationship: Don't have}]- App{name: App}\",\n",
       "    'American{name: American} <-[relationship:{relationship: Is}]- App{name: App} <-[relationship:{relationship: Open}]- American{name: American}',\n",
       "    'American{name: American} -[relationship:{relationship: Marketed}]-> Itineraries{name: Itineraries} <-[relationship:{relationship: Markets and operates}]- American airlines{name: American airlines}',\n",
       "    'American{name: American} -[relationship:{relationship: Marketed}]-> Itineraries{name: Itineraries} <-[relationship:{relationship: Operated}]- American{name: American}',\n",
       "    'American{name: American} -[relationship:{relationship: Marketed and operated}]-> Itineraries{name: Itineraries} -[relationship:{relationship: Are}]-> Marketed and operated by american airlines{name: Marketed and operated by american airlines}',\n",
       "    'American{name: American} -[relationship:{relationship: Marketed and operated}]-> Itineraries{name: Itineraries} <-[relationship:{relationship: On}]- Traveling{name: Traveling}',\n",
       "    'American{name: American} -[relationship:{relationship: Marketed and operated}]-> Itineraries{name: Itineraries} <-[relationship:{relationship: Marketed}]- American{name: American}',\n",
       "    'American{name: American} -[relationship:{relationship: Operated}]-> Itineraries{name: Itineraries} <-[relationship:{relationship: Marketed and operated}]- American airlines{name: American airlines}',\n",
       "    'American{name: American} -[relationship:{relationship: Operated}]-> Itineraries{name: Itineraries} <-[relationship:{relationship: Operate}]- American airlines{name: American airlines}',\n",
       "    'American{name: American} -[relationship:{relationship: Open}]-> App{name: App} -[relationship:{relationship: View}]-> Trip changes{name: Trip changes}',\n",
       "    'American{name: American} -[relationship:{relationship: Open}]-> App{name: App} <-[relationship:{relationship: On}]- Check-in{name: Check-in}',\n",
       "    'American{name: American} -[relationship:{relationship: Open}]-> App{name: App} <-[relationship:{relationship: Is}]- Mobile{name: Mobile}',\n",
       "    'American{name: American} -[relationship:{relationship: Open}]-> App{name: App} <-[relationship:{relationship: Check-in on}]- Airline{name: Airline}',\n",
       "    'American{name: American} -[relationship:{relationship: Open}]-> App{name: App} <-[relationship:{relationship: Has}]- Aa{name: Aa}',\n",
       "    \"American{name: American} -[relationship:{relationship: Open}]-> App{name: App} <-[relationship:{relationship: Don't have}]- App{name: App}\",\n",
       "    'American{name: American} <-[relationship:{relationship: Is}]- App{name: App}',\n",
       "    'American{name: American} -[relationship:{relationship: Operated}]-> Itineraries{name: Itineraries}'],\n",
       "   'Airline{name: Airline}': ['Airline{name: Airline} <-[relationship:{relationship: Is type of}]- Cuba{name: Cuba} -[relationship:{relationship: Originating in}]-> Bag 4+{name: Bag 4+}',\n",
       "    'Airline{name: Airline} <-[relationship:{relationship: Is type of}]- Cuba{name: Cuba} -[relationship:{relationship: Originating in}]-> Bag 2{name: Bag 2}',\n",
       "    'Airline{name: Airline} <-[relationship:{relationship: Is type of}]- Cuba{name: Cuba} -[relationship:{relationship: Originating outside}]-> Bag 3{name: Bag 3}',\n",
       "    'Airline{name: Airline} <-[relationship:{relationship: Is type of}]- Cuba{name: Cuba} -[relationship:{relationship: Originating outside}]-> Bag 2{name: Bag 2}',\n",
       "    'Airline{name: Airline} <-[relationship:{relationship: Is type of}]- Cuba{name: Cuba} -[relationship:{relationship: Originating outside}]-> Bag 1{name: Bag 1}',\n",
       "    'Airline{name: Airline} <-[relationship:{relationship: Is type of}]- Cuba{name: Cuba} -[relationship:{relationship: Originating outside}]-> $35{name: $35}',\n",
       "    'Airline{name: Airline} <-[relationship:{relationship: Is type of}]- Cuba{name: Cuba} -[relationship:{relationship: Originating outside}]-> $200{name: $200}',\n",
       "    'Airline{name: Airline} <-[relationship:{relationship: Is type of}]- Cuba{name: Cuba} -[relationship:{relationship: Apply}]-> Upgrade{name: Upgrade}',\n",
       "    'Airline{name: Airline} <-[relationship:{relationship: Is type of}]- Cuba{name: Cuba} -[relationship:{relationship: Apply}]-> Travel dates{name: Travel dates}',\n",
       "    'Airline{name: Airline} <-[relationship:{relationship: Is type of}]- Cuba{name: Cuba} -[relationship:{relationship: Apply}]-> Each way{name: Each way}',\n",
       "    'Airline{name: Airline} <-[relationship:{relationship: Is type of}]- Cuba{name: Cuba} -[relationship:{relationship: Apply}]-> Base rates{name: Base rates}']},\n",
       "  'kg_rel_text': ['American{name: American} <-[relationship:{relationship: Is}]- App{name: App} -[relationship:{relationship: Set up}]-> Push notifications{name: Push notifications}',\n",
       "   'American{name: American} <-[relationship:{relationship: Is}]- App{name: App} <-[relationship:{relationship: On}]- Check-in{name: Check-in}',\n",
       "   \"American{name: American} <-[relationship:{relationship: Is}]- App{name: App} <-[relationship:{relationship: Don't have}]- App{name: App}\",\n",
       "   'American{name: American} <-[relationship:{relationship: Is}]- App{name: App} <-[relationship:{relationship: Open}]- American{name: American}',\n",
       "   'American{name: American} -[relationship:{relationship: Marketed}]-> Itineraries{name: Itineraries} <-[relationship:{relationship: Markets and operates}]- American airlines{name: American airlines}',\n",
       "   'American{name: American} -[relationship:{relationship: Marketed}]-> Itineraries{name: Itineraries} <-[relationship:{relationship: Operated}]- American{name: American}',\n",
       "   'American{name: American} -[relationship:{relationship: Marketed and operated}]-> Itineraries{name: Itineraries} -[relationship:{relationship: Are}]-> Marketed and operated by american airlines{name: Marketed and operated by american airlines}',\n",
       "   'American{name: American} -[relationship:{relationship: Marketed and operated}]-> Itineraries{name: Itineraries} <-[relationship:{relationship: On}]- Traveling{name: Traveling}',\n",
       "   'American{name: American} -[relationship:{relationship: Marketed and operated}]-> Itineraries{name: Itineraries} <-[relationship:{relationship: Marketed}]- American{name: American}',\n",
       "   'American{name: American} -[relationship:{relationship: Operated}]-> Itineraries{name: Itineraries} <-[relationship:{relationship: Marketed and operated}]- American airlines{name: American airlines}',\n",
       "   'American{name: American} -[relationship:{relationship: Operated}]-> Itineraries{name: Itineraries} <-[relationship:{relationship: Operate}]- American airlines{name: American airlines}',\n",
       "   'American{name: American} -[relationship:{relationship: Open}]-> App{name: App} -[relationship:{relationship: View}]-> Trip changes{name: Trip changes}',\n",
       "   'American{name: American} -[relationship:{relationship: Open}]-> App{name: App} <-[relationship:{relationship: On}]- Check-in{name: Check-in}',\n",
       "   'American{name: American} -[relationship:{relationship: Open}]-> App{name: App} <-[relationship:{relationship: Is}]- Mobile{name: Mobile}',\n",
       "   'American{name: American} -[relationship:{relationship: Open}]-> App{name: App} <-[relationship:{relationship: Check-in on}]- Airline{name: Airline}',\n",
       "   'American{name: American} -[relationship:{relationship: Open}]-> App{name: App} <-[relationship:{relationship: Has}]- Aa{name: Aa}',\n",
       "   \"American{name: American} -[relationship:{relationship: Open}]-> App{name: App} <-[relationship:{relationship: Don't have}]- App{name: App}\",\n",
       "   'American{name: American} <-[relationship:{relationship: Is}]- App{name: App}',\n",
       "   'American{name: American} -[relationship:{relationship: Operated}]-> Itineraries{name: Itineraries}',\n",
       "   'Airline{name: Airline} <-[relationship:{relationship: Is type of}]- Cuba{name: Cuba} -[relationship:{relationship: Originating in}]-> Bag 4+{name: Bag 4+}',\n",
       "   'Airline{name: Airline} <-[relationship:{relationship: Is type of}]- Cuba{name: Cuba} -[relationship:{relationship: Originating in}]-> Bag 2{name: Bag 2}',\n",
       "   'Airline{name: Airline} <-[relationship:{relationship: Is type of}]- Cuba{name: Cuba} -[relationship:{relationship: Originating outside}]-> Bag 3{name: Bag 3}',\n",
       "   'Airline{name: Airline} <-[relationship:{relationship: Is type of}]- Cuba{name: Cuba} -[relationship:{relationship: Originating outside}]-> Bag 2{name: Bag 2}',\n",
       "   'Airline{name: Airline} <-[relationship:{relationship: Is type of}]- Cuba{name: Cuba} -[relationship:{relationship: Originating outside}]-> Bag 1{name: Bag 1}',\n",
       "   'Airline{name: Airline} <-[relationship:{relationship: Is type of}]- Cuba{name: Cuba} -[relationship:{relationship: Originating outside}]-> $35{name: $35}',\n",
       "   'Airline{name: Airline} <-[relationship:{relationship: Is type of}]- Cuba{name: Cuba} -[relationship:{relationship: Originating outside}]-> $200{name: $200}',\n",
       "   'Airline{name: Airline} <-[relationship:{relationship: Is type of}]- Cuba{name: Cuba} -[relationship:{relationship: Apply}]-> Upgrade{name: Upgrade}',\n",
       "   'Airline{name: Airline} <-[relationship:{relationship: Is type of}]- Cuba{name: Cuba} -[relationship:{relationship: Apply}]-> Travel dates{name: Travel dates}',\n",
       "   'Airline{name: Airline} <-[relationship:{relationship: Is type of}]- Cuba{name: Cuba} -[relationship:{relationship: Apply}]-> Each way{name: Each way}',\n",
       "   'Airline{name: Airline} <-[relationship:{relationship: Is type of}]- Cuba{name: Cuba} -[relationship:{relationship: Apply}]-> Base rates{name: Base rates}'],\n",
       "  'kg_schema': {'schema': \"Node properties: [{'tag': 'entity', 'properties': [('name', 'string')]}]\\nEdge properties: [{'edge': 'relationship', 'properties': [('relationship', 'string')]}]\\nRelationships: ['(:entity)-[:relationship]->(:entity)']\\n\"}}}"
      ]
     },
     "execution_count": 101,
     "metadata": {},
     "output_type": "execute_result"
    }
   ],
   "source": [
    "response.metadata"
   ]
  },
  {
   "cell_type": "code",
   "execution_count": 111,
   "metadata": {},
   "outputs": [
    {
     "name": "stdout",
     "output_type": "stream",
     "text": [
      "WARNING:llama_index.core.indices.knowledge_graph.retrievers:Error in retrieving from nl2graphquery: 'NoneType' object has no attribute 'kwargs'\n",
      "INFO:httpx:HTTP Request: POST https://api.openai.com/v1/chat/completions \"HTTP/1.1 200 OK\"\n",
      "INFO:httpx:HTTP Request: POST https://api.openai.com/v1/chat/completions \"HTTP/1.1 200 OK\"\n",
      "INFO:llama_index.core.indices.knowledge_graph.retrievers:> No knowledge sequence extracted from entities.\n",
      "INFO:llama_index.core.indices.knowledge_graph.retrievers:> No knowledge sequence extracted from entities.\n"
     ]
    },
    {
     "data": {
      "text/markdown": [
       "<b>Empty Response</b>"
      ],
      "text/plain": [
       "<IPython.core.display.Markdown object>"
      ]
     },
     "metadata": {},
     "output_type": "display_data"
    }
   ],
   "source": [
    "response = query_engine_with_nl2graphquery.query(\"Can my carry-on be musical instruments?\")\n",
    "\n",
    "display(Markdown(f\"<b>{response}</b>\"))"
   ]
  },
  {
   "cell_type": "code",
   "execution_count": 112,
   "metadata": {},
   "outputs": [
    {
     "name": "stdout",
     "output_type": "stream",
     "text": [
      "INFO:httpx:HTTP Request: POST https://api.openai.com/v1/chat/completions \"HTTP/1.1 200 OK\"\n",
      "INFO:httpx:HTTP Request: POST https://api.openai.com/v1/chat/completions \"HTTP/1.1 200 OK\"\n",
      "INFO:llama_index.core.indices.knowledge_graph.retrievers:> No knowledge sequence extracted from entities.\n",
      "INFO:llama_index.core.indices.knowledge_graph.retrievers:> No knowledge sequence extracted from entities.\n"
     ]
    },
    {
     "data": {
      "text/markdown": [
       "<b>Empty Response</b>"
      ],
      "text/plain": [
       "<IPython.core.display.Markdown object>"
      ]
     },
     "metadata": {},
     "output_type": "display_data"
    }
   ],
   "source": [
    "response = query_engine.query(\"Can my carry-on be musical instruments?\")\n",
    "\n",
    "display(Markdown(f\"<b>{response}</b>\"))"
   ]
  },
  {
   "cell_type": "code",
   "execution_count": null,
   "metadata": {},
   "outputs": [],
   "source": [
    "response = query_engine.query(\"Tell me about American Airlines?\")\n",
    "display(Markdown(f\"<b>{response}</b>\"))"
   ]
  }
 ],
 "metadata": {
  "kernelspec": {
   "display_name": "nlp_airline_project-fCxuAmfF",
   "language": "python",
   "name": "python3"
  },
  "language_info": {
   "codemirror_mode": {
    "name": "ipython",
    "version": 3
   },
   "file_extension": ".py",
   "mimetype": "text/x-python",
   "name": "python",
   "nbconvert_exporter": "python",
   "pygments_lexer": "ipython3",
   "version": "3.11.2"
  }
 },
 "nbformat": 4,
 "nbformat_minor": 2
}
