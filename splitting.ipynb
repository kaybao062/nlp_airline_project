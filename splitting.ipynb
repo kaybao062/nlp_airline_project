{
 "cells": [
  {
   "cell_type": "markdown",
   "metadata": {},
   "source": [
    "# Split/Chunk text\n",
    "markdown splitter\n",
    "smaller chunks\n",
    "semantic chunking"
   ]
  },
  {
   "cell_type": "code",
   "execution_count": 231,
   "metadata": {},
   "outputs": [],
   "source": [
    "# !pip install -qU langchain-text-splitters"
   ]
  },
  {
   "cell_type": "code",
   "execution_count": 232,
   "metadata": {},
   "outputs": [],
   "source": [
    "from langchain_text_splitters import HTMLHeaderTextSplitter\n",
    "import pandas as pd\n",
    "from bs4 import BeautifulSoup\n",
    "import os\n",
    "import re"
   ]
  },
  {
   "cell_type": "markdown",
   "metadata": {},
   "source": [
    "#### Load the files"
   ]
  },
  {
   "cell_type": "code",
   "execution_count": 233,
   "metadata": {},
   "outputs": [],
   "source": [
    "def load_files(path):\n",
    "    file_list = os.listdir(path)\n",
    "    new_list = [] # a list to store each airline\n",
    "    pattern = r'scraped_(.+)\\.txt'\n",
    "    filenames = []\n",
    "    for file in file_list:\n",
    "        filename = re.search(pattern, file).group(1)\n",
    "        filenames.append(filename)\n",
    "        with open(f\"scraped/scraped_{filename}.txt\") as f:\n",
    "            file = f.read().split('|,|,|\\n|') # split to each page\n",
    "            file.remove('')\n",
    "            string_list = [] # a list to store each airline XPATHS\n",
    "            for string in file:\n",
    "                str_xpath = string.split('\\t|')\n",
    "                string_list.extend(str_xpath)\n",
    "            new_list.append(string_list)\n",
    "\n",
    "    file_dict = {index: value for index, value in enumerate(filenames)}\n",
    "\n",
    "    return new_list, file_dict\n"
   ]
  },
  {
   "cell_type": "code",
   "execution_count": 234,
   "metadata": {},
   "outputs": [],
   "source": [
    "file_list, file_dict = load_files('scraped')"
   ]
  },
  {
   "cell_type": "markdown",
   "metadata": {},
   "source": [
    "#### Clean, Split each file by headers, and transform to table"
   ]
  },
  {
   "cell_type": "code",
   "execution_count": 235,
   "metadata": {},
   "outputs": [],
   "source": [
    "def parse_html(list):\n",
    "    '''\n",
    "    Input: a list of strings, each string is an XPATH with class and div\n",
    "    Output: a list of strings, each string is an XPATH without class and div\n",
    "    '''\n",
    "    clean_text = []\n",
    "    for string in list:\n",
    "        # Parse the HTML string\n",
    "        soup = BeautifulSoup(string, 'html.parser')\n",
    "\n",
    "        # find table and transform it to string\n",
    "        table = soup.find('table')\n",
    "        if table != None: \n",
    "        \n",
    "            table_text = \"\"\n",
    "            for row in soup.find_all('tr'):\n",
    "                for cell in row.find_all(['th', 'td']):\n",
    "                    table_text += cell.get_text() + \" \"\n",
    "                table_text += \"\\n\"\n",
    "                \n",
    "            table_text = '<p>' + table_text + '</p>'\n",
    "            \n",
    "\n",
    "            # Find the position of the table in the soup\n",
    "            position = 1\n",
    "\n",
    "            for element in soup.descendants:\n",
    "                if element == table:\n",
    "                    break\n",
    "                position += 1\n",
    "\n",
    "\n",
    "            # Drop the table element from the soup\n",
    "            table.extract()\n",
    "\n",
    "            # turn soup to a list of descendent\n",
    "            descendants_list = [str(descendant) for descendant in soup.descendants]\n",
    "            # add new table to the original position\n",
    "            descendants_list.insert(position, table_text)\n",
    "            # join the list back a string\n",
    "            joined_string = ''.join(descendants_list)\n",
    "            # parse it as a soup for further processing\n",
    "            soup_new = BeautifulSoup(joined_string, 'html.parser')\n",
    "            soup_new = soup\n",
    "\n",
    "        else: \n",
    "            soup_new = soup\n",
    "\n",
    "        # cleaned string\n",
    "        cleaned_content = \"\"\n",
    "        for content in soup_new.find_all(True):\n",
    "            cleaned_content += str(content)\n",
    "        clean_text.append(cleaned_content)\n",
    "                \n",
    "    return clean_text\n",
    "   "
   ]
  },
  {
   "cell_type": "code",
   "execution_count": 236,
   "metadata": {},
   "outputs": [],
   "source": [
    "# testing: it works for all but components[1]\n",
    "# parse_html(file_list[0])"
   ]
  },
  {
   "cell_type": "code",
   "execution_count": 237,
   "metadata": {},
   "outputs": [],
   "source": [
    "def split_header(list):\n",
    "    headers_to_split_on = [\n",
    "        (\"h1\", \"Header 1\"),\n",
    "        (\"h2\", \"Header 2\"),\n",
    "        (\"h3\", \"Header 3\"),\n",
    "        (\"h4\", \"Header 4\"),\n",
    "        (\"h5\", \"Header 5\")\n",
    "    ]\n",
    "\n",
    "    splitted_list = []\n",
    "    for string in list:\n",
    "        html_splitter = HTMLHeaderTextSplitter(headers_to_split_on=headers_to_split_on)\n",
    "        html_header_splits = html_splitter.split_text(string)\n",
    "        splitted_list.extend(html_header_splits)\n",
    "\n",
    "    return splitted_list"
   ]
  },
  {
   "cell_type": "code",
   "execution_count": 238,
   "metadata": {},
   "outputs": [],
   "source": [
    "# split_header(parse_html(file_list[0]))"
   ]
  },
  {
   "cell_type": "code",
   "execution_count": 239,
   "metadata": {},
   "outputs": [],
   "source": [
    "def to_table(list):\n",
    "    df = pd.DataFrame()\n",
    "    for string in list:\n",
    "        dict = string.metadata\n",
    "        dict['content'] = string.page_content\n",
    "        df_dict = pd.DataFrame([dict])\n",
    "        df = pd.concat([df, df_dict], ignore_index=True)\n",
    "    \n",
    "    return df"
   ]
  },
  {
   "cell_type": "code",
   "execution_count": 240,
   "metadata": {},
   "outputs": [],
   "source": [
    "# to_table(split_header(parse_html(file_list[0])))"
   ]
  },
  {
   "cell_type": "markdown",
   "metadata": {},
   "source": [
    "## Apply to all files and store the tables in a list for further processing"
   ]
  },
  {
   "cell_type": "code",
   "execution_count": 241,
   "metadata": {},
   "outputs": [
    {
     "data": {
      "text/plain": [
       "10"
      ]
     },
     "execution_count": 241,
     "metadata": {},
     "output_type": "execute_result"
    }
   ],
   "source": [
    "df_list = []\n",
    "for file in file_list:\n",
    "    # get index\n",
    "    index = file_list.index(file)\n",
    "    # processing\n",
    "    airline = parse_html(file) # parse all urls (XPATHs) for an airline\n",
    "    airline_split = split_header(airline) # to documents\n",
    "    df_airline = to_table(airline_split)\n",
    "\n",
    "    # adjust column order\n",
    "    for column in df_airline.columns:\n",
    "        if column == 'content':\n",
    "            content_column = df_airline.pop('content')  # Remove 'Content' column and store it\n",
    "            df_airline['content'] = content_column \n",
    "\n",
    "    # append airline name\n",
    "    df_airline['Airline'] = file_dict[index]\n",
    "\n",
    "    # append dataframe\n",
    "    df_list.append(df_airline)\n",
    "\n",
    "len(df_list)"
   ]
  },
  {
   "cell_type": "markdown",
   "metadata": {},
   "source": [
    "## File based adjustment\n",
    "1. Air France"
   ]
  },
  {
   "cell_type": "code",
   "execution_count": 242,
   "metadata": {},
   "outputs": [],
   "source": [
    "# df_list[0]"
   ]
  },
  {
   "cell_type": "code",
   "execution_count": 243,
   "metadata": {},
   "outputs": [],
   "source": [
    "df_list[0] = df_list[0].drop(df_list[0][~pd.isna(df_list[0]['Header 4'])].index) \n",
    "df_list[0] = df_list[0].drop(df_list[0][pd.isna(df_list[0]['Header 1'])].index) # drop rows that have values in header 4 since it's actually footer"
   ]
  },
  {
   "cell_type": "code",
   "execution_count": 244,
   "metadata": {},
   "outputs": [],
   "source": [
    "# df_list[0]['Header 1'].unique()"
   ]
  },
  {
   "cell_type": "markdown",
   "metadata": {},
   "source": [
    "2. Air Korean"
   ]
  },
  {
   "cell_type": "code",
   "execution_count": 245,
   "metadata": {},
   "outputs": [],
   "source": [
    "# df_list[1]"
   ]
  },
  {
   "cell_type": "code",
   "execution_count": 246,
   "metadata": {},
   "outputs": [],
   "source": [
    "df_list[1] = df_list[1].drop(df_list[1][(df_list[1]['Header 1'] == None)].index) \n",
    "df_list[1] = df_list[1].drop(df_list[1][df_list[1]['Header 2'].isin(['Go to SNS', 'Go to App'])].index) # clean checked bag"
   ]
  },
  {
   "cell_type": "code",
   "execution_count": 247,
   "metadata": {},
   "outputs": [],
   "source": [
    "# df_list[1]"
   ]
  },
  {
   "cell_type": "markdown",
   "metadata": {},
   "source": [
    "3. Air Singapore"
   ]
  },
  {
   "cell_type": "code",
   "execution_count": 248,
   "metadata": {},
   "outputs": [],
   "source": [
    "# df_list[2]"
   ]
  },
  {
   "cell_type": "markdown",
   "metadata": {},
   "source": [
    "4. Air Qatar"
   ]
  },
  {
   "cell_type": "code",
   "execution_count": 249,
   "metadata": {},
   "outputs": [],
   "source": [
    "# df_list[3]"
   ]
  },
  {
   "cell_type": "markdown",
   "metadata": {},
   "source": [
    "5. Air Turkish"
   ]
  },
  {
   "cell_type": "code",
   "execution_count": 250,
   "metadata": {},
   "outputs": [],
   "source": [
    "# df_list[4]"
   ]
  },
  {
   "cell_type": "code",
   "execution_count": 251,
   "metadata": {},
   "outputs": [],
   "source": [
    "# clean empty lines\n",
    "df_list[4] = df_list[4].drop(df_list[4][(pd.isna(df_list[4]['Header 1']) & pd.isna(df_list[4]['Header 2']) | (df_list[4]['Header 3'] == 'Checked baggage calculation tool'))].index) \n",
    "# refill header 1\n",
    "df_list[4].loc[(pd.isna(df_list[4]['Header 1'])) | (df_list[4]['Header 1'] == ''), 'Header 1'] = df_list[4].loc[(pd.isna(df_list[4]['Header 1'])) | (df_list[4]['Header 1'] == ''), 'Header 2']"
   ]
  },
  {
   "cell_type": "code",
   "execution_count": 252,
   "metadata": {},
   "outputs": [],
   "source": [
    "# df_list[4]['Header 1'].unique()"
   ]
  },
  {
   "cell_type": "markdown",
   "metadata": {},
   "source": [
    "6. Japan Airline"
   ]
  },
  {
   "cell_type": "code",
   "execution_count": 253,
   "metadata": {},
   "outputs": [],
   "source": [
    "# df_list[5]"
   ]
  },
  {
   "cell_type": "code",
   "execution_count": 254,
   "metadata": {},
   "outputs": [],
   "source": [
    "df_list[5] = df_list[5].drop(df_list[5][pd.isna(df_list[5]['Header 1'])].index)"
   ]
  },
  {
   "cell_type": "code",
   "execution_count": 255,
   "metadata": {},
   "outputs": [],
   "source": [
    "# df_list[5]['Header 1'].unique()"
   ]
  },
  {
   "cell_type": "markdown",
   "metadata": {},
   "source": [
    "7. Emirates"
   ]
  },
  {
   "cell_type": "code",
   "execution_count": 256,
   "metadata": {},
   "outputs": [],
   "source": [
    "# df_list[6]"
   ]
  },
  {
   "cell_type": "code",
   "execution_count": 257,
   "metadata": {},
   "outputs": [],
   "source": [
    "df_list[6] = df_list[6].drop(df_list[6][pd.isna(df_list[6]['Header 1']) | pd.isna(df_list[6]['Header 1']) & pd.isna(df_list[6]['Header 2']) & pd.isna(df_list[6]['Header 3'])].index)"
   ]
  },
  {
   "cell_type": "code",
   "execution_count": 258,
   "metadata": {},
   "outputs": [],
   "source": [
    "# df_list[6]['Header 1'].unique()"
   ]
  },
  {
   "cell_type": "markdown",
   "metadata": {},
   "source": [
    "8. EVA"
   ]
  },
  {
   "cell_type": "code",
   "execution_count": 259,
   "metadata": {},
   "outputs": [],
   "source": [
    "# df_list[7]"
   ]
  },
  {
   "cell_type": "code",
   "execution_count": 260,
   "metadata": {},
   "outputs": [],
   "source": [
    "df_list[7] = df_list[7].drop(df_list[7][pd.isna(df_list[7]['Header 1']) & pd.isna(df_list[7]['Header 2']) & pd.isna(df_list[7]['Header 3'])].index)\n",
    "df_list[7] = df_list[7].drop(df_list[7][pd.isna(df_list[7]['Header 2']) & pd.isna(df_list[7]['Header 3'])].index)"
   ]
  },
  {
   "cell_type": "code",
   "execution_count": 261,
   "metadata": {},
   "outputs": [],
   "source": [
    "# df_list[7]['Header 1'].unique()"
   ]
  },
  {
   "cell_type": "markdown",
   "metadata": {},
   "source": [
    "9. ANA "
   ]
  },
  {
   "cell_type": "code",
   "execution_count": 262,
   "metadata": {},
   "outputs": [],
   "source": [
    "# df_list[8]"
   ]
  },
  {
   "cell_type": "code",
   "execution_count": 263,
   "metadata": {},
   "outputs": [],
   "source": [
    "df_list[8] = df_list[8].drop(df_list[8][pd.isna(df_list[8]['Header 1']) | (df_list[8]['Header 1'] == 'Search ANA')].index)"
   ]
  },
  {
   "cell_type": "code",
   "execution_count": 264,
   "metadata": {},
   "outputs": [],
   "source": [
    "# df_list[8]['Header 1'].unique()"
   ]
  },
  {
   "cell_type": "markdown",
   "metadata": {},
   "source": [
    "10. Cathay Pacific"
   ]
  },
  {
   "cell_type": "code",
   "execution_count": 265,
   "metadata": {},
   "outputs": [],
   "source": [
    "# df_list[9]"
   ]
  },
  {
   "cell_type": "code",
   "execution_count": 266,
   "metadata": {},
   "outputs": [],
   "source": [
    "df_list[9] = df_list[9].drop(df_list[9][pd.isna(df_list[9]['Header 1']) | pd.isna(df_list[9]['Header 1']) & pd.isna(df_list[9]['Header 2']) & pd.isna(df_list[9]['Header 3']) & pd.isna(df_list[9]['Header 4'])].index)\n",
    "df_list[9] = df_list[9].drop(df_list[9][(df_list[9]['Header 2'] == 'Helpful links') | (df_list[9]['content'] == 'Helpful links')].index)"
   ]
  },
  {
   "cell_type": "code",
   "execution_count": 267,
   "metadata": {},
   "outputs": [],
   "source": [
    "# df_list[9]['Header 1'].unique()"
   ]
  },
  {
   "cell_type": "markdown",
   "metadata": {},
   "source": [
    "## Concat all dataframes"
   ]
  },
  {
   "cell_type": "code",
   "execution_count": 268,
   "metadata": {},
   "outputs": [
    {
     "data": {
      "text/html": [
       "<div>\n",
       "<style scoped>\n",
       "    .dataframe tbody tr th:only-of-type {\n",
       "        vertical-align: middle;\n",
       "    }\n",
       "\n",
       "    .dataframe tbody tr th {\n",
       "        vertical-align: top;\n",
       "    }\n",
       "\n",
       "    .dataframe thead th {\n",
       "        text-align: right;\n",
       "    }\n",
       "</style>\n",
       "<table border=\"1\" class=\"dataframe\">\n",
       "  <thead>\n",
       "    <tr style=\"text-align: right;\">\n",
       "      <th></th>\n",
       "      <th>Header 1</th>\n",
       "      <th>Header 3</th>\n",
       "      <th>Header 4</th>\n",
       "      <th>content</th>\n",
       "      <th>Airline</th>\n",
       "      <th>Header 2</th>\n",
       "      <th>Header 5</th>\n",
       "    </tr>\n",
       "  </thead>\n",
       "  <tbody>\n",
       "    <tr>\n",
       "      <th>0</th>\n",
       "      <td>Weight, size, and baggage allowance</td>\n",
       "      <td></td>\n",
       "      <td></td>\n",
       "      <td>Hand baggage  \\nChecked baggage  \\nHow many ba...</td>\n",
       "      <td>france</td>\n",
       "      <td></td>\n",
       "      <td></td>\n",
       "    </tr>\n",
       "    <tr>\n",
       "      <th>1</th>\n",
       "      <td>Weight, size, and baggage allowance</td>\n",
       "      <td>What is my baggage allowance?</td>\n",
       "      <td></td>\n",
       "      <td>Your hand baggage allowance and weight restric...</td>\n",
       "      <td>france</td>\n",
       "      <td></td>\n",
       "      <td></td>\n",
       "    </tr>\n",
       "    <tr>\n",
       "      <th>2</th>\n",
       "      <td>Weight, size, and baggage allowance</td>\n",
       "      <td>Hand baggage dimensions</td>\n",
       "      <td></td>\n",
       "      <td>The maximum dimensions of your hand baggage ar...</td>\n",
       "      <td>france</td>\n",
       "      <td></td>\n",
       "      <td></td>\n",
       "    </tr>\n",
       "    <tr>\n",
       "      <th>3</th>\n",
       "      <td>Weight, size, and baggage allowance</td>\n",
       "      <td>Your hand baggage weight</td>\n",
       "      <td></td>\n",
       "      <td>In the Economy or Premium Economy cabins, your...</td>\n",
       "      <td>france</td>\n",
       "      <td></td>\n",
       "      <td></td>\n",
       "    </tr>\n",
       "    <tr>\n",
       "      <th>4</th>\n",
       "      <td>Weight, size, and baggage allowance</td>\n",
       "      <td>Authorized personal items</td>\n",
       "      <td></td>\n",
       "      <td>Soft plastic bags and packaging made with rudi...</td>\n",
       "      <td>france</td>\n",
       "      <td></td>\n",
       "      <td></td>\n",
       "    </tr>\n",
       "  </tbody>\n",
       "</table>\n",
       "</div>"
      ],
      "text/plain": [
       "                              Header 1                       Header 3  \\\n",
       "0  Weight, size, and baggage allowance                                  \n",
       "1  Weight, size, and baggage allowance  What is my baggage allowance?   \n",
       "2  Weight, size, and baggage allowance        Hand baggage dimensions   \n",
       "3  Weight, size, and baggage allowance       Your hand baggage weight   \n",
       "4  Weight, size, and baggage allowance      Authorized personal items   \n",
       "\n",
       "  Header 4                                            content Airline  \\\n",
       "0           Hand baggage  \\nChecked baggage  \\nHow many ba...  france   \n",
       "1           Your hand baggage allowance and weight restric...  france   \n",
       "2           The maximum dimensions of your hand baggage ar...  france   \n",
       "3           In the Economy or Premium Economy cabins, your...  france   \n",
       "4           Soft plastic bags and packaging made with rudi...  france   \n",
       "\n",
       "  Header 2 Header 5  \n",
       "0                    \n",
       "1                    \n",
       "2                    \n",
       "3                    \n",
       "4                    "
      ]
     },
     "execution_count": 268,
     "metadata": {},
     "output_type": "execute_result"
    }
   ],
   "source": [
    "df_final = pd.concat(df_list, ignore_index=True) # concat 10 datasets\n",
    "df_final = df_final.fillna('') # clean data to concat as string\n",
    "\n",
    "df_final.head()"
   ]
  },
  {
   "cell_type": "code",
   "execution_count": 269,
   "metadata": {},
   "outputs": [
    {
     "data": {
      "text/html": [
       "<div>\n",
       "<style scoped>\n",
       "    .dataframe tbody tr th:only-of-type {\n",
       "        vertical-align: middle;\n",
       "    }\n",
       "\n",
       "    .dataframe tbody tr th {\n",
       "        vertical-align: top;\n",
       "    }\n",
       "\n",
       "    .dataframe thead th {\n",
       "        text-align: right;\n",
       "    }\n",
       "</style>\n",
       "<table border=\"1\" class=\"dataframe\">\n",
       "  <thead>\n",
       "    <tr style=\"text-align: right;\">\n",
       "      <th></th>\n",
       "      <th>Header 1</th>\n",
       "      <th>Airline</th>\n",
       "      <th>Header 2</th>\n",
       "      <th>Concat</th>\n",
       "    </tr>\n",
       "  </thead>\n",
       "  <tbody>\n",
       "    <tr>\n",
       "      <th>0</th>\n",
       "      <td>Weight, size, and baggage allowance</td>\n",
       "      <td>france</td>\n",
       "      <td></td>\n",
       "      <td>\\n\\n\\nHand baggage  \\nChecked baggage  \\nHow m...</td>\n",
       "    </tr>\n",
       "    <tr>\n",
       "      <th>1</th>\n",
       "      <td>Weight, size, and baggage allowance</td>\n",
       "      <td>france</td>\n",
       "      <td></td>\n",
       "      <td>What is my baggage allowance?\\n\\n\\nYour hand b...</td>\n",
       "    </tr>\n",
       "    <tr>\n",
       "      <th>2</th>\n",
       "      <td>Weight, size, and baggage allowance</td>\n",
       "      <td>france</td>\n",
       "      <td></td>\n",
       "      <td>Hand baggage dimensions\\n\\n\\nThe maximum dimen...</td>\n",
       "    </tr>\n",
       "    <tr>\n",
       "      <th>3</th>\n",
       "      <td>Weight, size, and baggage allowance</td>\n",
       "      <td>france</td>\n",
       "      <td></td>\n",
       "      <td>Your hand baggage weight\\n\\n\\nIn the Economy o...</td>\n",
       "    </tr>\n",
       "    <tr>\n",
       "      <th>4</th>\n",
       "      <td>Weight, size, and baggage allowance</td>\n",
       "      <td>france</td>\n",
       "      <td></td>\n",
       "      <td>Authorized personal items\\n\\n\\nSoft plastic ba...</td>\n",
       "    </tr>\n",
       "  </tbody>\n",
       "</table>\n",
       "</div>"
      ],
      "text/plain": [
       "                              Header 1 Airline Header 2  \\\n",
       "0  Weight, size, and baggage allowance  france            \n",
       "1  Weight, size, and baggage allowance  france            \n",
       "2  Weight, size, and baggage allowance  france            \n",
       "3  Weight, size, and baggage allowance  france            \n",
       "4  Weight, size, and baggage allowance  france            \n",
       "\n",
       "                                              Concat  \n",
       "0  \\n\\n\\nHand baggage  \\nChecked baggage  \\nHow m...  \n",
       "1  What is my baggage allowance?\\n\\n\\nYour hand b...  \n",
       "2  Hand baggage dimensions\\n\\n\\nThe maximum dimen...  \n",
       "3  Your hand baggage weight\\n\\n\\nIn the Economy o...  \n",
       "4  Authorized personal items\\n\\n\\nSoft plastic ba...  "
      ]
     },
     "execution_count": 269,
     "metadata": {},
     "output_type": "execute_result"
    }
   ],
   "source": [
    "# concat by columns for each row and drop duplicate columns\n",
    "df_final['Concat'] = df_final['Header 3'] + '\\n' + df_final['Header 4'] + '\\n' + df_final['Header 5'] + '\\n' + df_final['content']\n",
    "df_final.drop(columns=['Header 3', 'Header 4', 'Header 5', 'content'], inplace=True)\n",
    "\n",
    "df_final.head()\n"
   ]
  },
  {
   "cell_type": "code",
   "execution_count": 271,
   "metadata": {},
   "outputs": [
    {
     "data": {
      "text/html": [
       "<div>\n",
       "<style scoped>\n",
       "    .dataframe tbody tr th:only-of-type {\n",
       "        vertical-align: middle;\n",
       "    }\n",
       "\n",
       "    .dataframe tbody tr th {\n",
       "        vertical-align: top;\n",
       "    }\n",
       "\n",
       "    .dataframe thead th {\n",
       "        text-align: right;\n",
       "    }\n",
       "</style>\n",
       "<table border=\"1\" class=\"dataframe\">\n",
       "  <thead>\n",
       "    <tr style=\"text-align: right;\">\n",
       "      <th></th>\n",
       "      <th>Airline</th>\n",
       "      <th>Header 1</th>\n",
       "      <th>Header 2</th>\n",
       "      <th>Concat</th>\n",
       "    </tr>\n",
       "  </thead>\n",
       "  <tbody>\n",
       "    <tr>\n",
       "      <th>0</th>\n",
       "      <td>ana</td>\n",
       "      <td>Carry-On Items</td>\n",
       "      <td></td>\n",
       "      <td>\\n\\n\\nHome Travel Information Baggage Informat...</td>\n",
       "    </tr>\n",
       "    <tr>\n",
       "      <th>1</th>\n",
       "      <td>ana</td>\n",
       "      <td>Carry-On Items</td>\n",
       "      <td>Information for Carry-On Items and Onboard Rules</td>\n",
       "      <td>\\n\\n\\nHere, you'll find guidelines for carry-o...</td>\n",
       "    </tr>\n",
       "    <tr>\n",
       "      <th>2</th>\n",
       "      <td>ana</td>\n",
       "      <td>Changes and Refunds (International Flights)</td>\n",
       "      <td></td>\n",
       "      <td>\\n\\n\\nVoluntary Changes and Refunds Reservatio...</td>\n",
       "    </tr>\n",
       "    <tr>\n",
       "      <th>3</th>\n",
       "      <td>ana</td>\n",
       "      <td>Changes and Refunds (International Flights)</td>\n",
       "      <td>Involuntary Changes and Refunds due to ANA's r...</td>\n",
       "      <td>\\n\\n\\nIf flight delays or cancellations occur ...</td>\n",
       "    </tr>\n",
       "    <tr>\n",
       "      <th>4</th>\n",
       "      <td>ana</td>\n",
       "      <td>Changes and Refunds (International Flights)</td>\n",
       "      <td>Involuntary Changes and Refunds due to Irregul...</td>\n",
       "      <td>\\n\\n\\nCustomers who experience delays and canc...</td>\n",
       "    </tr>\n",
       "  </tbody>\n",
       "</table>\n",
       "</div>"
      ],
      "text/plain": [
       "  Airline                                     Header 1  \\\n",
       "0     ana                               Carry-On Items   \n",
       "1     ana                               Carry-On Items   \n",
       "2     ana  Changes and Refunds (International Flights)   \n",
       "3     ana  Changes and Refunds (International Flights)   \n",
       "4     ana  Changes and Refunds (International Flights)   \n",
       "\n",
       "                                            Header 2  \\\n",
       "0                                                      \n",
       "1   Information for Carry-On Items and Onboard Rules   \n",
       "2                                                      \n",
       "3  Involuntary Changes and Refunds due to ANA's r...   \n",
       "4  Involuntary Changes and Refunds due to Irregul...   \n",
       "\n",
       "                                              Concat  \n",
       "0  \\n\\n\\nHome Travel Information Baggage Informat...  \n",
       "1  \\n\\n\\nHere, you'll find guidelines for carry-o...  \n",
       "2  \\n\\n\\nVoluntary Changes and Refunds Reservatio...  \n",
       "3  \\n\\n\\nIf flight delays or cancellations occur ...  \n",
       "4  \\n\\n\\nCustomers who experience delays and canc...  "
      ]
     },
     "execution_count": 271,
     "metadata": {},
     "output_type": "execute_result"
    }
   ],
   "source": [
    "# concat by rows for each Header 1 & Header 2\n",
    "df_final = df_final.groupby(['Airline', 'Header 1', 'Header 2'], as_index=False)['Concat'].apply(lambda x:'\\n\\n'.join(x))\n",
    "df_final = df_final.drop_duplicates()  \n",
    "df_final.head()"
   ]
  },
  {
   "cell_type": "code",
   "execution_count": 272,
   "metadata": {},
   "outputs": [],
   "source": [
    "# temporarily fill header 1 with header 2 if header 1 is empty\n",
    "df_final.loc[(df_final['Header 1'] == ''), 'Header 1'] = df_final.loc[(df_final['Header 1'] == ''), 'Header 2']"
   ]
  },
  {
   "cell_type": "code",
   "execution_count": 273,
   "metadata": {},
   "outputs": [
    {
     "data": {
      "text/html": [
       "<div>\n",
       "<style scoped>\n",
       "    .dataframe tbody tr th:only-of-type {\n",
       "        vertical-align: middle;\n",
       "    }\n",
       "\n",
       "    .dataframe tbody tr th {\n",
       "        vertical-align: top;\n",
       "    }\n",
       "\n",
       "    .dataframe thead th {\n",
       "        text-align: right;\n",
       "    }\n",
       "</style>\n",
       "<table border=\"1\" class=\"dataframe\">\n",
       "  <thead>\n",
       "    <tr style=\"text-align: right;\">\n",
       "      <th></th>\n",
       "      <th>Airline</th>\n",
       "      <th>Header 1</th>\n",
       "      <th>Header 2</th>\n",
       "      <th>Concat</th>\n",
       "    </tr>\n",
       "  </thead>\n",
       "  <tbody>\n",
       "    <tr>\n",
       "      <th>0</th>\n",
       "      <td>ana</td>\n",
       "      <td>Carry-On Items</td>\n",
       "      <td></td>\n",
       "      <td>\\n\\n\\nHome Travel Information Baggage Informat...</td>\n",
       "    </tr>\n",
       "    <tr>\n",
       "      <th>1</th>\n",
       "      <td>ana</td>\n",
       "      <td>Carry-On Items</td>\n",
       "      <td>Information for Carry-On Items and Onboard Rules</td>\n",
       "      <td>\\n\\n\\nHere, you'll find guidelines for carry-o...</td>\n",
       "    </tr>\n",
       "    <tr>\n",
       "      <th>2</th>\n",
       "      <td>ana</td>\n",
       "      <td>Changes and Refunds (International Flights)</td>\n",
       "      <td></td>\n",
       "      <td>\\n\\n\\nVoluntary Changes and Refunds Reservatio...</td>\n",
       "    </tr>\n",
       "    <tr>\n",
       "      <th>3</th>\n",
       "      <td>ana</td>\n",
       "      <td>Changes and Refunds (International Flights)</td>\n",
       "      <td>Involuntary Changes and Refunds due to ANA's r...</td>\n",
       "      <td>\\n\\n\\nIf flight delays or cancellations occur ...</td>\n",
       "    </tr>\n",
       "    <tr>\n",
       "      <th>4</th>\n",
       "      <td>ana</td>\n",
       "      <td>Changes and Refunds (International Flights)</td>\n",
       "      <td>Involuntary Changes and Refunds due to Irregul...</td>\n",
       "      <td>\\n\\n\\nCustomers who experience delays and canc...</td>\n",
       "    </tr>\n",
       "    <tr>\n",
       "      <th>...</th>\n",
       "      <td>...</td>\n",
       "      <td>...</td>\n",
       "      <td>...</td>\n",
       "      <td>...</td>\n",
       "    </tr>\n",
       "    <tr>\n",
       "      <th>332</th>\n",
       "      <td>turkish</td>\n",
       "      <td>Cabin baggage terms and materials that are all...</td>\n",
       "      <td>Cabin baggage terms and materials that are all...</td>\n",
       "      <td>\\n\\n\\nThe baggage you are carrying must be of ...</td>\n",
       "    </tr>\n",
       "    <tr>\n",
       "      <th>333</th>\n",
       "      <td>turkish</td>\n",
       "      <td>Checked baggage</td>\n",
       "      <td>Checked baggage</td>\n",
       "      <td>\\n\\n\\nTo avoid any problems on your journey, y...</td>\n",
       "    </tr>\n",
       "    <tr>\n",
       "      <th>334</th>\n",
       "      <td>turkish</td>\n",
       "      <td>LOST, DAMAGED, AND DELAYED BAGGAGE</td>\n",
       "      <td></td>\n",
       "      <td>\\n\\n\\nLost Baggage Means of application for yo...</td>\n",
       "    </tr>\n",
       "    <tr>\n",
       "      <th>335</th>\n",
       "      <td>turkish</td>\n",
       "      <td>Materials prohibited in the cabin and in cabin...</td>\n",
       "      <td>Materials prohibited in the cabin and in cabin...</td>\n",
       "      <td>\\n\\n\\nThere are some restrictions on items tha...</td>\n",
       "    </tr>\n",
       "    <tr>\n",
       "      <th>336</th>\n",
       "      <td>turkish</td>\n",
       "      <td>Restricted Items and Allowance</td>\n",
       "      <td>Restricted Items and Allowance</td>\n",
       "      <td>\\n\\n\\nLiquid and semi-solid substances in your...</td>\n",
       "    </tr>\n",
       "  </tbody>\n",
       "</table>\n",
       "<p>337 rows × 4 columns</p>\n",
       "</div>"
      ],
      "text/plain": [
       "     Airline                                           Header 1  \\\n",
       "0        ana                                     Carry-On Items   \n",
       "1        ana                                     Carry-On Items   \n",
       "2        ana        Changes and Refunds (International Flights)   \n",
       "3        ana        Changes and Refunds (International Flights)   \n",
       "4        ana        Changes and Refunds (International Flights)   \n",
       "..       ...                                                ...   \n",
       "332  turkish  Cabin baggage terms and materials that are all...   \n",
       "333  turkish                                    Checked baggage   \n",
       "334  turkish                 LOST, DAMAGED, AND DELAYED BAGGAGE   \n",
       "335  turkish  Materials prohibited in the cabin and in cabin...   \n",
       "336  turkish                     Restricted Items and Allowance   \n",
       "\n",
       "                                              Header 2  \\\n",
       "0                                                        \n",
       "1     Information for Carry-On Items and Onboard Rules   \n",
       "2                                                        \n",
       "3    Involuntary Changes and Refunds due to ANA's r...   \n",
       "4    Involuntary Changes and Refunds due to Irregul...   \n",
       "..                                                 ...   \n",
       "332  Cabin baggage terms and materials that are all...   \n",
       "333                                    Checked baggage   \n",
       "334                                                      \n",
       "335  Materials prohibited in the cabin and in cabin...   \n",
       "336                     Restricted Items and Allowance   \n",
       "\n",
       "                                                Concat  \n",
       "0    \\n\\n\\nHome Travel Information Baggage Informat...  \n",
       "1    \\n\\n\\nHere, you'll find guidelines for carry-o...  \n",
       "2    \\n\\n\\nVoluntary Changes and Refunds Reservatio...  \n",
       "3    \\n\\n\\nIf flight delays or cancellations occur ...  \n",
       "4    \\n\\n\\nCustomers who experience delays and canc...  \n",
       "..                                                 ...  \n",
       "332  \\n\\n\\nThe baggage you are carrying must be of ...  \n",
       "333  \\n\\n\\nTo avoid any problems on your journey, y...  \n",
       "334  \\n\\n\\nLost Baggage Means of application for yo...  \n",
       "335  \\n\\n\\nThere are some restrictions on items tha...  \n",
       "336  \\n\\n\\nLiquid and semi-solid substances in your...  \n",
       "\n",
       "[337 rows x 4 columns]"
      ]
     },
     "execution_count": 273,
     "metadata": {},
     "output_type": "execute_result"
    }
   ],
   "source": [
    "df_final"
   ]
  },
  {
   "cell_type": "markdown",
   "metadata": {},
   "source": [
    "## Write to csv"
   ]
  },
  {
   "cell_type": "code",
   "execution_count": 274,
   "metadata": {},
   "outputs": [
    {
     "name": "stdout",
     "output_type": "stream",
     "text": [
      "Scraped word written to policy_chunks.csv\n"
     ]
    }
   ],
   "source": [
    "df_final.to_csv('/Users/kay/Desktop/nlp/reviews_scrape/policy/chunking/policy_chunks.csv', index=False)\n",
    "print(\"Scraped word written to policy_chunks.csv\")"
   ]
  }
 ],
 "metadata": {
  "kernelspec": {
   "display_name": "base",
   "language": "python",
   "name": "python3"
  },
  "language_info": {
   "codemirror_mode": {
    "name": "ipython",
    "version": 3
   },
   "file_extension": ".py",
   "mimetype": "text/x-python",
   "name": "python",
   "nbconvert_exporter": "python",
   "pygments_lexer": "ipython3",
   "version": "3.11.4"
  }
 },
 "nbformat": 4,
 "nbformat_minor": 2
}
